{
 "cells": [
  {
   "cell_type": "code",
   "execution_count": 1,
   "metadata": {},
   "outputs": [],
   "source": [
    "import dgl\n",
    "import dgl.nn as dglnn\n",
    "import torch.nn as nn\n",
    "import torch.nn.functional as F\n",
    "import torch\n",
    "\n",
    "\n",
    "# Define a Heterograph Conv model\n",
    "\n",
    "class RGCN(nn.Module):\n",
    "    def __init__(self, emb_types, emb_size, hid_feats, out_feats, rel_names):\n",
    "        super().__init__()\n",
    "        # https://www.jianshu.com/p/767950b560c4\n",
    "        embed_dict = {ntype : nn.Parameter(torch.Tensor(emb_types[ntype], emb_size))\n",
    "                      for ntype in emb_types.keys()}\n",
    "        for key, embed in embed_dict.items():\n",
    "            nn.init.xavier_uniform_(embed)\n",
    "        self.embed = nn.ParameterDict(embed_dict)\n",
    "        self.conv1 = dglnn.HeteroGraphConv({\n",
    "            rel: dglnn.GraphConv(emb_size, hid_feats)\n",
    "            for rel in rel_names}, aggregate='sum')\n",
    "        self.conv2 = dglnn.HeteroGraphConv({\n",
    "            rel: dglnn.GraphConv(hid_feats, out_feats)\n",
    "            for rel in rel_names}, aggregate='sum')\n",
    "\n",
    "    def forward(self, graph):\n",
    "        # inputs are features of nodes\n",
    "        h = self.conv1(graph, self.embed)\n",
    "        print(h)\n",
    "        h = {k: F.relu(v) for k, v in h.items()}\n",
    "        h = self.conv2(graph, h)\n",
    "        return h"
   ]
  },
  {
   "cell_type": "code",
   "execution_count": 2,
   "metadata": {},
   "outputs": [
    {
     "data": {
      "text/plain": [
       "Graph(num_nodes={'Brand': 1900, 'Customer': 11041, 'Product': 5334, 'Review': 77071},\n",
       "      num_edges={('Brand', 'rev_SOLD_BY', 'Product'): 5555, ('Customer', 'WROTE', 'Review'): 77071, ('Product', 'SOLD_BY', 'Brand'): 5555, ('Product', 'rev_REVIEW_OF', 'Review'): 77071, ('Review', 'REVIEW_OF', 'Product'): 77071, ('Review', 'rev_WROTE', 'Customer'): 77071},\n",
       "      metagraph=[('Brand', 'Product', 'rev_SOLD_BY'), ('Product', 'Brand', 'SOLD_BY'), ('Product', 'Review', 'rev_REVIEW_OF'), ('Customer', 'Review', 'WROTE'), ('Review', 'Product', 'REVIEW_OF'), ('Review', 'Customer', 'rev_WROTE')])"
      ]
     },
     "execution_count": 2,
     "metadata": {},
     "output_type": "execute_result"
    }
   ],
   "source": [
    "g = dgl.load_graphs(\"./graphs/industrial_and_scientific_5_core.dgl\")[0][0]\n",
    "g"
   ]
  },
  {
   "cell_type": "code",
   "execution_count": 3,
   "metadata": {},
   "outputs": [],
   "source": [
    "model = RGCN({x: g.number_of_nodes(x) for x in g.ntypes}, 512, 256, 2, g.etypes)\n",
    "\n",
    "labels = g.nodes[\"Review\"].data[\"Positive\"]\n",
    "train_mask = g.nodes[\"Review\"].data[\"train_mask\"]\n",
    "test_mask = g.nodes[\"Review\"].data[\"test_mask\"]"
   ]
  },
  {
   "cell_type": "code",
   "execution_count": 4,
   "metadata": {},
   "outputs": [
    {
     "name": "stdout",
     "output_type": "stream",
     "text": [
      "{'Brand': tensor([[ 0.0037,  0.0077, -0.0607,  ..., -0.0013,  0.0030, -0.0088],\n",
      "        [ 0.0034,  0.0066, -0.0284,  ...,  0.0020,  0.0127,  0.0426],\n",
      "        [-0.0022,  0.0029, -0.0073,  ...,  0.0356, -0.0299, -0.0025],\n",
      "        ...,\n",
      "        [ 0.0234, -0.0025, -0.0008,  ..., -0.0257, -0.0016,  0.0036],\n",
      "        [ 0.0129,  0.0355, -0.0084,  ..., -0.0423,  0.0018, -0.0011],\n",
      "        [-0.0307, -0.0008, -0.0171,  ...,  0.0137, -0.0144, -0.0030]],\n",
      "       grad_fn=<SumBackward1>), 'Customer': tensor([[ 0.0024,  0.0092,  0.0089,  ...,  0.0051,  0.0074, -0.0017],\n",
      "        [-0.0068,  0.0031,  0.0002,  ..., -0.0018,  0.0055,  0.0037],\n",
      "        [ 0.0013,  0.0045, -0.0037,  ..., -0.0033, -0.0134, -0.0054],\n",
      "        ...,\n",
      "        [ 0.0067,  0.0032,  0.0035,  ..., -0.0046,  0.0015,  0.0016],\n",
      "        [-0.0068, -0.0008, -0.0126,  ...,  0.0017,  0.0066,  0.0184],\n",
      "        [-0.0057,  0.0047, -0.0077,  ...,  0.0022, -0.0037,  0.0034]],\n",
      "       grad_fn=<SumBackward1>), 'Product': tensor([[-0.0072,  0.0053,  0.0118,  ..., -0.0371, -0.0005, -0.0018],\n",
      "        [-0.0105,  0.0169,  0.0071,  ..., -0.0371,  0.0012,  0.0058],\n",
      "        [ 0.0044, -0.0044,  0.0047,  ...,  0.0072,  0.0155,  0.0047],\n",
      "        ...,\n",
      "        [ 0.0085, -0.0264, -0.0162,  ..., -0.0063,  0.0271, -0.0183],\n",
      "        [ 0.0090,  0.0078, -0.0143,  ..., -0.0027, -0.0076,  0.0071],\n",
      "        [ 0.0020,  0.0074, -0.0177,  ..., -0.0083,  0.0006, -0.0252]],\n",
      "       grad_fn=<SumBackward1>), 'Review': tensor([[-0.0011,  0.0039, -0.0051,  ..., -0.0026,  0.0042, -0.0006],\n",
      "        [ 0.0174, -0.0011, -0.0091,  ..., -0.0024,  0.0030, -0.0047],\n",
      "        [-0.0047, -0.0022, -0.0122,  ..., -0.0073,  0.0034,  0.0052],\n",
      "        ...,\n",
      "        [ 0.0065, -0.0146, -0.0003,  ..., -0.0022, -0.0122,  0.0095],\n",
      "        [ 0.0059, -0.0126, -0.0069,  ..., -0.0023, -0.0149,  0.0075],\n",
      "        [ 0.0107, -0.0181, -0.0062,  ...,  0.0051, -0.0056, -0.0048]],\n",
      "       grad_fn=<SumBackward1>)}\n"
     ]
    },
    {
     "name": "stderr",
     "output_type": "stream",
     "text": [
      "/opt/anaconda3/envs/huggingface/lib/python3.9/site-packages/torch/autocast_mode.py:141: UserWarning: User provided device_type of 'cuda', but CUDA is not available. Disabling\n",
      "  warnings.warn('User provided device_type of \\'cuda\\', but CUDA is not available. Disabling')\n"
     ]
    },
    {
     "name": "stdout",
     "output_type": "stream",
     "text": [
      "Epoch: 0 Loss: 0.6961133480072021\n"
     ]
    }
   ],
   "source": [
    "opt = torch.optim.Adam(model.parameters())\n",
    "\n",
    "for epoch in range(2):\n",
    "    model.train()\n",
    "\n",
    "    logits = model(g)[\"Review\"]\n",
    "    loss = F.cross_entropy(logits[train_mask == 1], labels[train_mask == 1].type(torch.long))\n",
    "    opt.zero_grad()\n",
    "    loss.backward()\n",
    "    opt.step()\n",
    "    print(\"Epoch:\", epoch, \"Loss:\", loss.item())\n",
    "    break"
   ]
  },
  {
   "cell_type": "code",
   "execution_count": 26,
   "metadata": {},
   "outputs": [],
   "source": [
    "model.eval()\n",
    "preds = model(g)[\"Review\"][test_mask == 1].detach().numpy()\n",
    "y_test = labels[test_mask == 1]"
   ]
  },
  {
   "cell_type": "code",
   "execution_count": 27,
   "metadata": {},
   "outputs": [
    {
     "name": "stdout",
     "output_type": "stream",
     "text": [
      "              precision    recall  f1-score   support\n",
      "\n",
      "         0.0       0.25      0.22      0.23      4750\n",
      "         1.0       0.89      0.91      0.90     33786\n",
      "\n",
      "    accuracy                           0.82     38536\n",
      "   macro avg       0.57      0.56      0.57     38536\n",
      "weighted avg       0.81      0.82      0.82     38536\n",
      "\n"
     ]
    }
   ],
   "source": [
    "from sklearn.metrics import classification_report\n",
    "\n",
    "print(classification_report(y_test, preds.argmax(1)))"
   ]
  },
  {
   "cell_type": "code",
   "execution_count": 28,
   "metadata": {},
   "outputs": [
    {
     "data": {
      "text/plain": [
       "0.8987780519327928"
      ]
     },
     "execution_count": 28,
     "metadata": {},
     "output_type": "execute_result"
    }
   ],
   "source": [
    "from sklearn.metrics import f1_score\n",
    "f1_score(y_test, preds.argmax(1))"
   ]
  },
  {
   "cell_type": "code",
   "execution_count": 29,
   "metadata": {},
   "outputs": [
    {
     "data": {
      "text/plain": [
       "0.9056413899248209"
      ]
     },
     "execution_count": 29,
     "metadata": {},
     "output_type": "execute_result"
    }
   ],
   "source": [
    "from sklearn.metrics import recall_score\n",
    "recall_score(y_test, preds.argmax(1))"
   ]
  },
  {
   "cell_type": "code",
   "execution_count": 30,
   "metadata": {},
   "outputs": [
    {
     "data": {
      "text/plain": [
       "0.8920179581365518"
      ]
     },
     "execution_count": 30,
     "metadata": {},
     "output_type": "execute_result"
    }
   ],
   "source": [
    "from sklearn.metrics import precision_score\n",
    "precision_score(y_test, preds.argmax(1))"
   ]
  },
  {
   "cell_type": "code",
   "execution_count": 31,
   "metadata": {},
   "outputs": [
    {
     "data": {
      "text/plain": [
       "0.8211542453809425"
      ]
     },
     "execution_count": 31,
     "metadata": {},
     "output_type": "execute_result"
    }
   ],
   "source": [
    "from sklearn.metrics import accuracy_score\n",
    "accuracy_score(y_test, preds.argmax(1))"
   ]
  },
  {
   "cell_type": "code",
   "execution_count": 32,
   "metadata": {},
   "outputs": [],
   "source": [
    "customerSim = (model.embed[\"Customer\"] @ model.embed[\"Customer\"].T)"
   ]
  },
  {
   "cell_type": "code",
   "execution_count": 33,
   "metadata": {},
   "outputs": [
    {
     "data": {
      "text/plain": [
       "torch.Size([11041, 11041])"
      ]
     },
     "execution_count": 33,
     "metadata": {},
     "output_type": "execute_result"
    }
   ],
   "source": [
    "customerSim.shape"
   ]
  },
  {
   "cell_type": "code",
   "execution_count": 35,
   "metadata": {},
   "outputs": [
    {
     "data": {
      "text/plain": [
       "torch.Size([77071, 77071])"
      ]
     },
     "execution_count": 35,
     "metadata": {},
     "output_type": "execute_result"
    }
   ],
   "source": [
    "reviewSim = (model.embed[\"Review\"] @ model.embed[\"Review\"].T)\n",
    "reviewSim.shape"
   ]
  },
  {
   "cell_type": "code",
   "execution_count": 38,
   "metadata": {},
   "outputs": [
    {
     "data": {
      "text/plain": [
       "tensor([ 0.2834,  0.3500,  0.2826,  ..., -0.0085,  0.1574,  0.1536],\n",
       "       grad_fn=<SelectBackward0>)"
      ]
     },
     "execution_count": 38,
     "metadata": {},
     "output_type": "execute_result"
    }
   ],
   "source": [
    "reviewSim[100]"
   ]
  },
  {
   "cell_type": "code",
   "execution_count": null,
   "metadata": {},
   "outputs": [],
   "source": []
  }
 ],
 "metadata": {
  "interpreter": {
   "hash": "7f0fb73b74445d6392909c9d469b21cbfa1ec308c4aeb674f6b2b586eed9f638"
  },
  "kernelspec": {
   "display_name": "Python 3.9.7 ('huggingface')",
   "language": "python",
   "name": "python3"
  },
  "language_info": {
   "codemirror_mode": {
    "name": "ipython",
    "version": 3
   },
   "file_extension": ".py",
   "mimetype": "text/x-python",
   "name": "python",
   "nbconvert_exporter": "python",
   "pygments_lexer": "ipython3",
   "version": "3.9.7"
  },
  "orig_nbformat": 4
 },
 "nbformat": 4,
 "nbformat_minor": 2
}
