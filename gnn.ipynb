{
 "cells": [
  {
   "cell_type": "code",
   "execution_count": 1,
   "metadata": {},
   "outputs": [],
   "source": [
    "import dgl\n",
    "import dgl.nn as dglnn\n",
    "import torch.nn as nn\n",
    "import torch.nn.functional as F\n",
    "import torch\n",
    "\n",
    "\n",
    "# Define a Heterograph Conv model\n",
    "\n",
    "class RGCN(nn.Module):\n",
    "    def __init__(self, emb_types, emb_size, hid_feats, out_feats, rel_names):\n",
    "        super().__init__()\n",
    "        # https://www.jianshu.com/p/767950b560c4\n",
    "        embed_dict = {ntype : nn.Parameter(torch.Tensor(emb_types[ntype], emb_size))\n",
    "                      for ntype in emb_types.keys()}\n",
    "        for key, embed in embed_dict.items():\n",
    "            nn.init.xavier_uniform_(embed)\n",
    "        self.embed = nn.ParameterDict(embed_dict)\n",
    "        self.conv1 = dglnn.HeteroGraphConv({\n",
    "            rel: dglnn.GraphConv(emb_size, hid_feats)\n",
    "            for rel in rel_names}, aggregate='sum')\n",
    "        self.conv2 = dglnn.HeteroGraphConv({\n",
    "            rel: dglnn.GraphConv(hid_feats, out_feats)\n",
    "            for rel in rel_names}, aggregate='sum')\n",
    "\n",
    "    def forward(self, graph):\n",
    "        # inputs are features of nodes\n",
    "        h = self.conv1(graph, self.embed)\n",
    "        h = {k: F.relu(v) for k, v in h.items()}\n",
    "        h = self.conv2(graph, h)\n",
    "        return h"
   ]
  },
  {
   "cell_type": "code",
   "execution_count": 2,
   "metadata": {},
   "outputs": [
    {
     "data": {
      "text/plain": [
       "Graph(num_nodes={'Brand': 1900, 'Customer': 11041, 'Product': 5334, 'Review': 77071},\n",
       "      num_edges={('Brand', 'rev_SOLD_BY', 'Product'): 5555, ('Customer', 'WROTE', 'Review'): 77071, ('Product', 'SOLD_BY', 'Brand'): 5555, ('Product', 'rev_REVIEW_OF', 'Review'): 77071, ('Review', 'REVIEW_OF', 'Product'): 77071, ('Review', 'rev_WROTE', 'Customer'): 77071},\n",
       "      metagraph=[('Brand', 'Product', 'rev_SOLD_BY'), ('Product', 'Brand', 'SOLD_BY'), ('Product', 'Review', 'rev_REVIEW_OF'), ('Customer', 'Review', 'WROTE'), ('Review', 'Product', 'REVIEW_OF'), ('Review', 'Customer', 'rev_WROTE')])"
      ]
     },
     "execution_count": 2,
     "metadata": {},
     "output_type": "execute_result"
    }
   ],
   "source": [
    "g = dgl.load_graphs(\"./graphs/industrial_and_scientific_5_core.dgl\")[0][0]\n",
    "g"
   ]
  },
  {
   "cell_type": "code",
   "execution_count": 3,
   "metadata": {},
   "outputs": [],
   "source": [
    "model = RGCN({x: g.number_of_nodes(x) for x in g.ntypes}, 512, 256, 2, g.etypes)\n",
    "\n",
    "labels = g.nodes[\"Review\"].data[\"Positive\"]\n",
    "train_mask = g.nodes[\"Review\"].data[\"train_mask\"]\n",
    "test_mask = g.nodes[\"Review\"].data[\"test_mask\"]"
   ]
  },
  {
   "cell_type": "code",
   "execution_count": 4,
   "metadata": {},
   "outputs": [
    {
     "name": "stderr",
     "output_type": "stream",
     "text": [
      "/opt/anaconda3/envs/huggingface/lib/python3.9/site-packages/torch/autocast_mode.py:141: UserWarning: User provided device_type of 'cuda', but CUDA is not available. Disabling\n",
      "  warnings.warn('User provided device_type of \\'cuda\\', but CUDA is not available. Disabling')\n"
     ]
    },
    {
     "name": "stdout",
     "output_type": "stream",
     "text": [
      "Epoch: 0 Loss: 0.6938824653625488\n",
      "Epoch: 1 Loss: 0.6721258163452148\n",
      "Epoch: 2 Loss: 0.6499289870262146\n",
      "Epoch: 3 Loss: 0.6240671277046204\n",
      "Epoch: 4 Loss: 0.5933253765106201\n",
      "Epoch: 5 Loss: 0.5572666525840759\n",
      "Epoch: 6 Loss: 0.5162279605865479\n",
      "Epoch: 7 Loss: 0.4714601933956146\n",
      "Epoch: 8 Loss: 0.4250355660915375\n",
      "Epoch: 9 Loss: 0.37954750657081604\n",
      "Epoch: 10 Loss: 0.3377084732055664\n",
      "Epoch: 11 Loss: 0.30186063051223755\n",
      "Epoch: 12 Loss: 0.27343881130218506\n",
      "Epoch: 13 Loss: 0.25256577134132385\n",
      "Epoch: 14 Loss: 0.23805256187915802\n",
      "Epoch: 15 Loss: 0.22785340249538422\n",
      "Epoch: 16 Loss: 0.2197447121143341\n",
      "Epoch: 17 Loss: 0.21191327273845673\n",
      "Epoch: 18 Loss: 0.20328596234321594\n",
      "Epoch: 19 Loss: 0.19355598092079163\n",
      "Epoch: 20 Loss: 0.18298961222171783\n",
      "Epoch: 21 Loss: 0.1721925437450409\n",
      "Epoch: 22 Loss: 0.16190926730632782\n",
      "Epoch: 23 Loss: 0.15282286703586578\n",
      "Epoch: 24 Loss: 0.14549055695533752\n",
      "Epoch: 25 Loss: 0.14025470614433289\n",
      "Epoch: 26 Loss: 0.1369982808828354\n",
      "Epoch: 27 Loss: 0.1351412832736969\n",
      "Epoch: 28 Loss: 0.1338677555322647\n",
      "Epoch: 29 Loss: 0.13241052627563477\n",
      "Epoch: 30 Loss: 0.1302967071533203\n",
      "Epoch: 31 Loss: 0.12745898962020874\n",
      "Epoch: 32 Loss: 0.12414495646953583\n",
      "Epoch: 33 Loss: 0.12076090276241302\n",
      "Epoch: 34 Loss: 0.11770696192979813\n",
      "Epoch: 35 Loss: 0.11525759100914001\n",
      "Epoch: 36 Loss: 0.11350247263908386\n",
      "Epoch: 37 Loss: 0.11235742270946503\n",
      "Epoch: 38 Loss: 0.11161936819553375\n",
      "Epoch: 39 Loss: 0.11104726046323776\n",
      "Epoch: 40 Loss: 0.11043102294206619\n",
      "Epoch: 41 Loss: 0.10963597148656845\n",
      "Epoch: 42 Loss: 0.10861753672361374\n",
      "Epoch: 43 Loss: 0.10741808265447617\n",
      "Epoch: 44 Loss: 0.1061410903930664\n",
      "Epoch: 45 Loss: 0.10491794347763062\n",
      "Epoch: 46 Loss: 0.10387006402015686\n",
      "Epoch: 47 Loss: 0.10307267308235168\n",
      "Epoch: 48 Loss: 0.10252965241670609\n",
      "Epoch: 49 Loss: 0.10217262804508209\n",
      "Epoch: 50 Loss: 0.10188750922679901\n",
      "Epoch: 51 Loss: 0.1015627458691597\n",
      "Epoch: 52 Loss: 0.10113264620304108\n",
      "Epoch: 53 Loss: 0.10059621185064316\n",
      "Epoch: 54 Loss: 0.1000058501958847\n",
      "Epoch: 55 Loss: 0.0994374081492424\n",
      "Epoch: 56 Loss: 0.09895510226488113\n",
      "Epoch: 57 Loss: 0.09858715534210205\n",
      "Epoch: 58 Loss: 0.09832021594047546\n",
      "Epoch: 59 Loss: 0.0981115847826004\n",
      "Epoch: 60 Loss: 0.0979100838303566\n",
      "Epoch: 61 Loss: 0.09767746180295944\n",
      "Epoch: 62 Loss: 0.09740027785301208\n",
      "Epoch: 63 Loss: 0.0970919132232666\n",
      "Epoch: 64 Loss: 0.09678418934345245\n",
      "Epoch: 65 Loss: 0.09651043266057968\n",
      "Epoch: 66 Loss: 0.09628882259130478\n",
      "Epoch: 67 Loss: 0.09611652791500092\n",
      "Epoch: 68 Loss: 0.09597357362508774\n",
      "Epoch: 69 Loss: 0.09583479166030884\n",
      "Epoch: 70 Loss: 0.09568243473768234\n",
      "Epoch: 71 Loss: 0.09551315009593964\n",
      "Epoch: 72 Loss: 0.09533662348985672\n",
      "Epoch: 73 Loss: 0.09516812115907669\n",
      "Epoch: 74 Loss: 0.09501954913139343\n",
      "Epoch: 75 Loss: 0.09489355236291885\n",
      "Epoch: 76 Loss: 0.09478335082530975\n",
      "Epoch: 77 Loss: 0.09467805922031403\n",
      "Epoch: 78 Loss: 0.09456919878721237\n",
      "Epoch: 79 Loss: 0.09445437788963318\n",
      "Epoch: 80 Loss: 0.09433786571025848\n",
      "Epoch: 81 Loss: 0.09422684460878372\n",
      "Epoch: 82 Loss: 0.09412743151187897\n",
      "Epoch: 83 Loss: 0.09404142200946808\n",
      "Epoch: 84 Loss: 0.09396553784608841\n",
      "Epoch: 85 Loss: 0.0938936397433281\n",
      "Epoch: 86 Loss: 0.09382064640522003\n",
      "Epoch: 87 Loss: 0.09374513477087021\n",
      "Epoch: 88 Loss: 0.09366944432258606\n",
      "Epoch: 89 Loss: 0.09359734505414963\n",
      "Epoch: 90 Loss: 0.09353147447109222\n",
      "Epoch: 91 Loss: 0.0934719666838646\n",
      "Epoch: 92 Loss: 0.0934167131781578\n",
      "Epoch: 93 Loss: 0.09336306154727936\n",
      "Epoch: 94 Loss: 0.09330951422452927\n",
      "Epoch: 95 Loss: 0.09325625747442245\n",
      "Epoch: 96 Loss: 0.09320474416017532\n",
      "Epoch: 97 Loss: 0.09315618872642517\n",
      "Epoch: 98 Loss: 0.09311073273420334\n",
      "Epoch: 99 Loss: 0.09306731075048447\n"
     ]
    }
   ],
   "source": [
    "opt = torch.optim.Adam(model.parameters())\n",
    "\n",
    "for epoch in range(100):\n",
    "    model.train()\n",
    "\n",
    "    logits = model(g)[\"Review\"]\n",
    "    loss = F.cross_entropy(logits[train_mask == 1], labels[train_mask == 1].type(torch.long))\n",
    "    opt.zero_grad()\n",
    "    loss.backward()\n",
    "    opt.step()\n",
    "    print(\"Epoch:\", epoch, \"Loss:\", loss.item())"
   ]
  },
  {
   "cell_type": "code",
   "execution_count": 26,
   "metadata": {},
   "outputs": [],
   "source": [
    "model.eval()\n",
    "preds = model(g)[\"Review\"][test_mask == 1].detach().numpy()\n",
    "y_test = labels[test_mask == 1]"
   ]
  },
  {
   "cell_type": "code",
   "execution_count": 27,
   "metadata": {},
   "outputs": [
    {
     "name": "stdout",
     "output_type": "stream",
     "text": [
      "              precision    recall  f1-score   support\n",
      "\n",
      "         0.0       0.25      0.22      0.23      4750\n",
      "         1.0       0.89      0.91      0.90     33786\n",
      "\n",
      "    accuracy                           0.82     38536\n",
      "   macro avg       0.57      0.56      0.57     38536\n",
      "weighted avg       0.81      0.82      0.82     38536\n",
      "\n"
     ]
    }
   ],
   "source": [
    "from sklearn.metrics import classification_report\n",
    "\n",
    "print(classification_report(y_test, preds.argmax(1)))"
   ]
  },
  {
   "cell_type": "code",
   "execution_count": 28,
   "metadata": {},
   "outputs": [
    {
     "data": {
      "text/plain": [
       "0.8987780519327928"
      ]
     },
     "execution_count": 28,
     "metadata": {},
     "output_type": "execute_result"
    }
   ],
   "source": [
    "from sklearn.metrics import f1_score\n",
    "f1_score(y_test, preds.argmax(1))"
   ]
  },
  {
   "cell_type": "code",
   "execution_count": 29,
   "metadata": {},
   "outputs": [
    {
     "data": {
      "text/plain": [
       "0.9056413899248209"
      ]
     },
     "execution_count": 29,
     "metadata": {},
     "output_type": "execute_result"
    }
   ],
   "source": [
    "from sklearn.metrics import recall_score\n",
    "recall_score(y_test, preds.argmax(1))"
   ]
  },
  {
   "cell_type": "code",
   "execution_count": 30,
   "metadata": {},
   "outputs": [
    {
     "data": {
      "text/plain": [
       "0.8920179581365518"
      ]
     },
     "execution_count": 30,
     "metadata": {},
     "output_type": "execute_result"
    }
   ],
   "source": [
    "from sklearn.metrics import precision_score\n",
    "precision_score(y_test, preds.argmax(1))"
   ]
  },
  {
   "cell_type": "code",
   "execution_count": 31,
   "metadata": {},
   "outputs": [
    {
     "data": {
      "text/plain": [
       "0.8211542453809425"
      ]
     },
     "execution_count": 31,
     "metadata": {},
     "output_type": "execute_result"
    }
   ],
   "source": [
    "from sklearn.metrics import accuracy_score\n",
    "accuracy_score(y_test, preds.argmax(1))"
   ]
  },
  {
   "cell_type": "code",
   "execution_count": 32,
   "metadata": {},
   "outputs": [],
   "source": [
    "customerSim = (model.embed[\"Customer\"] @ model.embed[\"Customer\"].T)"
   ]
  },
  {
   "cell_type": "code",
   "execution_count": 33,
   "metadata": {},
   "outputs": [
    {
     "data": {
      "text/plain": [
       "torch.Size([11041, 11041])"
      ]
     },
     "execution_count": 33,
     "metadata": {},
     "output_type": "execute_result"
    }
   ],
   "source": [
    "customerSim.shape"
   ]
  },
  {
   "cell_type": "code",
   "execution_count": 35,
   "metadata": {},
   "outputs": [
    {
     "data": {
      "text/plain": [
       "torch.Size([77071, 77071])"
      ]
     },
     "execution_count": 35,
     "metadata": {},
     "output_type": "execute_result"
    }
   ],
   "source": [
    "reviewSim = (model.embed[\"Review\"] @ model.embed[\"Review\"].T)\n",
    "reviewSim.shape"
   ]
  },
  {
   "cell_type": "code",
   "execution_count": 38,
   "metadata": {},
   "outputs": [
    {
     "data": {
      "text/plain": [
       "tensor([ 0.2834,  0.3500,  0.2826,  ..., -0.0085,  0.1574,  0.1536],\n",
       "       grad_fn=<SelectBackward0>)"
      ]
     },
     "execution_count": 38,
     "metadata": {},
     "output_type": "execute_result"
    }
   ],
   "source": [
    "reviewSim[100]"
   ]
  },
  {
   "cell_type": "code",
   "execution_count": null,
   "metadata": {},
   "outputs": [],
   "source": []
  }
 ],
 "metadata": {
  "interpreter": {
   "hash": "7f0fb73b74445d6392909c9d469b21cbfa1ec308c4aeb674f6b2b586eed9f638"
  },
  "kernelspec": {
   "display_name": "Python 3.9.7 ('huggingface')",
   "language": "python",
   "name": "python3"
  },
  "language_info": {
   "codemirror_mode": {
    "name": "ipython",
    "version": 3
   },
   "file_extension": ".py",
   "mimetype": "text/x-python",
   "name": "python",
   "nbconvert_exporter": "python",
   "pygments_lexer": "ipython3",
   "version": "3.9.7"
  },
  "orig_nbformat": 4
 },
 "nbformat": 4,
 "nbformat_minor": 2
}
