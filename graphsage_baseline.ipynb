{
 "cells": [
  {
   "cell_type": "code",
   "execution_count": 1,
   "metadata": {},
   "outputs": [],
   "source": [
    "import cl_graph_bert as cgm\n",
    "import torch\n",
    "from torch import nn\n",
    "import json\n",
    "from transformers import BertModel, BertConfig, BertTokenizer, AdamW\n",
    "import tqdm\n",
    "\n",
    "from torch.utils.data import Dataset, DataLoader"
   ]
  },
  {
   "cell_type": "code",
   "execution_count": 2,
   "metadata": {},
   "outputs": [],
   "source": [
    "import dgl\n",
    "g = dgl.load_graphs(\"./graphs/industrial_and_scientific_5_core_new.dgl\")[0][0]"
   ]
  },
  {
   "cell_type": "code",
   "execution_count": 3,
   "metadata": {},
   "outputs": [],
   "source": [
    "sampler = dgl.dataloading.NeighborSampler([5, 10], prefetch_node_feats={\"Review\": [\"input_ids\", \"attention_mask\", \"token_type_ids\"]})\n",
    "numReviews = num_reviews = g.num_nodes(\"Review\")\n",
    "\n",
    "train_dataloader = dgl.dataloading.DataLoader(g, {\"Review\":torch.arange(num_reviews//2+1)}, sampler,\n",
    "                batch_size=16, shuffle=True, drop_last=False, num_workers=4)\n",
    "\n",
    "test_dataloader = dgl.dataloading.DataLoader(g, {\"Review\":torch.arange(num_reviews//2, num_reviews)}, sampler,\n",
    "                batch_size=16, shuffle=True, drop_last=False, num_workers=4)"
   ]
  },
  {
   "cell_type": "code",
   "execution_count": 19,
   "metadata": {},
   "outputs": [],
   "source": [
    "import dgl.nn as dglnn\n",
    "import torch.nn.functional as F\n",
    "\n",
    "class GraphSAGE(nn.Module):\n",
    "    def __init__(self, emb_types, emb_size, hid_feats, out_feats, rel_names):\n",
    "        super().__init__()\n",
    "        # https://www.jianshu.com/p/767950b560c4\n",
    "        self.embed_dict = {ntype : nn.Parameter(torch.Tensor(emb_types[ntype], emb_size))\n",
    "                      for ntype in emb_types.keys()}\n",
    "        for key, embed in self.embed_dict.items():\n",
    "            nn.init.xavier_uniform_(embed)\n",
    "        #self.embed = nn.ParameterDict(embed_dict)\n",
    "        self.conv1 = dglnn.HeteroGraphConv({\n",
    "            rel: dglnn.GraphConv(emb_size, hid_feats)\n",
    "            for rel in rel_names}, aggregate='mean')\n",
    "        self.conv2 = dglnn.HeteroGraphConv({\n",
    "            rel: dglnn.GraphConv(hid_feats, out_feats)\n",
    "            for rel in rel_names}, aggregate='mean')\n",
    "\n",
    "    def forward(self, graph):\n",
    "        # inputs are features of nodes\n",
    "        embeds = nn.ParameterDict({k: self.embed_dict[k][graph.nodes(k)] for k in graph.ntypes})\n",
    "        print(embeds)\n",
    "        h = self.conv1(graph, embeds)\n",
    "        h = {k: F.relu(v) for k, v in h.items()}\n",
    "        h = self.conv2(graph, h)\n",
    "        return h"
   ]
  },
  {
   "cell_type": "code",
   "execution_count": 20,
   "metadata": {},
   "outputs": [],
   "source": [
    "model = GraphSAGE({x: g.number_of_nodes(x) for x in g.ntypes}, 512, 256, 2, g.etypes)"
   ]
  },
  {
   "cell_type": "code",
   "execution_count": 21,
   "metadata": {},
   "outputs": [
    {
     "ename": "AttributeError",
     "evalue": "'GraphSAGE' object has no attribute 'embed'",
     "output_type": "error",
     "traceback": [
      "\u001b[0;31m---------------------------------------------------------------------------\u001b[0m",
      "\u001b[0;31mAttributeError\u001b[0m                            Traceback (most recent call last)",
      "\u001b[1;32m/Users/parkererickson/nlp8980/final_project/graphsage_baseline.ipynb Cell 6'\u001b[0m in \u001b[0;36m<module>\u001b[0;34m\u001b[0m\n\u001b[0;32m----> <a href='vscode-notebook-cell:/Users/parkererickson/nlp8980/final_project/graphsage_baseline.ipynb#ch0000007?line=0'>1</a>\u001b[0m model\u001b[39m.\u001b[39;49membed[\u001b[39m\"\u001b[39m\u001b[39mBrand\u001b[39m\u001b[39m\"\u001b[39m]\u001b[39m.\u001b[39mshape\n",
      "File \u001b[0;32m/opt/anaconda3/envs/huggingface/lib/python3.9/site-packages/torch/nn/modules/module.py:1177\u001b[0m, in \u001b[0;36mModule.__getattr__\u001b[0;34m(self, name)\u001b[0m\n\u001b[1;32m   <a href='file:///opt/anaconda3/envs/huggingface/lib/python3.9/site-packages/torch/nn/modules/module.py?line=1174'>1175</a>\u001b[0m     \u001b[39mif\u001b[39;00m name \u001b[39min\u001b[39;00m modules:\n\u001b[1;32m   <a href='file:///opt/anaconda3/envs/huggingface/lib/python3.9/site-packages/torch/nn/modules/module.py?line=1175'>1176</a>\u001b[0m         \u001b[39mreturn\u001b[39;00m modules[name]\n\u001b[0;32m-> <a href='file:///opt/anaconda3/envs/huggingface/lib/python3.9/site-packages/torch/nn/modules/module.py?line=1176'>1177</a>\u001b[0m \u001b[39mraise\u001b[39;00m \u001b[39mAttributeError\u001b[39;00m(\u001b[39m\"\u001b[39m\u001b[39m'\u001b[39m\u001b[39m{}\u001b[39;00m\u001b[39m'\u001b[39m\u001b[39m object has no attribute \u001b[39m\u001b[39m'\u001b[39m\u001b[39m{}\u001b[39;00m\u001b[39m'\u001b[39m\u001b[39m\"\u001b[39m\u001b[39m.\u001b[39mformat(\n\u001b[1;32m   <a href='file:///opt/anaconda3/envs/huggingface/lib/python3.9/site-packages/torch/nn/modules/module.py?line=1177'>1178</a>\u001b[0m     \u001b[39mtype\u001b[39m(\u001b[39mself\u001b[39m)\u001b[39m.\u001b[39m\u001b[39m__name__\u001b[39m, name))\n",
      "\u001b[0;31mAttributeError\u001b[0m: 'GraphSAGE' object has no attribute 'embed'"
     ]
    }
   ],
   "source": [
    "model.embed[\"Brand\"].shape"
   ]
  },
  {
   "cell_type": "code",
   "execution_count": 22,
   "metadata": {},
   "outputs": [
    {
     "ename": "TypeError",
     "evalue": "cannot assign 'torch.FloatTensor' object to parameter 'Brand' (torch.nn.Parameter or None required)",
     "output_type": "error",
     "traceback": [
      "\u001b[0;31m---------------------------------------------------------------------------\u001b[0m",
      "\u001b[0;31mTypeError\u001b[0m                                 Traceback (most recent call last)",
      "\u001b[1;32m/Users/parkererickson/nlp8980/final_project/graphsage_baseline.ipynb Cell 7'\u001b[0m in \u001b[0;36m<module>\u001b[0;34m\u001b[0m\n\u001b[1;32m      <a href='vscode-notebook-cell:/Users/parkererickson/nlp8980/final_project/graphsage_baseline.ipynb#ch0000005?line=4'>5</a>\u001b[0m logits \u001b[39m=\u001b[39m []\n\u001b[1;32m      <a href='vscode-notebook-cell:/Users/parkererickson/nlp8980/final_project/graphsage_baseline.ipynb#ch0000005?line=5'>6</a>\u001b[0m \u001b[39mfor\u001b[39;00m block \u001b[39min\u001b[39;00m blocks:\n\u001b[0;32m----> <a href='vscode-notebook-cell:/Users/parkererickson/nlp8980/final_project/graphsage_baseline.ipynb#ch0000005?line=6'>7</a>\u001b[0m     out \u001b[39m=\u001b[39m model(block)\n\u001b[1;32m      <a href='vscode-notebook-cell:/Users/parkererickson/nlp8980/final_project/graphsage_baseline.ipynb#ch0000005?line=7'>8</a>\u001b[0m     logits\u001b[39m.\u001b[39mextend(out[\u001b[39m\"\u001b[39m\u001b[39mReview\u001b[39m\u001b[39m\"\u001b[39m])\n\u001b[1;32m      <a href='vscode-notebook-cell:/Users/parkererickson/nlp8980/final_project/graphsage_baseline.ipynb#ch0000005?line=8'>9</a>\u001b[0m \u001b[39mprint\u001b[39m(logits)\n",
      "File \u001b[0;32m/opt/anaconda3/envs/huggingface/lib/python3.9/site-packages/torch/nn/modules/module.py:1102\u001b[0m, in \u001b[0;36mModule._call_impl\u001b[0;34m(self, *input, **kwargs)\u001b[0m\n\u001b[1;32m   <a href='file:///opt/anaconda3/envs/huggingface/lib/python3.9/site-packages/torch/nn/modules/module.py?line=1097'>1098</a>\u001b[0m \u001b[39m# If we don't have any hooks, we want to skip the rest of the logic in\u001b[39;00m\n\u001b[1;32m   <a href='file:///opt/anaconda3/envs/huggingface/lib/python3.9/site-packages/torch/nn/modules/module.py?line=1098'>1099</a>\u001b[0m \u001b[39m# this function, and just call forward.\u001b[39;00m\n\u001b[1;32m   <a href='file:///opt/anaconda3/envs/huggingface/lib/python3.9/site-packages/torch/nn/modules/module.py?line=1099'>1100</a>\u001b[0m \u001b[39mif\u001b[39;00m \u001b[39mnot\u001b[39;00m (\u001b[39mself\u001b[39m\u001b[39m.\u001b[39m_backward_hooks \u001b[39mor\u001b[39;00m \u001b[39mself\u001b[39m\u001b[39m.\u001b[39m_forward_hooks \u001b[39mor\u001b[39;00m \u001b[39mself\u001b[39m\u001b[39m.\u001b[39m_forward_pre_hooks \u001b[39mor\u001b[39;00m _global_backward_hooks\n\u001b[1;32m   <a href='file:///opt/anaconda3/envs/huggingface/lib/python3.9/site-packages/torch/nn/modules/module.py?line=1100'>1101</a>\u001b[0m         \u001b[39mor\u001b[39;00m _global_forward_hooks \u001b[39mor\u001b[39;00m _global_forward_pre_hooks):\n\u001b[0;32m-> <a href='file:///opt/anaconda3/envs/huggingface/lib/python3.9/site-packages/torch/nn/modules/module.py?line=1101'>1102</a>\u001b[0m     \u001b[39mreturn\u001b[39;00m forward_call(\u001b[39m*\u001b[39;49m\u001b[39minput\u001b[39;49m, \u001b[39m*\u001b[39;49m\u001b[39m*\u001b[39;49mkwargs)\n\u001b[1;32m   <a href='file:///opt/anaconda3/envs/huggingface/lib/python3.9/site-packages/torch/nn/modules/module.py?line=1102'>1103</a>\u001b[0m \u001b[39m# Do not call functions when jit is used\u001b[39;00m\n\u001b[1;32m   <a href='file:///opt/anaconda3/envs/huggingface/lib/python3.9/site-packages/torch/nn/modules/module.py?line=1103'>1104</a>\u001b[0m full_backward_hooks, non_full_backward_hooks \u001b[39m=\u001b[39m [], []\n",
      "\u001b[1;32m/Users/parkererickson/nlp8980/final_project/graphsage_baseline.ipynb Cell 4'\u001b[0m in \u001b[0;36mGraphSAGE.forward\u001b[0;34m(self, graph)\u001b[0m\n\u001b[1;32m     <a href='vscode-notebook-cell:/Users/parkererickson/nlp8980/final_project/graphsage_baseline.ipynb#ch0000003?line=19'>20</a>\u001b[0m \u001b[39mdef\u001b[39;00m \u001b[39mforward\u001b[39m(\u001b[39mself\u001b[39m, graph):\n\u001b[1;32m     <a href='vscode-notebook-cell:/Users/parkererickson/nlp8980/final_project/graphsage_baseline.ipynb#ch0000003?line=20'>21</a>\u001b[0m     \u001b[39m# inputs are features of nodes\u001b[39;00m\n\u001b[0;32m---> <a href='vscode-notebook-cell:/Users/parkererickson/nlp8980/final_project/graphsage_baseline.ipynb#ch0000003?line=21'>22</a>\u001b[0m     embeds \u001b[39m=\u001b[39m nn\u001b[39m.\u001b[39;49mParameterDict({k: \u001b[39mself\u001b[39;49m\u001b[39m.\u001b[39;49membed_dict[k][graph\u001b[39m.\u001b[39;49mnodes(k)] \u001b[39mfor\u001b[39;49;00m k \u001b[39min\u001b[39;49;00m graph\u001b[39m.\u001b[39;49mntypes})\n\u001b[1;32m     <a href='vscode-notebook-cell:/Users/parkererickson/nlp8980/final_project/graphsage_baseline.ipynb#ch0000003?line=22'>23</a>\u001b[0m     \u001b[39mprint\u001b[39m(embeds)\n\u001b[1;32m     <a href='vscode-notebook-cell:/Users/parkererickson/nlp8980/final_project/graphsage_baseline.ipynb#ch0000003?line=23'>24</a>\u001b[0m     h \u001b[39m=\u001b[39m \u001b[39mself\u001b[39m\u001b[39m.\u001b[39mconv1(graph, embeds)\n",
      "File \u001b[0;32m/opt/anaconda3/envs/huggingface/lib/python3.9/site-packages/torch/nn/modules/container.py:578\u001b[0m, in \u001b[0;36mParameterDict.__init__\u001b[0;34m(self, parameters)\u001b[0m\n\u001b[1;32m    <a href='file:///opt/anaconda3/envs/huggingface/lib/python3.9/site-packages/torch/nn/modules/container.py?line=575'>576</a>\u001b[0m \u001b[39mself\u001b[39m\u001b[39m.\u001b[39m_initialized \u001b[39m=\u001b[39m \u001b[39mTrue\u001b[39;00m\n\u001b[1;32m    <a href='file:///opt/anaconda3/envs/huggingface/lib/python3.9/site-packages/torch/nn/modules/container.py?line=576'>577</a>\u001b[0m \u001b[39mif\u001b[39;00m parameters \u001b[39mis\u001b[39;00m \u001b[39mnot\u001b[39;00m \u001b[39mNone\u001b[39;00m:\n\u001b[0;32m--> <a href='file:///opt/anaconda3/envs/huggingface/lib/python3.9/site-packages/torch/nn/modules/container.py?line=577'>578</a>\u001b[0m     \u001b[39mself\u001b[39;49m\u001b[39m.\u001b[39;49mupdate(parameters)\n",
      "File \u001b[0;32m/opt/anaconda3/envs/huggingface/lib/python3.9/site-packages/torch/nn/modules/container.py:662\u001b[0m, in \u001b[0;36mParameterDict.update\u001b[0;34m(self, parameters)\u001b[0m\n\u001b[1;32m    <a href='file:///opt/anaconda3/envs/huggingface/lib/python3.9/site-packages/torch/nn/modules/container.py?line=659'>660</a>\u001b[0m \u001b[39melif\u001b[39;00m \u001b[39misinstance\u001b[39m(parameters, container_abcs\u001b[39m.\u001b[39mMapping):\n\u001b[1;32m    <a href='file:///opt/anaconda3/envs/huggingface/lib/python3.9/site-packages/torch/nn/modules/container.py?line=660'>661</a>\u001b[0m     \u001b[39mfor\u001b[39;00m key, parameter \u001b[39min\u001b[39;00m \u001b[39msorted\u001b[39m(parameters\u001b[39m.\u001b[39mitems()):\n\u001b[0;32m--> <a href='file:///opt/anaconda3/envs/huggingface/lib/python3.9/site-packages/torch/nn/modules/container.py?line=661'>662</a>\u001b[0m         \u001b[39mself\u001b[39m[key] \u001b[39m=\u001b[39m parameter\n\u001b[1;32m    <a href='file:///opt/anaconda3/envs/huggingface/lib/python3.9/site-packages/torch/nn/modules/container.py?line=662'>663</a>\u001b[0m \u001b[39melse\u001b[39;00m:\n\u001b[1;32m    <a href='file:///opt/anaconda3/envs/huggingface/lib/python3.9/site-packages/torch/nn/modules/container.py?line=663'>664</a>\u001b[0m     \u001b[39mfor\u001b[39;00m j, p \u001b[39min\u001b[39;00m \u001b[39menumerate\u001b[39m(parameters):\n",
      "File \u001b[0;32m/opt/anaconda3/envs/huggingface/lib/python3.9/site-packages/torch/nn/modules/container.py:589\u001b[0m, in \u001b[0;36mParameterDict.__setitem__\u001b[0;34m(self, key, parameter)\u001b[0m\n\u001b[1;32m    <a href='file:///opt/anaconda3/envs/huggingface/lib/python3.9/site-packages/torch/nn/modules/container.py?line=587'>588</a>\u001b[0m \u001b[39mdef\u001b[39;00m \u001b[39m__setitem__\u001b[39m(\u001b[39mself\u001b[39m, key: \u001b[39mstr\u001b[39m, parameter: \u001b[39m'\u001b[39m\u001b[39mParameter\u001b[39m\u001b[39m'\u001b[39m) \u001b[39m-\u001b[39m\u001b[39m>\u001b[39m \u001b[39mNone\u001b[39;00m:\n\u001b[0;32m--> <a href='file:///opt/anaconda3/envs/huggingface/lib/python3.9/site-packages/torch/nn/modules/container.py?line=588'>589</a>\u001b[0m     \u001b[39mself\u001b[39;49m\u001b[39m.\u001b[39;49mregister_parameter(key, parameter)\n",
      "File \u001b[0;32m/opt/anaconda3/envs/huggingface/lib/python3.9/site-packages/torch/nn/modules/module.py:354\u001b[0m, in \u001b[0;36mModule.register_parameter\u001b[0;34m(self, name, param)\u001b[0m\n\u001b[1;32m    <a href='file:///opt/anaconda3/envs/huggingface/lib/python3.9/site-packages/torch/nn/modules/module.py?line=351'>352</a>\u001b[0m     \u001b[39mself\u001b[39m\u001b[39m.\u001b[39m_parameters[name] \u001b[39m=\u001b[39m \u001b[39mNone\u001b[39;00m\n\u001b[1;32m    <a href='file:///opt/anaconda3/envs/huggingface/lib/python3.9/site-packages/torch/nn/modules/module.py?line=352'>353</a>\u001b[0m \u001b[39melif\u001b[39;00m \u001b[39mnot\u001b[39;00m \u001b[39misinstance\u001b[39m(param, Parameter):\n\u001b[0;32m--> <a href='file:///opt/anaconda3/envs/huggingface/lib/python3.9/site-packages/torch/nn/modules/module.py?line=353'>354</a>\u001b[0m     \u001b[39mraise\u001b[39;00m \u001b[39mTypeError\u001b[39;00m(\u001b[39m\"\u001b[39m\u001b[39mcannot assign \u001b[39m\u001b[39m'\u001b[39m\u001b[39m{}\u001b[39;00m\u001b[39m'\u001b[39m\u001b[39m object to parameter \u001b[39m\u001b[39m'\u001b[39m\u001b[39m{}\u001b[39;00m\u001b[39m'\u001b[39m\u001b[39m \u001b[39m\u001b[39m\"\u001b[39m\n\u001b[1;32m    <a href='file:///opt/anaconda3/envs/huggingface/lib/python3.9/site-packages/torch/nn/modules/module.py?line=354'>355</a>\u001b[0m                     \u001b[39m\"\u001b[39m\u001b[39m(torch.nn.Parameter or None required)\u001b[39m\u001b[39m\"\u001b[39m\n\u001b[1;32m    <a href='file:///opt/anaconda3/envs/huggingface/lib/python3.9/site-packages/torch/nn/modules/module.py?line=355'>356</a>\u001b[0m                     \u001b[39m.\u001b[39mformat(torch\u001b[39m.\u001b[39mtypename(param), name))\n\u001b[1;32m    <a href='file:///opt/anaconda3/envs/huggingface/lib/python3.9/site-packages/torch/nn/modules/module.py?line=356'>357</a>\u001b[0m \u001b[39melif\u001b[39;00m param\u001b[39m.\u001b[39mgrad_fn:\n\u001b[1;32m    <a href='file:///opt/anaconda3/envs/huggingface/lib/python3.9/site-packages/torch/nn/modules/module.py?line=357'>358</a>\u001b[0m     \u001b[39mraise\u001b[39;00m \u001b[39mValueError\u001b[39;00m(\n\u001b[1;32m    <a href='file:///opt/anaconda3/envs/huggingface/lib/python3.9/site-packages/torch/nn/modules/module.py?line=358'>359</a>\u001b[0m         \u001b[39m\"\u001b[39m\u001b[39mCannot assign non-leaf Tensor to parameter \u001b[39m\u001b[39m'\u001b[39m\u001b[39m{0}\u001b[39;00m\u001b[39m'\u001b[39m\u001b[39m. Model \u001b[39m\u001b[39m\"\u001b[39m\n\u001b[1;32m    <a href='file:///opt/anaconda3/envs/huggingface/lib/python3.9/site-packages/torch/nn/modules/module.py?line=359'>360</a>\u001b[0m         \u001b[39m\"\u001b[39m\u001b[39mparameters must be created explicitly. To express \u001b[39m\u001b[39m'\u001b[39m\u001b[39m{0}\u001b[39;00m\u001b[39m'\u001b[39m\u001b[39m \u001b[39m\u001b[39m\"\u001b[39m\n\u001b[1;32m    <a href='file:///opt/anaconda3/envs/huggingface/lib/python3.9/site-packages/torch/nn/modules/module.py?line=360'>361</a>\u001b[0m         \u001b[39m\"\u001b[39m\u001b[39mas a function of another Tensor, compute the value in \u001b[39m\u001b[39m\"\u001b[39m\n\u001b[1;32m    <a href='file:///opt/anaconda3/envs/huggingface/lib/python3.9/site-packages/torch/nn/modules/module.py?line=361'>362</a>\u001b[0m         \u001b[39m\"\u001b[39m\u001b[39mthe forward() method.\u001b[39m\u001b[39m\"\u001b[39m\u001b[39m.\u001b[39mformat(name))\n",
      "\u001b[0;31mTypeError\u001b[0m: cannot assign 'torch.FloatTensor' object to parameter 'Brand' (torch.nn.Parameter or None required)"
     ]
    }
   ],
   "source": [
    "opt = torch.optim.Adam(model.parameters())\n",
    "model.train()\n",
    "for epoch in range(2):\n",
    "    for input_nodes, output_nodes, blocks in train_dataloader:\n",
    "        logits = []\n",
    "        for block in blocks:\n",
    "            out = model(block)\n",
    "            logits.extend(out[\"Review\"])\n",
    "        print(logits)\n",
    "        print(logits.shape)\n",
    "        break\n",
    "    break\n",
    "'''\n",
    "        loss = F.cross_entropy(logits[train_mask == 1], labels[train_mask == 1].type(torch.long))\n",
    "        opt.zero_grad()\n",
    "        loss.backward()\n",
    "        opt.step()\n",
    "        print(\"Epoch:\", epoch, \"Loss:\", loss.item())\n",
    "'''"
   ]
  },
  {
   "cell_type": "code",
   "execution_count": null,
   "metadata": {},
   "outputs": [],
   "source": []
  }
 ],
 "metadata": {
  "interpreter": {
   "hash": "7f0fb73b74445d6392909c9d469b21cbfa1ec308c4aeb674f6b2b586eed9f638"
  },
  "kernelspec": {
   "display_name": "Python 3.9.7 ('huggingface')",
   "language": "python",
   "name": "python3"
  },
  "language_info": {
   "codemirror_mode": {
    "name": "ipython",
    "version": 3
   },
   "file_extension": ".py",
   "mimetype": "text/x-python",
   "name": "python",
   "nbconvert_exporter": "python",
   "pygments_lexer": "ipython3",
   "version": "3.9.7"
  },
  "orig_nbformat": 4
 },
 "nbformat": 4,
 "nbformat_minor": 2
}
