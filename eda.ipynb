{
 "cells": [
  {
   "cell_type": "code",
   "execution_count": 1,
   "metadata": {},
   "outputs": [],
   "source": [
    "import pandas as pd\n",
    "import json"
   ]
  },
  {
   "cell_type": "code",
   "execution_count": 2,
   "metadata": {},
   "outputs": [],
   "source": [
    "reviews = []\n",
    "data = open(\"./data/Industrial_and_Scientific_5.json\")\n",
    "for line in data.readlines():\n",
    "    reviews.append(json.loads(line))"
   ]
  },
  {
   "cell_type": "code",
   "execution_count": 3,
   "metadata": {},
   "outputs": [
    {
     "data": {
      "text/plain": [
       "77071"
      ]
     },
     "execution_count": 3,
     "metadata": {},
     "output_type": "execute_result"
    }
   ],
   "source": [
    "len(reviews)"
   ]
  },
  {
   "cell_type": "code",
   "execution_count": 4,
   "metadata": {},
   "outputs": [],
   "source": [
    "df = pd.DataFrame(reviews)"
   ]
  },
  {
   "cell_type": "code",
   "execution_count": 5,
   "metadata": {},
   "outputs": [
    {
     "data": {
      "text/html": [
       "<div>\n",
       "<style scoped>\n",
       "    .dataframe tbody tr th:only-of-type {\n",
       "        vertical-align: middle;\n",
       "    }\n",
       "\n",
       "    .dataframe tbody tr th {\n",
       "        vertical-align: top;\n",
       "    }\n",
       "\n",
       "    .dataframe thead th {\n",
       "        text-align: right;\n",
       "    }\n",
       "</style>\n",
       "<table border=\"1\" class=\"dataframe\">\n",
       "  <thead>\n",
       "    <tr style=\"text-align: right;\">\n",
       "      <th></th>\n",
       "      <th>overall</th>\n",
       "      <th>verified</th>\n",
       "      <th>reviewTime</th>\n",
       "      <th>reviewerID</th>\n",
       "      <th>asin</th>\n",
       "      <th>style</th>\n",
       "      <th>reviewerName</th>\n",
       "      <th>reviewText</th>\n",
       "      <th>summary</th>\n",
       "      <th>unixReviewTime</th>\n",
       "      <th>vote</th>\n",
       "      <th>image</th>\n",
       "    </tr>\n",
       "  </thead>\n",
       "  <tbody>\n",
       "    <tr>\n",
       "      <th>0</th>\n",
       "      <td>5.0</td>\n",
       "      <td>True</td>\n",
       "      <td>11 27, 2017</td>\n",
       "      <td>A1JB7HFWHRYHT7</td>\n",
       "      <td>B0000223SI</td>\n",
       "      <td>{'Size:': ' 1-(Pack)'}</td>\n",
       "      <td>Alex W.</td>\n",
       "      <td>This worked really well for what I used it for...</td>\n",
       "      <td>Couldn't have been happier with it's performance</td>\n",
       "      <td>1511740800</td>\n",
       "      <td>NaN</td>\n",
       "      <td>NaN</td>\n",
       "    </tr>\n",
       "    <tr>\n",
       "      <th>1</th>\n",
       "      <td>5.0</td>\n",
       "      <td>True</td>\n",
       "      <td>11 4, 2017</td>\n",
       "      <td>A2FCLJG5GV8SD6</td>\n",
       "      <td>B0000223SI</td>\n",
       "      <td>{'Size:': ' 1-(Pack)'}</td>\n",
       "      <td>Randall Harris</td>\n",
       "      <td>Fast cutting and good adheasive.</td>\n",
       "      <td>Good paper.</td>\n",
       "      <td>1509753600</td>\n",
       "      <td>NaN</td>\n",
       "      <td>NaN</td>\n",
       "    </tr>\n",
       "    <tr>\n",
       "      <th>2</th>\n",
       "      <td>5.0</td>\n",
       "      <td>False</td>\n",
       "      <td>10 27, 2017</td>\n",
       "      <td>A3IT9B33NWYQSL</td>\n",
       "      <td>B0000223SI</td>\n",
       "      <td>{'Size:': ' 1-(Pack)'}</td>\n",
       "      <td>A. C.</td>\n",
       "      <td>Worked great for my lapping bench.  I would li...</td>\n",
       "      <td>Handy!</td>\n",
       "      <td>1509062400</td>\n",
       "      <td>NaN</td>\n",
       "      <td>NaN</td>\n",
       "    </tr>\n",
       "    <tr>\n",
       "      <th>3</th>\n",
       "      <td>4.0</td>\n",
       "      <td>True</td>\n",
       "      <td>01 13, 2018</td>\n",
       "      <td>AUL5LCV4TT73P</td>\n",
       "      <td>B0000223SK</td>\n",
       "      <td>{'Size:': ' 1-Pack'}</td>\n",
       "      <td>TnT</td>\n",
       "      <td>As advertised</td>\n",
       "      <td>As advertised</td>\n",
       "      <td>1515801600</td>\n",
       "      <td>NaN</td>\n",
       "      <td>NaN</td>\n",
       "    </tr>\n",
       "    <tr>\n",
       "      <th>4</th>\n",
       "      <td>5.0</td>\n",
       "      <td>True</td>\n",
       "      <td>10 7, 2017</td>\n",
       "      <td>A1V3I3L5JKO7TM</td>\n",
       "      <td>B0000223SK</td>\n",
       "      <td>{'Size:': ' 1-Pack'}</td>\n",
       "      <td>John Jones</td>\n",
       "      <td>seems like a pretty good value as opposed to b...</td>\n",
       "      <td>seems like a pretty good value as opposed to b...</td>\n",
       "      <td>1507334400</td>\n",
       "      <td>NaN</td>\n",
       "      <td>NaN</td>\n",
       "    </tr>\n",
       "  </tbody>\n",
       "</table>\n",
       "</div>"
      ],
      "text/plain": [
       "   overall  verified   reviewTime      reviewerID        asin  \\\n",
       "0      5.0      True  11 27, 2017  A1JB7HFWHRYHT7  B0000223SI   \n",
       "1      5.0      True   11 4, 2017  A2FCLJG5GV8SD6  B0000223SI   \n",
       "2      5.0     False  10 27, 2017  A3IT9B33NWYQSL  B0000223SI   \n",
       "3      4.0      True  01 13, 2018   AUL5LCV4TT73P  B0000223SK   \n",
       "4      5.0      True   10 7, 2017  A1V3I3L5JKO7TM  B0000223SK   \n",
       "\n",
       "                    style    reviewerName  \\\n",
       "0  {'Size:': ' 1-(Pack)'}         Alex W.   \n",
       "1  {'Size:': ' 1-(Pack)'}  Randall Harris   \n",
       "2  {'Size:': ' 1-(Pack)'}           A. C.   \n",
       "3    {'Size:': ' 1-Pack'}             TnT   \n",
       "4    {'Size:': ' 1-Pack'}      John Jones   \n",
       "\n",
       "                                          reviewText  \\\n",
       "0  This worked really well for what I used it for...   \n",
       "1                   Fast cutting and good adheasive.   \n",
       "2  Worked great for my lapping bench.  I would li...   \n",
       "3                                      As advertised   \n",
       "4  seems like a pretty good value as opposed to b...   \n",
       "\n",
       "                                             summary  unixReviewTime vote  \\\n",
       "0   Couldn't have been happier with it's performance      1511740800  NaN   \n",
       "1                                        Good paper.      1509753600  NaN   \n",
       "2                                             Handy!      1509062400  NaN   \n",
       "3                                      As advertised      1515801600  NaN   \n",
       "4  seems like a pretty good value as opposed to b...      1507334400  NaN   \n",
       "\n",
       "  image  \n",
       "0   NaN  \n",
       "1   NaN  \n",
       "2   NaN  \n",
       "3   NaN  \n",
       "4   NaN  "
      ]
     },
     "execution_count": 5,
     "metadata": {},
     "output_type": "execute_result"
    }
   ],
   "source": [
    "df.head()"
   ]
  },
  {
   "cell_type": "code",
   "execution_count": 6,
   "metadata": {},
   "outputs": [
    {
     "data": {
      "text/plain": [
       "<AxesSubplot:>"
      ]
     },
     "execution_count": 6,
     "metadata": {},
     "output_type": "execute_result"
    },
    {
     "data": {
      "image/png": "[encoded data removed]",
      "text/plain": [
       "<Figure size 432x288 with 1 Axes>"
      ]
     },
     "metadata": {
      "needs_background": "light"
     },
     "output_type": "display_data"
    }
   ],
   "source": [
    "df[\"overall\"].hist(bins=5)"
   ]
  },
  {
   "cell_type": "code",
   "execution_count": 7,
   "metadata": {},
   "outputs": [
    {
     "data": {
      "text/plain": [
       "<AxesSubplot:>"
      ]
     },
     "execution_count": 7,
     "metadata": {},
     "output_type": "execute_result"
    },
    {
     "data": {
      "image/png": "[encoded data removed]",
      "text/plain": [
       "<Figure size 432x288 with 1 Axes>"
      ]
     },
     "metadata": {
      "needs_background": "light"
     },
     "output_type": "display_data"
    }
   ],
   "source": [
    "df[\"asin\"].value_counts().head(25).plot.bar()"
   ]
  },
  {
   "cell_type": "code",
   "execution_count": null,
   "metadata": {},
   "outputs": [],
   "source": [
    "import matplotlib.pyplot as plt\n",
    "for asin in list(df[\"asin\"].value_counts().head(5).index):\n",
    "    print(\"ASIN:\", asin)\n",
    "    asin_reviews = df[df[\"asin\"] == asin]\n",
    "    asin_reviews[\"overall\"].hist(bins=5)\n",
    "    plt.show()"
   ]
  },
  {
   "cell_type": "code",
   "execution_count": null,
   "metadata": {},
   "outputs": [],
   "source": [
    "import matplotlib.pyplot as plt\n",
    "for asin in list(df[\"asin\"].value_counts().sample(5).index):\n",
    "    print(\"ASIN:\", asin)\n",
    "    asin_reviews = df[df[\"asin\"] == asin]\n",
    "    asin_reviews[\"overall\"].hist(bins=5)\n",
    "    plt.show()"
   ]
  },
  {
   "cell_type": "code",
   "execution_count": null,
   "metadata": {},
   "outputs": [],
   "source": [
    "import matplotlib.pyplot as plt\n",
    "for asin in list(df[\"asin\"].value_counts().tail(5).index):\n",
    "    print(\"ASIN:\", asin)\n",
    "    asin_reviews = df[df[\"asin\"] == asin]\n",
    "    asin_reviews[\"overall\"].hist(bins=5)\n",
    "    plt.show()"
   ]
  },
  {
   "cell_type": "code",
   "execution_count": 8,
   "metadata": {},
   "outputs": [],
   "source": [
    "meta = []\n",
    "data = open(\"./data/meta_Industrial_and_Scientific.json\")\n",
    "for line in data.readlines():\n",
    "    meta.append(json.loads(line))"
   ]
  },
  {
   "cell_type": "code",
   "execution_count": 9,
   "metadata": {},
   "outputs": [
    {
     "data": {
      "text/plain": [
       "167442"
      ]
     },
     "execution_count": 9,
     "metadata": {},
     "output_type": "execute_result"
    }
   ],
   "source": [
    "len(meta)"
   ]
  },
  {
   "cell_type": "code",
   "execution_count": 28,
   "metadata": {},
   "outputs": [],
   "source": [
    "meta_df = pd.DataFrame(meta)"
   ]
  },
  {
   "cell_type": "code",
   "execution_count": 29,
   "metadata": {},
   "outputs": [
    {
     "data": {
      "text/html": [
       "<div>\n",
       "<style scoped>\n",
       "    .dataframe tbody tr th:only-of-type {\n",
       "        vertical-align: middle;\n",
       "    }\n",
       "\n",
       "    .dataframe tbody tr th {\n",
       "        vertical-align: top;\n",
       "    }\n",
       "\n",
       "    .dataframe thead th {\n",
       "        text-align: right;\n",
       "    }\n",
       "</style>\n",
       "<table border=\"1\" class=\"dataframe\">\n",
       "  <thead>\n",
       "    <tr style=\"text-align: right;\">\n",
       "      <th></th>\n",
       "      <th>category</th>\n",
       "      <th>tech1</th>\n",
       "      <th>description</th>\n",
       "      <th>fit</th>\n",
       "      <th>title</th>\n",
       "      <th>also_buy</th>\n",
       "      <th>tech2</th>\n",
       "      <th>brand</th>\n",
       "      <th>feature</th>\n",
       "      <th>rank</th>\n",
       "      <th>also_view</th>\n",
       "      <th>main_cat</th>\n",
       "      <th>similar_item</th>\n",
       "      <th>date</th>\n",
       "      <th>price</th>\n",
       "      <th>asin</th>\n",
       "      <th>imageURL</th>\n",
       "      <th>imageURLHighRes</th>\n",
       "      <th>details</th>\n",
       "    </tr>\n",
       "  </thead>\n",
       "  <tbody>\n",
       "    <tr>\n",
       "      <th>0</th>\n",
       "      <td>[Industrial &amp; Scientific, Industrial Electrica...</td>\n",
       "      <td></td>\n",
       "      <td>[RCRF-03 - Works on all Turning Technologies R...</td>\n",
       "      <td></td>\n",
       "      <td>Turning Technologies Response Card (RCRF-03)</td>\n",
       "      <td>[1454894547, 0133455548, 0538741252, 193493139...</td>\n",
       "      <td></td>\n",
       "      <td>Turning Technologies, LLC</td>\n",
       "      <td>[]</td>\n",
       "      <td>12,329 in Industrial &amp; Scientific (</td>\n",
       "      <td>[]</td>\n",
       "      <td>Industrial &amp; Scientific</td>\n",
       "      <td></td>\n",
       "      <td></td>\n",
       "      <td>$23.61</td>\n",
       "      <td>0176496920</td>\n",
       "      <td>[https://images-na.ssl-images-amazon.com/image...</td>\n",
       "      <td>[https://images-na.ssl-images-amazon.com/image...</td>\n",
       "      <td>NaN</td>\n",
       "    </tr>\n",
       "    <tr>\n",
       "      <th>1</th>\n",
       "      <td>[]</td>\n",
       "      <td></td>\n",
       "      <td>[The only laminated pocket tool that provides ...</td>\n",
       "      <td></td>\n",
       "      <td>R-Cat 692782109 EKG Badge with Arrhythmia Pock...</td>\n",
       "      <td>[B01NBCNTJ9, B01IAHKULS, B01MT59BRR, 194100406...</td>\n",
       "      <td></td>\n",
       "      <td>R-Cat</td>\n",
       "      <td>[]</td>\n",
       "      <td>20,174 in Industrial &amp; Scientific (</td>\n",
       "      <td>[]</td>\n",
       "      <td>Industrial &amp; Scientific</td>\n",
       "      <td></td>\n",
       "      <td></td>\n",
       "      <td>$20.00</td>\n",
       "      <td>0692782109</td>\n",
       "      <td>[https://images-na.ssl-images-amazon.com/image...</td>\n",
       "      <td>[https://images-na.ssl-images-amazon.com/image...</td>\n",
       "      <td>NaN</td>\n",
       "    </tr>\n",
       "    <tr>\n",
       "      <th>2</th>\n",
       "      <td>[Industrial &amp; Scientific, Science Education]</td>\n",
       "      <td>class=\"a-keyvalue prodDetTable\" role=\"present...</td>\n",
       "      <td>[&lt;div&gt;, Now in its Second Edition,&lt;B&gt;The Spina...</td>\n",
       "      <td></td>\n",
       "      <td>Anatomical Chart Company's Illustrated Pocket ...</td>\n",
       "      <td>[0781776821, 078177683X, 0781776783, 157222684...</td>\n",
       "      <td></td>\n",
       "      <td>Anatomical Chart Company</td>\n",
       "      <td>[MPN: 9780781776844, Authentic Anatomical Char...</td>\n",
       "      <td>[&gt;#351,522 in Office Products (See top 100), &gt;...</td>\n",
       "      <td>[]</td>\n",
       "      <td>Office Products</td>\n",
       "      <td></td>\n",
       "      <td>August 7, 2007</td>\n",
       "      <td>$10.37</td>\n",
       "      <td>0781776848</td>\n",
       "      <td>[]</td>\n",
       "      <td>[]</td>\n",
       "      <td>NaN</td>\n",
       "    </tr>\n",
       "    <tr>\n",
       "      <th>3</th>\n",
       "      <td>[Industrial &amp; Scientific, Science Education, C...</td>\n",
       "      <td>class=\"a-keyvalue prodDetTable\" role=\"present...</td>\n",
       "      <td>[&lt;div&gt;, Developed in conjunction with a health...</td>\n",
       "      <td></td>\n",
       "      <td>Joints of the Lower Extremities Anatomical Chart</td>\n",
       "      <td>[0781786630, 1587798085, B004MAJHLW, 078178656...</td>\n",
       "      <td></td>\n",
       "      <td>Anatomical Chart Company</td>\n",
       "      <td>[MPN: 9780781786607, Authentic Anatomical Char...</td>\n",
       "      <td>[&gt;#459,493 in Office Products (See top 100), &gt;...</td>\n",
       "      <td>[B07BCNHC3K, B07D6X5TCB, 1587799839]</td>\n",
       "      <td>Office Products</td>\n",
       "      <td></td>\n",
       "      <td>February 26, 2009</td>\n",
       "      <td></td>\n",
       "      <td>0781786606</td>\n",
       "      <td>[]</td>\n",
       "      <td>[]</td>\n",
       "      <td>NaN</td>\n",
       "    </tr>\n",
       "    <tr>\n",
       "      <th>4</th>\n",
       "      <td>[Industrial &amp; Scientific, Industrial Electrica...</td>\n",
       "      <td></td>\n",
       "      <td>[Advanced digital clicker used in college clas...</td>\n",
       "      <td></td>\n",
       "      <td>Turning Technologies ResponseCard XR RCXR-01</td>\n",
       "      <td>[0077402286, 1455706124]</td>\n",
       "      <td></td>\n",
       "      <td>Responsive Innovations</td>\n",
       "      <td>[]</td>\n",
       "      <td>172,566 in Industrial &amp; Scientific (</td>\n",
       "      <td>[]</td>\n",
       "      <td>Industrial &amp; Scientific</td>\n",
       "      <td></td>\n",
       "      <td></td>\n",
       "      <td>$32.00</td>\n",
       "      <td>0840026080</td>\n",
       "      <td>[https://images-na.ssl-images-amazon.com/image...</td>\n",
       "      <td>[https://images-na.ssl-images-amazon.com/image...</td>\n",
       "      <td>NaN</td>\n",
       "    </tr>\n",
       "  </tbody>\n",
       "</table>\n",
       "</div>"
      ],
      "text/plain": [
       "                                            category  \\\n",
       "0  [Industrial & Scientific, Industrial Electrica...   \n",
       "1                                                 []   \n",
       "2       [Industrial & Scientific, Science Education]   \n",
       "3  [Industrial & Scientific, Science Education, C...   \n",
       "4  [Industrial & Scientific, Industrial Electrica...   \n",
       "\n",
       "                                               tech1  \\\n",
       "0                                                      \n",
       "1                                                      \n",
       "2   class=\"a-keyvalue prodDetTable\" role=\"present...   \n",
       "3   class=\"a-keyvalue prodDetTable\" role=\"present...   \n",
       "4                                                      \n",
       "\n",
       "                                         description fit  \\\n",
       "0  [RCRF-03 - Works on all Turning Technologies R...       \n",
       "1  [The only laminated pocket tool that provides ...       \n",
       "2  [<div>, Now in its Second Edition,<B>The Spina...       \n",
       "3  [<div>, Developed in conjunction with a health...       \n",
       "4  [Advanced digital clicker used in college clas...       \n",
       "\n",
       "                                               title  \\\n",
       "0       Turning Technologies Response Card (RCRF-03)   \n",
       "1  R-Cat 692782109 EKG Badge with Arrhythmia Pock...   \n",
       "2  Anatomical Chart Company's Illustrated Pocket ...   \n",
       "3   Joints of the Lower Extremities Anatomical Chart   \n",
       "4       Turning Technologies ResponseCard XR RCXR-01   \n",
       "\n",
       "                                            also_buy tech2  \\\n",
       "0  [1454894547, 0133455548, 0538741252, 193493139...         \n",
       "1  [B01NBCNTJ9, B01IAHKULS, B01MT59BRR, 194100406...         \n",
       "2  [0781776821, 078177683X, 0781776783, 157222684...         \n",
       "3  [0781786630, 1587798085, B004MAJHLW, 078178656...         \n",
       "4                           [0077402286, 1455706124]         \n",
       "\n",
       "                       brand  \\\n",
       "0  Turning Technologies, LLC   \n",
       "1                      R-Cat   \n",
       "2   Anatomical Chart Company   \n",
       "3   Anatomical Chart Company   \n",
       "4     Responsive Innovations   \n",
       "\n",
       "                                             feature  \\\n",
       "0                                                 []   \n",
       "1                                                 []   \n",
       "2  [MPN: 9780781776844, Authentic Anatomical Char...   \n",
       "3  [MPN: 9780781786607, Authentic Anatomical Char...   \n",
       "4                                                 []   \n",
       "\n",
       "                                                rank  \\\n",
       "0                12,329 in Industrial & Scientific (   \n",
       "1                20,174 in Industrial & Scientific (   \n",
       "2  [>#351,522 in Office Products (See top 100), >...   \n",
       "3  [>#459,493 in Office Products (See top 100), >...   \n",
       "4               172,566 in Industrial & Scientific (   \n",
       "\n",
       "                              also_view                 main_cat similar_item  \\\n",
       "0                                    []  Industrial & Scientific                \n",
       "1                                    []  Industrial & Scientific                \n",
       "2                                    []          Office Products                \n",
       "3  [B07BCNHC3K, B07D6X5TCB, 1587799839]          Office Products                \n",
       "4                                    []  Industrial & Scientific                \n",
       "\n",
       "                date   price        asin  \\\n",
       "0                     $23.61  0176496920   \n",
       "1                     $20.00  0692782109   \n",
       "2     August 7, 2007  $10.37  0781776848   \n",
       "3  February 26, 2009          0781786606   \n",
       "4                     $32.00  0840026080   \n",
       "\n",
       "                                            imageURL  \\\n",
       "0  [https://images-na.ssl-images-amazon.com/image...   \n",
       "1  [https://images-na.ssl-images-amazon.com/image...   \n",
       "2                                                 []   \n",
       "3                                                 []   \n",
       "4  [https://images-na.ssl-images-amazon.com/image...   \n",
       "\n",
       "                                     imageURLHighRes details  \n",
       "0  [https://images-na.ssl-images-amazon.com/image...     NaN  \n",
       "1  [https://images-na.ssl-images-amazon.com/image...     NaN  \n",
       "2                                                 []     NaN  \n",
       "3                                                 []     NaN  \n",
       "4  [https://images-na.ssl-images-amazon.com/image...     NaN  "
      ]
     },
     "execution_count": 29,
     "metadata": {},
     "output_type": "execute_result"
    }
   ],
   "source": [
    "meta_df.head()"
   ]
  },
  {
   "cell_type": "code",
   "execution_count": 34,
   "metadata": {},
   "outputs": [
    {
     "name": "stderr",
     "output_type": "stream",
     "text": [
      "/var/folders/m8/dqp9wj910q53mc6120n2z62m0000gn/T/ipykernel_79447/3397633113.py:9: SettingWithCopyWarning: \n",
      "A value is trying to be set on a copy of a slice from a DataFrame\n",
      "\n",
      "See the caveats in the documentation: https://pandas.pydata.org/pandas-docs/stable/user_guide/indexing.html#returning-a-view-versus-a-copy\n",
      "  price_df[\"price\"].replace('', np.NaN, inplace=True)\n",
      "/var/folders/m8/dqp9wj910q53mc6120n2z62m0000gn/T/ipykernel_79447/3397633113.py:11: SettingWithCopyWarning: \n",
      "A value is trying to be set on a copy of a slice from a DataFrame.\n",
      "Try using .loc[row_indexer,col_indexer] = value instead\n",
      "\n",
      "See the caveats in the documentation: https://pandas.pydata.org/pandas-docs/stable/user_guide/indexing.html#returning-a-view-versus-a-copy\n",
      "  price_df[\"price\"] = price_df[\"price\"].apply(lambda x: convert_to_float(x))\n"
     ]
    }
   ],
   "source": [
    "import numpy as np\n",
    "def convert_to_float(x):\n",
    "    try:\n",
    "        return float(x.strip(\"$\"))\n",
    "    except:\n",
    "        return np.NaN\n",
    "\n",
    "price_df = meta_df[[\"asin\", \"price\"]]\n",
    "price_df[\"price\"].replace('', np.NaN, inplace=True)\n",
    "price_df = price_df.dropna()\n",
    "price_df[\"price\"] = price_df[\"price\"].apply(lambda x: convert_to_float(x))\n",
    "price_df = price_df.dropna()"
   ]
  },
  {
   "cell_type": "code",
   "execution_count": 35,
   "metadata": {},
   "outputs": [
    {
     "data": {
      "text/html": [
       "<div>\n",
       "<style scoped>\n",
       "    .dataframe tbody tr th:only-of-type {\n",
       "        vertical-align: middle;\n",
       "    }\n",
       "\n",
       "    .dataframe tbody tr th {\n",
       "        vertical-align: top;\n",
       "    }\n",
       "\n",
       "    .dataframe thead th {\n",
       "        text-align: right;\n",
       "    }\n",
       "</style>\n",
       "<table border=\"1\" class=\"dataframe\">\n",
       "  <thead>\n",
       "    <tr style=\"text-align: right;\">\n",
       "      <th></th>\n",
       "      <th>asin</th>\n",
       "      <th>price</th>\n",
       "    </tr>\n",
       "  </thead>\n",
       "  <tbody>\n",
       "    <tr>\n",
       "      <th>0</th>\n",
       "      <td>0176496920</td>\n",
       "      <td>23.61</td>\n",
       "    </tr>\n",
       "    <tr>\n",
       "      <th>1</th>\n",
       "      <td>0692782109</td>\n",
       "      <td>20.00</td>\n",
       "    </tr>\n",
       "    <tr>\n",
       "      <th>2</th>\n",
       "      <td>0781776848</td>\n",
       "      <td>10.37</td>\n",
       "    </tr>\n",
       "    <tr>\n",
       "      <th>4</th>\n",
       "      <td>0840026080</td>\n",
       "      <td>32.00</td>\n",
       "    </tr>\n",
       "    <tr>\n",
       "      <th>5</th>\n",
       "      <td>0894558358</td>\n",
       "      <td>21.99</td>\n",
       "    </tr>\n",
       "  </tbody>\n",
       "</table>\n",
       "</div>"
      ],
      "text/plain": [
       "         asin  price\n",
       "0  0176496920  23.61\n",
       "1  0692782109  20.00\n",
       "2  0781776848  10.37\n",
       "4  0840026080  32.00\n",
       "5  0894558358  21.99"
      ]
     },
     "execution_count": 35,
     "metadata": {},
     "output_type": "execute_result"
    }
   ],
   "source": [
    "price_df.head()"
   ]
  },
  {
   "cell_type": "code",
   "execution_count": 36,
   "metadata": {},
   "outputs": [
    {
     "data": {
      "text/html": [
       "<div>\n",
       "<style scoped>\n",
       "    .dataframe tbody tr th:only-of-type {\n",
       "        vertical-align: middle;\n",
       "    }\n",
       "\n",
       "    .dataframe tbody tr th {\n",
       "        vertical-align: top;\n",
       "    }\n",
       "\n",
       "    .dataframe thead th {\n",
       "        text-align: right;\n",
       "    }\n",
       "</style>\n",
       "<table border=\"1\" class=\"dataframe\">\n",
       "  <thead>\n",
       "    <tr style=\"text-align: right;\">\n",
       "      <th></th>\n",
       "      <th>overall</th>\n",
       "      <th>price</th>\n",
       "    </tr>\n",
       "  </thead>\n",
       "  <tbody>\n",
       "    <tr>\n",
       "      <th>0</th>\n",
       "      <td>5.0</td>\n",
       "      <td>15.99</td>\n",
       "    </tr>\n",
       "    <tr>\n",
       "      <th>1</th>\n",
       "      <td>5.0</td>\n",
       "      <td>15.99</td>\n",
       "    </tr>\n",
       "    <tr>\n",
       "      <th>2</th>\n",
       "      <td>5.0</td>\n",
       "      <td>15.99</td>\n",
       "    </tr>\n",
       "    <tr>\n",
       "      <th>3</th>\n",
       "      <td>5.0</td>\n",
       "      <td>15.99</td>\n",
       "    </tr>\n",
       "    <tr>\n",
       "      <th>4</th>\n",
       "      <td>5.0</td>\n",
       "      <td>15.99</td>\n",
       "    </tr>\n",
       "  </tbody>\n",
       "</table>\n",
       "</div>"
      ],
      "text/plain": [
       "   overall  price\n",
       "0      5.0  15.99\n",
       "1      5.0  15.99\n",
       "2      5.0  15.99\n",
       "3      5.0  15.99\n",
       "4      5.0  15.99"
      ]
     },
     "execution_count": 36,
     "metadata": {},
     "output_type": "execute_result"
    }
   ],
   "source": [
    "price_review_df = pd.merge(df, price_df, how=\"inner\", on=\"asin\")[[\"overall\", \"price\"]]\n",
    "price_review_df.head()"
   ]
  },
  {
   "cell_type": "code",
   "execution_count": 37,
   "metadata": {},
   "outputs": [
    {
     "data": {
      "text/html": [
       "<div>\n",
       "<style scoped>\n",
       "    .dataframe tbody tr th:only-of-type {\n",
       "        vertical-align: middle;\n",
       "    }\n",
       "\n",
       "    .dataframe tbody tr th {\n",
       "        vertical-align: top;\n",
       "    }\n",
       "\n",
       "    .dataframe thead th {\n",
       "        text-align: right;\n",
       "    }\n",
       "</style>\n",
       "<table border=\"1\" class=\"dataframe\">\n",
       "  <thead>\n",
       "    <tr style=\"text-align: right;\">\n",
       "      <th></th>\n",
       "      <th>overall</th>\n",
       "      <th>price</th>\n",
       "    </tr>\n",
       "  </thead>\n",
       "  <tbody>\n",
       "    <tr>\n",
       "      <th>count</th>\n",
       "      <td>67997.000000</td>\n",
       "      <td>67997.000000</td>\n",
       "    </tr>\n",
       "    <tr>\n",
       "      <th>mean</th>\n",
       "      <td>4.539980</td>\n",
       "      <td>22.215755</td>\n",
       "    </tr>\n",
       "    <tr>\n",
       "      <th>std</th>\n",
       "      <td>0.931792</td>\n",
       "      <td>54.232735</td>\n",
       "    </tr>\n",
       "    <tr>\n",
       "      <th>min</th>\n",
       "      <td>1.000000</td>\n",
       "      <td>1.300000</td>\n",
       "    </tr>\n",
       "    <tr>\n",
       "      <th>25%</th>\n",
       "      <td>4.000000</td>\n",
       "      <td>7.190000</td>\n",
       "    </tr>\n",
       "    <tr>\n",
       "      <th>50%</th>\n",
       "      <td>5.000000</td>\n",
       "      <td>10.970000</td>\n",
       "    </tr>\n",
       "    <tr>\n",
       "      <th>75%</th>\n",
       "      <td>5.000000</td>\n",
       "      <td>19.990000</td>\n",
       "    </tr>\n",
       "    <tr>\n",
       "      <th>max</th>\n",
       "      <td>5.000000</td>\n",
       "      <td>899.000000</td>\n",
       "    </tr>\n",
       "  </tbody>\n",
       "</table>\n",
       "</div>"
      ],
      "text/plain": [
       "            overall         price\n",
       "count  67997.000000  67997.000000\n",
       "mean       4.539980     22.215755\n",
       "std        0.931792     54.232735\n",
       "min        1.000000      1.300000\n",
       "25%        4.000000      7.190000\n",
       "50%        5.000000     10.970000\n",
       "75%        5.000000     19.990000\n",
       "max        5.000000    899.000000"
      ]
     },
     "execution_count": 37,
     "metadata": {},
     "output_type": "execute_result"
    }
   ],
   "source": [
    "price_review_df.describe()"
   ]
  },
  {
   "cell_type": "code",
   "execution_count": 39,
   "metadata": {},
   "outputs": [
    {
     "data": {
      "text/plain": [
       "<AxesSubplot:xlabel='price', ylabel='overall'>"
      ]
     },
     "execution_count": 39,
     "metadata": {},
     "output_type": "execute_result"
    },
    {
     "data": {
      "image/png": "[encoded data removed]",
      "text/plain": [
       "<Figure size 432x288 with 1 Axes>"
      ]
     },
     "metadata": {
      "needs_background": "light"
     },
     "output_type": "display_data"
    }
   ],
   "source": [
    "price_review_df.plot.scatter(x=\"price\", y=\"overall\")"
   ]
  },
  {
   "cell_type": "code",
   "execution_count": 40,
   "metadata": {},
   "outputs": [
    {
     "data": {
      "text/html": [
       "<div>\n",
       "<style scoped>\n",
       "    .dataframe tbody tr th:only-of-type {\n",
       "        vertical-align: middle;\n",
       "    }\n",
       "\n",
       "    .dataframe tbody tr th {\n",
       "        vertical-align: top;\n",
       "    }\n",
       "\n",
       "    .dataframe thead th {\n",
       "        text-align: right;\n",
       "    }\n",
       "</style>\n",
       "<table border=\"1\" class=\"dataframe\">\n",
       "  <thead>\n",
       "    <tr style=\"text-align: right;\">\n",
       "      <th></th>\n",
       "      <th>overall</th>\n",
       "      <th>price</th>\n",
       "    </tr>\n",
       "  </thead>\n",
       "  <tbody>\n",
       "    <tr>\n",
       "      <th>overall</th>\n",
       "      <td>1.000000</td>\n",
       "      <td>-0.019592</td>\n",
       "    </tr>\n",
       "    <tr>\n",
       "      <th>price</th>\n",
       "      <td>-0.019592</td>\n",
       "      <td>1.000000</td>\n",
       "    </tr>\n",
       "  </tbody>\n",
       "</table>\n",
       "</div>"
      ],
      "text/plain": [
       "          overall     price\n",
       "overall  1.000000 -0.019592\n",
       "price   -0.019592  1.000000"
      ]
     },
     "execution_count": 40,
     "metadata": {},
     "output_type": "execute_result"
    }
   ],
   "source": [
    "price_review_df.corr()"
   ]
  },
  {
   "cell_type": "code",
   "execution_count": null,
   "metadata": {},
   "outputs": [],
   "source": []
  }
 ],
 "metadata": {
  "interpreter": {
   "hash": "7f0fb73b74445d6392909c9d469b21cbfa1ec308c4aeb674f6b2b586eed9f638"
  },
  "kernelspec": {
   "display_name": "Python 3.9.7 64-bit ('huggingface': conda)",
   "language": "python",
   "name": "python3"
  },
  "language_info": {
   "codemirror_mode": {
    "name": "ipython",
    "version": 3
   },
   "file_extension": ".py",
   "mimetype": "text/x-python",
   "name": "python",
   "nbconvert_exporter": "python",
   "pygments_lexer": "ipython3",
   "version": "3.9.7"
  },
  "orig_nbformat": 4
 },
 "nbformat": 4,
 "nbformat_minor": 2
}
