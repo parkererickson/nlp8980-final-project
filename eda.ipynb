{
 "cells": [
  {
   "cell_type": "code",
   "execution_count": 1,
   "metadata": {},
   "outputs": [],
   "source": [
    "import pandas as pd\n",
    "import json"
   ]
  },
  {
   "cell_type": "code",
   "execution_count": 2,
   "metadata": {},
   "outputs": [],
   "source": [
    "reviews = []\n",
    "data = open(\"./data/Industrial_and_Scientific_5.json\")\n",
    "for line in data.readlines():\n",
    "    reviews.append(json.loads(line))"
   ]
  },
  {
   "cell_type": "code",
   "execution_count": 3,
   "metadata": {},
   "outputs": [
    {
     "data": {
      "text/plain": [
       "77071"
      ]
     },
     "execution_count": 3,
     "metadata": {},
     "output_type": "execute_result"
    }
   ],
   "source": [
    "len(reviews)"
   ]
  },
  {
   "cell_type": "code",
   "execution_count": 4,
   "metadata": {},
   "outputs": [],
   "source": [
    "df = pd.DataFrame(reviews)"
   ]
  },
  {
   "cell_type": "code",
   "execution_count": 5,
   "metadata": {},
   "outputs": [
    {
     "data": {
      "text/html": [
       "<div>\n",
       "<style scoped>\n",
       "    .dataframe tbody tr th:only-of-type {\n",
       "        vertical-align: middle;\n",
       "    }\n",
       "\n",
       "    .dataframe tbody tr th {\n",
       "        vertical-align: top;\n",
       "    }\n",
       "\n",
       "    .dataframe thead th {\n",
       "        text-align: right;\n",
       "    }\n",
       "</style>\n",
       "<table border=\"1\" class=\"dataframe\">\n",
       "  <thead>\n",
       "    <tr style=\"text-align: right;\">\n",
       "      <th></th>\n",
       "      <th>overall</th>\n",
       "      <th>verified</th>\n",
       "      <th>reviewTime</th>\n",
       "      <th>reviewerID</th>\n",
       "      <th>asin</th>\n",
       "      <th>style</th>\n",
       "      <th>reviewerName</th>\n",
       "      <th>reviewText</th>\n",
       "      <th>summary</th>\n",
       "      <th>unixReviewTime</th>\n",
       "      <th>vote</th>\n",
       "      <th>image</th>\n",
       "    </tr>\n",
       "  </thead>\n",
       "  <tbody>\n",
       "    <tr>\n",
       "      <th>0</th>\n",
       "      <td>5.0</td>\n",
       "      <td>True</td>\n",
       "      <td>11 27, 2017</td>\n",
       "      <td>A1JB7HFWHRYHT7</td>\n",
       "      <td>B0000223SI</td>\n",
       "      <td>{'Size:': ' 1-(Pack)'}</td>\n",
       "      <td>Alex W.</td>\n",
       "      <td>This worked really well for what I used it for...</td>\n",
       "      <td>Couldn't have been happier with it's performance</td>\n",
       "      <td>1511740800</td>\n",
       "      <td>NaN</td>\n",
       "      <td>NaN</td>\n",
       "    </tr>\n",
       "    <tr>\n",
       "      <th>1</th>\n",
       "      <td>5.0</td>\n",
       "      <td>True</td>\n",
       "      <td>11 4, 2017</td>\n",
       "      <td>A2FCLJG5GV8SD6</td>\n",
       "      <td>B0000223SI</td>\n",
       "      <td>{'Size:': ' 1-(Pack)'}</td>\n",
       "      <td>Randall Harris</td>\n",
       "      <td>Fast cutting and good adheasive.</td>\n",
       "      <td>Good paper.</td>\n",
       "      <td>1509753600</td>\n",
       "      <td>NaN</td>\n",
       "      <td>NaN</td>\n",
       "    </tr>\n",
       "    <tr>\n",
       "      <th>2</th>\n",
       "      <td>5.0</td>\n",
       "      <td>False</td>\n",
       "      <td>10 27, 2017</td>\n",
       "      <td>A3IT9B33NWYQSL</td>\n",
       "      <td>B0000223SI</td>\n",
       "      <td>{'Size:': ' 1-(Pack)'}</td>\n",
       "      <td>A. C.</td>\n",
       "      <td>Worked great for my lapping bench.  I would li...</td>\n",
       "      <td>Handy!</td>\n",
       "      <td>1509062400</td>\n",
       "      <td>NaN</td>\n",
       "      <td>NaN</td>\n",
       "    </tr>\n",
       "    <tr>\n",
       "      <th>3</th>\n",
       "      <td>4.0</td>\n",
       "      <td>True</td>\n",
       "      <td>01 13, 2018</td>\n",
       "      <td>AUL5LCV4TT73P</td>\n",
       "      <td>B0000223SK</td>\n",
       "      <td>{'Size:': ' 1-Pack'}</td>\n",
       "      <td>TnT</td>\n",
       "      <td>As advertised</td>\n",
       "      <td>As advertised</td>\n",
       "      <td>1515801600</td>\n",
       "      <td>NaN</td>\n",
       "      <td>NaN</td>\n",
       "    </tr>\n",
       "    <tr>\n",
       "      <th>4</th>\n",
       "      <td>5.0</td>\n",
       "      <td>True</td>\n",
       "      <td>10 7, 2017</td>\n",
       "      <td>A1V3I3L5JKO7TM</td>\n",
       "      <td>B0000223SK</td>\n",
       "      <td>{'Size:': ' 1-Pack'}</td>\n",
       "      <td>John Jones</td>\n",
       "      <td>seems like a pretty good value as opposed to b...</td>\n",
       "      <td>seems like a pretty good value as opposed to b...</td>\n",
       "      <td>1507334400</td>\n",
       "      <td>NaN</td>\n",
       "      <td>NaN</td>\n",
       "    </tr>\n",
       "  </tbody>\n",
       "</table>\n",
       "</div>"
      ],
      "text/plain": [
       "   overall  verified   reviewTime      reviewerID        asin  \\\n",
       "0      5.0      True  11 27, 2017  A1JB7HFWHRYHT7  B0000223SI   \n",
       "1      5.0      True   11 4, 2017  A2FCLJG5GV8SD6  B0000223SI   \n",
       "2      5.0     False  10 27, 2017  A3IT9B33NWYQSL  B0000223SI   \n",
       "3      4.0      True  01 13, 2018   AUL5LCV4TT73P  B0000223SK   \n",
       "4      5.0      True   10 7, 2017  A1V3I3L5JKO7TM  B0000223SK   \n",
       "\n",
       "                    style    reviewerName  \\\n",
       "0  {'Size:': ' 1-(Pack)'}         Alex W.   \n",
       "1  {'Size:': ' 1-(Pack)'}  Randall Harris   \n",
       "2  {'Size:': ' 1-(Pack)'}           A. C.   \n",
       "3    {'Size:': ' 1-Pack'}             TnT   \n",
       "4    {'Size:': ' 1-Pack'}      John Jones   \n",
       "\n",
       "                                          reviewText  \\\n",
       "0  This worked really well for what I used it for...   \n",
       "1                   Fast cutting and good adheasive.   \n",
       "2  Worked great for my lapping bench.  I would li...   \n",
       "3                                      As advertised   \n",
       "4  seems like a pretty good value as opposed to b...   \n",
       "\n",
       "                                             summary  unixReviewTime vote  \\\n",
       "0   Couldn't have been happier with it's performance      1511740800  NaN   \n",
       "1                                        Good paper.      1509753600  NaN   \n",
       "2                                             Handy!      1509062400  NaN   \n",
       "3                                      As advertised      1515801600  NaN   \n",
       "4  seems like a pretty good value as opposed to b...      1507334400  NaN   \n",
       "\n",
       "  image  \n",
       "0   NaN  \n",
       "1   NaN  \n",
       "2   NaN  \n",
       "3   NaN  \n",
       "4   NaN  "
      ]
     },
     "execution_count": 5,
     "metadata": {},
     "output_type": "execute_result"
    }
   ],
   "source": [
    "df.head()"
   ]
  },
  {
   "cell_type": "code",
   "execution_count": 7,
   "metadata": {},
   "outputs": [
    {
     "data": {
      "text/plain": [
       "<AxesSubplot:>"
      ]
     },
     "execution_count": 7,
     "metadata": {},
     "output_type": "execute_result"
    },
    {
     "data": {
      "image/png": "[encoded data removed]",
      "text/plain": [
       "<Figure size 432x288 with 1 Axes>"
      ]
     },
     "metadata": {
      "needs_background": "light"
     },
     "output_type": "display_data"
    }
   ],
   "source": [
    "df[\"overall\"].hist(bins=5)"
   ]
  },
  {
   "cell_type": "code",
   "execution_count": 15,
   "metadata": {},
   "outputs": [
    {
     "data": {
      "text/plain": [
       "<AxesSubplot:>"
      ]
     },
     "execution_count": 15,
     "metadata": {},
     "output_type": "execute_result"
    },
    {
     "data": {
      "image/png": "[encoded data removed]",
      "text/plain": [
       "<Figure size 432x288 with 1 Axes>"
      ]
     },
     "metadata": {
      "needs_background": "light"
     },
     "output_type": "display_data"
    }
   ],
   "source": [
    "df[\"asin\"].value_counts().head(25).plot.bar()"
   ]
  },
  {
   "cell_type": "code",
   "execution_count": 22,
   "metadata": {},
   "outputs": [
    {
     "name": "stdout",
     "output_type": "stream",
     "text": [
      "ASIN: B0013BKDO8\n"
     ]
    },
    {
     "data": {
      "image/png": "[encoded data removed]",
      "text/plain": [
       "<Figure size 432x288 with 1 Axes>"
      ]
     },
     "metadata": {
      "needs_background": "light"
     },
     "output_type": "display_data"
    },
    {
     "name": "stdout",
     "output_type": "stream",
     "text": [
      "ASIN: B00DRALJ28\n"
     ]
    },
    {
     "data": {
      "image/png": "[encoded data removed]",
      "text/plain": [
       "<Figure size 432x288 with 1 Axes>"
      ]
     },
     "metadata": {
      "needs_background": "light"
     },
     "output_type": "display_data"
    },
    {
     "name": "stdout",
     "output_type": "stream",
     "text": [
      "ASIN: B0001MSC84\n"
     ]
    },
    {
     "data": {
      "image/png": "[encoded data removed]",
      "text/plain": [
       "<Figure size 432x288 with 1 Axes>"
      ]
     },
     "metadata": {
      "needs_background": "light"
     },
     "output_type": "display_data"
    },
    {
     "name": "stdout",
     "output_type": "stream",
     "text": [
      "ASIN: B000EJUBBU\n"
     ]
    },
    {
     "data": {
      "image/png": "[encoded data removed]",
      "text/plain": [
       "<Figure size 432x288 with 1 Axes>"
      ]
     },
     "metadata": {
      "needs_background": "light"
     },
     "output_type": "display_data"
    },
    {
     "name": "stdout",
     "output_type": "stream",
     "text": [
      "ASIN: B001766LZO\n"
     ]
    },
    {
     "data": {
      "image/png": "[encoded data removed]",
      "text/plain": [
       "<Figure size 432x288 with 1 Axes>"
      ]
     },
     "metadata": {
      "needs_background": "light"
     },
     "output_type": "display_data"
    }
   ],
   "source": [
    "import matplotlib.pyplot as plt\n",
    "for asin in list(df[\"asin\"].value_counts().head(5).index):\n",
    "    print(\"ASIN:\", asin)\n",
    "    asin_reviews = df[df[\"asin\"] == asin]\n",
    "    asin_reviews[\"overall\"].hist(bins=5)\n",
    "    plt.show()\n"
   ]
  },
  {
   "cell_type": "code",
   "execution_count": null,
   "metadata": {},
   "outputs": [],
   "source": []
  }
 ],
 "metadata": {
  "interpreter": {
   "hash": "7f0fb73b74445d6392909c9d469b21cbfa1ec308c4aeb674f6b2b586eed9f638"
  },
  "kernelspec": {
   "display_name": "Python 3.9.7 64-bit ('huggingface': conda)",
   "language": "python",
   "name": "python3"
  },
  "language_info": {
   "codemirror_mode": {
    "name": "ipython",
    "version": 3
   },
   "file_extension": ".py",
   "mimetype": "text/x-python",
   "name": "python",
   "nbconvert_exporter": "python",
   "pygments_lexer": "ipython3",
   "version": "3.9.7"
  },
  "orig_nbformat": 4
 },
 "nbformat": 4,
 "nbformat_minor": 2
}
