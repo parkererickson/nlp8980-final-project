{
 "cells": [
  {
   "cell_type": "code",
   "execution_count": 1,
   "metadata": {},
   "outputs": [],
   "source": [
    "import torch\n",
    "import cl_graph_bert as cgm\n",
    "from torch import nn\n",
    "import torch.nn.functional as F\n",
    "\n",
    "import dgl\n",
    "g = dgl.load_graphs(\"./graphs/industrial_and_scientific_5_core.dgl\")[0][0]\n",
    "\n",
    "model = cgm.CLIPGraphModel(\n",
    "    rel_types = g.etypes,\n",
    "    emb_types = {x: g.number_of_nodes(x) for x in g.ntypes} \n",
    ")"
   ]
  },
  {
   "cell_type": "code",
   "execution_count": null,
   "metadata": {},
   "outputs": [],
   "source": [
    "import json\n",
    "from transformers import BertModel, BertConfig, BertTokenizer, AdamW\n",
    "import tqdm\n",
    "\n",
    "from torch.utils.data import Dataset, DataLoader\n",
    "\n",
    "class ReviewDataset(torch.utils.data.Dataset):\n",
    "    def __init__(self, tokens, labels, ids):\n",
    "        self.tokens = tokens\n",
    "        self.labels = labels\n",
    "        self.ids = ids\n",
    "        \n",
    "    def __len__(self):\n",
    "        return len(self.tokens['input_ids'])\n",
    "\n",
    "    def __getitem__(self, idx):\n",
    "        item = {key: torch.tensor(val[idx]) for key, val in self.tokens.items()}\n",
    "        out = {\"tokens\": item, \"label\": self.labels[idx], \"id\": self.ids[idx]}\n",
    "        return out\n",
    "\n",
    "def process_text(filepath, batch_size):\n",
    "    reviews = []\n",
    "    data = open(filepath)\n",
    "    for line in data.readlines():\n",
    "        reviews.append(json.loads(line))\n",
    "\n",
    "    review_texts = []\n",
    "    review_scores = []\n",
    "\n",
    "    for sample in reviews:\n",
    "        if 'reviewText' in sample and 'overall' in sample:\n",
    "            review_texts.append(sample['reviewText'])\n",
    "            if sample['overall'] >= 4:\n",
    "                review_scores.append(1)\n",
    "            else:\n",
    "                review_scores.append(0)\n",
    "                \n",
    "    train_reviews = review_texts[:len(review_texts)//2]\n",
    "    train_ids = [i for i in range(0, len(review_texts)//2+1)]\n",
    "    test_reviews = review_texts[len(review_texts)//2:]\n",
    "    test_ids = [i for i in range(len(review_texts)//2, len(review_texts))]\n",
    "    train_scores = review_scores[:len(review_texts)//2]\n",
    "    test_scores = review_scores[len(review_texts)//2:]\n",
    "\n",
    "    tokenizer = BertTokenizer.from_pretrained('bert-base-uncased')\n",
    "\n",
    "    tokenized_train_reviews = tokenizer(train_reviews, return_tensors=\"pt\", padding='max_length', truncation=True)\n",
    "    tokenized_test_reviews = tokenizer(test_reviews, return_tensors=\"pt\", padding='max_length', truncation=True)\n",
    "\n",
    "    train_dataset = ReviewDataset(tokenized_train_reviews, train_scores, train_ids)\n",
    "    test_dataset = ReviewDataset(tokenized_test_reviews, test_scores, test_ids)\n",
    "\n",
    "    train_loader = DataLoader(train_dataset, batch_size=batch_size, shuffle=True)\n",
    "    test_loader = DataLoader(test_dataset, batch_size=batch_size, shuffle=True)\n",
    "    return train_loader, test_loader"
   ]
  },
  {
   "cell_type": "code",
   "execution_count": null,
   "metadata": {},
   "outputs": [],
   "source": [
    "batch_size = 16\n",
    "train_loader, test_loader = process_text(\"./data/Industrial_and_Scientific_5.json\", batch_size)"
   ]
  },
  {
   "cell_type": "code",
   "execution_count": null,
   "metadata": {},
   "outputs": [],
   "source": [
    "device = \"cpu\"\n",
    "\n",
    "model.load_state_dict(torch.load(\"./state_dict.pt\", map_location=torch.device(device)))\n",
    "model.eval()"
   ]
  },
  {
   "cell_type": "code",
   "execution_count": null,
   "metadata": {},
   "outputs": [],
   "source": [
    "review_emb = model.graph_projection(model.graph_model(g)[\"Review\"].double())\n",
    "review_emb = review_emb / review_emb.norm(dim=-1, keepdim=True)"
   ]
  },
  {
   "cell_type": "code",
   "execution_count": null,
   "metadata": {},
   "outputs": [],
   "source": [
    "top1 = []\n",
    "top5 = []\n",
    "top10 = []\n",
    "j = 0\n",
    "for batch in test_loader:\n",
    "    if j > 9:\n",
    "        break\n",
    "    out = model(g.to(device), \"Review\", batch[\"tokens\"], batch[\"id\"].to(device))\n",
    "    for i in range(len(batch[\"id\"])):\n",
    "        pred_ids = F.cosine_similarity(review_emb, out[\"language_emb\"][i]).topk(k=10)[1]\n",
    "        print(pred_ids)\n",
    "        print(batch[\"id\"][i])\n",
    "        if pred_ids[0] == batch[\"id\"][i]:\n",
    "            top1.append(True)\n",
    "        else:\n",
    "            top1.append(False)\n",
    "        if batch[\"id\"][i] in pred_ids[:5]:\n",
    "            top5.append(True)\n",
    "        else:\n",
    "            top5.append(False)\n",
    "        if batch[\"id\"][i] in pred_ids:\n",
    "            top10.append(True)\n",
    "        else:\n",
    "            top10.append(False)\n",
    "    j += 1\n",
    "\n",
    "top1 = torch.tensor(top1)\n",
    "top5 = torch.tensor(top5)\n",
    "top10 = torch.tensor(top10)"
   ]
  },
  {
   "cell_type": "code",
   "execution_count": null,
   "metadata": {},
   "outputs": [],
   "source": [
    "top1.sum()/len(top1)"
   ]
  },
  {
   "cell_type": "code",
   "execution_count": null,
   "metadata": {},
   "outputs": [],
   "source": [
    "top5.sum()/len(top5)"
   ]
  },
  {
   "cell_type": "code",
   "execution_count": null,
   "metadata": {},
   "outputs": [],
   "source": [
    "top10.sum()/len(top10)"
   ]
  },
  {
   "cell_type": "code",
   "execution_count": null,
   "metadata": {},
   "outputs": [],
   "source": []
  }
 ],
 "metadata": {
  "interpreter": {
   "hash": "7f0fb73b74445d6392909c9d469b21cbfa1ec308c4aeb674f6b2b586eed9f638"
  },
  "kernelspec": {
   "display_name": "Python 3.9.7 ('huggingface')",
   "language": "python",
   "name": "python3"
  },
  "language_info": {
   "codemirror_mode": {
    "name": "ipython",
    "version": 3
   },
   "file_extension": ".py",
   "mimetype": "text/x-python",
   "name": "python",
   "nbconvert_exporter": "python",
   "pygments_lexer": "ipython3",
   "version": "3.9.7"
  },
  "orig_nbformat": 4
 },
 "nbformat": 4,
 "nbformat_minor": 2
}
