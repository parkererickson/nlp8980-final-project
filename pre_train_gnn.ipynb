{
 "cells": [
  {
   "cell_type": "code",
   "execution_count": 1,
   "metadata": {},
   "outputs": [],
   "source": [
    "import dgl.nn as dglnn\n",
    "import dgl\n",
    "import dgl.nn.functional as fn\n",
    "import torch\n",
    "import torch.nn as nn\n",
    "import numpy as np\n",
    "from dgl.nn import HeteroEmbedding\n",
    "device = 'cpu'      # change to 'cuda' for GPU\n",
    "\n",
    "graph = dgl.load_graphs(\"./graphs/industrial_and_scientific_5_core_new.dgl\")[0][0]\n",
    "\n",
    "train_nids = graph.ndata['train_split']\n",
    "test_nids = graph.ndata['test_split']"
   ]
  },
  {
   "cell_type": "code",
   "execution_count": 2,
   "metadata": {},
   "outputs": [
    {
     "data": {
      "text/plain": [
       "[('Brand', 'rev_SOLD_BY', 'Product'),\n",
       " ('Customer', 'WROTE', 'Review'),\n",
       " ('Product', 'SOLD_BY', 'Brand'),\n",
       " ('Product', 'rev_REVIEW_OF', 'Review'),\n",
       " ('Review', 'REVIEW_OF', 'Product'),\n",
       " ('Review', 'rev_WROTE', 'Customer')]"
      ]
     },
     "execution_count": 2,
     "metadata": {},
     "output_type": "execute_result"
    }
   ],
   "source": [
    "graph.canonical_etypes"
   ]
  },
  {
   "cell_type": "code",
   "execution_count": 3,
   "metadata": {},
   "outputs": [],
   "source": [
    "#sampler = dgl.dataloading.MultiLayerFullNeighborSampler(2)\n",
    "sampler = dgl.dataloading.NeighborSampler([5, 10])"
   ]
  },
  {
   "cell_type": "code",
   "execution_count": 4,
   "metadata": {},
   "outputs": [],
   "source": [
    "class StochasticTwoLayerRGCN(nn.Module):\n",
    "    def __init__(self, emb_types, emb_size, hid_feats, out_feats, rel_names):\n",
    "        super().__init__()\n",
    "        self.embed = HeteroEmbedding(emb_types, emb_size)\n",
    "        self.conv1 = dglnn.HeteroGraphConv({\n",
    "            rel: dglnn.GraphConv(emb_size, hid_feats)\n",
    "            for rel in rel_names}, aggregate='mean')\n",
    "        self.conv2 = dglnn.HeteroGraphConv({\n",
    "            rel: dglnn.GraphConv(hid_feats, out_feats)\n",
    "            for rel in rel_names}, aggregate='mean')\n",
    "\n",
    "    def forward(self, blocks):\n",
    "        x = self.embed(blocks[0].ndata[\"_ID\"])\n",
    "        x = self.conv1(blocks[0], x)\n",
    "        x = self.conv2(blocks[1], x)\n",
    "        return x"
   ]
  },
  {
   "cell_type": "code",
   "execution_count": 5,
   "metadata": {},
   "outputs": [],
   "source": [
    "class ScorePredictor(nn.Module):\n",
    "    def forward(self, edge_subgraph, x):\n",
    "        with edge_subgraph.local_scope():\n",
    "            edge_subgraph.ndata['x'] = x\n",
    "            for etype in edge_subgraph.canonical_etypes:\n",
    "                edge_subgraph.apply_edges(\n",
    "                    dgl.function.u_dot_v('x', 'x', 'score'), etype=etype)\n",
    "            return edge_subgraph.edata['score']\n",
    "\n",
    "class Model(nn.Module):\n",
    "    def __init__(self, emb_types, in_features, hidden_features, out_features,\n",
    "                 etypes):\n",
    "        super().__init__()\n",
    "        self.rgcn = StochasticTwoLayerRGCN(\n",
    "            emb_types, in_features, hidden_features, out_features, etypes)\n",
    "        self.pred = ScorePredictor()\n",
    "\n",
    "    def forward(self, positive_graph, negative_graph, blocks):\n",
    "        x = self.rgcn(blocks)\n",
    "        pos_score = self.pred(positive_graph, x)\n",
    "        neg_score = self.pred(negative_graph, x)\n",
    "        return pos_score, neg_score"
   ]
  },
  {
   "cell_type": "code",
   "execution_count": 6,
   "metadata": {},
   "outputs": [],
   "source": [
    "train_eid_dict = {\n",
    "    etype: graph.edges(etype=etype, form='eid')\n",
    "    for etype in graph.canonical_etypes}\n",
    "\n",
    "sampler = dgl.dataloading.as_edge_prediction_sampler(\n",
    "    sampler, negative_sampler=dgl.dataloading.negative_sampler.PerSourceUniform(5))\n",
    "\n",
    "dataloader = dgl.dataloading.DataLoader(\n",
    "    graph, train_eid_dict, sampler,\n",
    "    batch_size=2048,\n",
    "    shuffle=True,\n",
    "    drop_last=False,\n",
    "    num_workers=1)"
   ]
  },
  {
   "cell_type": "code",
   "execution_count": 7,
   "metadata": {},
   "outputs": [],
   "source": [
    "def compute_loss(pos_score, neg_score):\n",
    "    # an example hinge loss\n",
    "    loss = 0\n",
    "    num_summed = 0\n",
    "    for e_type in pos_score.keys():\n",
    "        n = pos_score[e_type].shape[0]\n",
    "        if n > 0:\n",
    "            loss += (neg_score[e_type].view(n, -1) - pos_score[e_type].view(n, -1) + 1).clamp(min=0).mean()\n",
    "            num_summed += 1\n",
    "    return loss / num_summed"
   ]
  },
  {
   "cell_type": "code",
   "execution_count": 8,
   "metadata": {},
   "outputs": [
    {
     "name": "stderr",
     "output_type": "stream",
     "text": [
      "/opt/anaconda3/envs/huggingface/lib/python3.9/site-packages/torch/autocast_mode.py:141: UserWarning: User provided device_type of 'cuda', but CUDA is not available. Disabling\n",
      "  warnings.warn('User provided device_type of \\'cuda\\', but CUDA is not available. Disabling')\n"
     ]
    }
   ],
   "source": [
    "model = Model({x: graph.number_of_nodes(x) for x in graph.ntypes}, 512, 256, 256, graph.etypes)\n",
    "model = model.to(device)\n",
    "opt = torch.optim.Adam(model.parameters())\n",
    "\n",
    "epochs = 5\n",
    "\n",
    "for i in range(epochs):\n",
    "    epoch_loss = 0\n",
    "    for input_nodes, positive_graph, negative_graph, blocks in dataloader:\n",
    "        blocks = [b.to(device) for b in blocks]\n",
    "        positive_graph = positive_graph.to(device)\n",
    "        negative_graph = negative_graph.to(device)\n",
    "        pos_score, neg_score = model(positive_graph, negative_graph, blocks)\n",
    "        loss = compute_loss(pos_score, neg_score)\n",
    "        epoch_loss += loss\n",
    "        opt.zero_grad()\n",
    "        loss.backward()\n",
    "        opt.step()\n",
    "    epoch_loss /= len(dataloader)\n",
    "    print(\"=== EPOCH: {} \\t LOSS: {}\".format(i, epoch_loss))\n"
   ]
  },
  {
   "cell_type": "code",
   "execution_count": 33,
   "metadata": {},
   "outputs": [],
   "source": [
    "X = model.rgcn.embed.embeds[\"Review\"](torch.tensor([i for i in range(graph.num_nodes(\"Review\"))])).detach().numpy()\n",
    "y = graph.ndata[\"Positive\"][\"Review\"].detach().numpy()"
   ]
  },
  {
   "cell_type": "code",
   "execution_count": 34,
   "metadata": {},
   "outputs": [
    {
     "data": {
      "text/plain": [
       "(77060, 512)"
      ]
     },
     "execution_count": 34,
     "metadata": {},
     "output_type": "execute_result"
    }
   ],
   "source": [
    "X.shape"
   ]
  },
  {
   "cell_type": "code",
   "execution_count": 35,
   "metadata": {},
   "outputs": [
    {
     "data": {
      "text/plain": [
       "(77060,)"
      ]
     },
     "execution_count": 35,
     "metadata": {},
     "output_type": "execute_result"
    }
   ],
   "source": [
    "y.shape"
   ]
  },
  {
   "cell_type": "code",
   "execution_count": 36,
   "metadata": {},
   "outputs": [],
   "source": [
    "from sklearn.model_selection import train_test_split\n",
    "X_train, X_test, y_train, y_test = train_test_split(X, y)"
   ]
  },
  {
   "cell_type": "code",
   "execution_count": 40,
   "metadata": {},
   "outputs": [
    {
     "data": {
      "text/plain": [
       "LogisticRegression(class_weight='balanced')"
      ]
     },
     "execution_count": 40,
     "metadata": {},
     "output_type": "execute_result"
    }
   ],
   "source": [
    "from sklearn.linear_model import LogisticRegression\n",
    "\n",
    "clf = LogisticRegression(class_weight=\"balanced\")\n",
    "clf.fit(X_train, y_train)"
   ]
  },
  {
   "cell_type": "code",
   "execution_count": 41,
   "metadata": {},
   "outputs": [
    {
     "name": "stdout",
     "output_type": "stream",
     "text": [
      "              precision    recall  f1-score   support\n",
      "\n",
      "         0.0       0.11      0.45      0.18      2149\n",
      "         1.0       0.89      0.54      0.67     17116\n",
      "\n",
      "    accuracy                           0.53     19265\n",
      "   macro avg       0.50      0.50      0.43     19265\n",
      "weighted avg       0.80      0.53      0.62     19265\n",
      "\n"
     ]
    }
   ],
   "source": [
    "from sklearn.metrics import classification_report\n",
    "\n",
    "print(classification_report(y_test, clf.predict(X_test)))"
   ]
  },
  {
   "cell_type": "code",
   "execution_count": 42,
   "metadata": {},
   "outputs": [
    {
     "data": {
      "text/plain": [
       "0.6741564889645925"
      ]
     },
     "execution_count": 42,
     "metadata": {},
     "output_type": "execute_result"
    }
   ],
   "source": [
    "from sklearn.metrics import f1_score\n",
    "f1_score(y_test, clf.predict(X_test))"
   ]
  },
  {
   "cell_type": "code",
   "execution_count": 43,
   "metadata": {},
   "outputs": [
    {
     "data": {
      "text/plain": [
       "array([[ 973, 1176],\n",
       "       [7815, 9301]])"
      ]
     },
     "execution_count": 43,
     "metadata": {},
     "output_type": "execute_result"
    }
   ],
   "source": [
    "from sklearn.metrics import confusion_matrix\n",
    "confusion_matrix(y_test, clf.predict(X_test))"
   ]
  },
  {
   "cell_type": "code",
   "execution_count": null,
   "metadata": {},
   "outputs": [],
   "source": []
  }
 ],
 "metadata": {
  "interpreter": {
   "hash": "7f0fb73b74445d6392909c9d469b21cbfa1ec308c4aeb674f6b2b586eed9f638"
  },
  "kernelspec": {
   "display_name": "Python 3.9.7 ('huggingface')",
   "language": "python",
   "name": "python3"
  },
  "language_info": {
   "codemirror_mode": {
    "name": "ipython",
    "version": 3
   },
   "file_extension": ".py",
   "mimetype": "text/x-python",
   "name": "python",
   "nbconvert_exporter": "python",
   "pygments_lexer": "ipython3",
   "version": "3.9.7"
  },
  "orig_nbformat": 4
 },
 "nbformat": 4,
 "nbformat_minor": 2
}
