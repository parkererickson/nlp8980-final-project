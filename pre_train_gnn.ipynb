{
 "cells": [
  {
   "cell_type": "code",
   "execution_count": 1,
   "metadata": {},
   "outputs": [],
   "source": [
    "import dgl.nn as dglnn\n",
    "import dgl\n",
    "import dgl.nn.functional as fn\n",
    "import torch\n",
    "import torch.nn as nn\n",
    "import numpy as np\n",
    "from dgl.nn import HeteroEmbedding\n",
    "device = 'cpu'      # change to 'cuda' for GPU\n",
    "\n",
    "graph = dgl.load_graphs(\"./graphs/industrial_and_scientific_5_core_new.dgl\")[0][0]\n",
    "\n",
    "train_nids = graph.ndata['train_split']\n",
    "test_nids = graph.ndata['test_split']"
   ]
  },
  {
   "cell_type": "code",
   "execution_count": 2,
   "metadata": {},
   "outputs": [
    {
     "data": {
      "text/plain": [
       "[('Brand', 'rev_SOLD_BY', 'Product'),\n",
       " ('Customer', 'WROTE', 'Review'),\n",
       " ('Product', 'SOLD_BY', 'Brand'),\n",
       " ('Product', 'rev_REVIEW_OF', 'Review'),\n",
       " ('Review', 'REVIEW_OF', 'Product'),\n",
       " ('Review', 'rev_WROTE', 'Customer')]"
      ]
     },
     "execution_count": 2,
     "metadata": {},
     "output_type": "execute_result"
    }
   ],
   "source": [
    "graph.canonical_etypes"
   ]
  },
  {
   "cell_type": "code",
   "execution_count": 3,
   "metadata": {},
   "outputs": [],
   "source": [
    "sampler = dgl.dataloading.MultiLayerFullNeighborSampler(2)"
   ]
  },
  {
   "cell_type": "code",
   "execution_count": 4,
   "metadata": {},
   "outputs": [],
   "source": [
    "class StochasticTwoLayerRGCN(nn.Module):\n",
    "    def __init__(self, emb_types, emb_size, hid_feats, out_feats, rel_names):\n",
    "        super().__init__()\n",
    "        self.embed = HeteroEmbedding(emb_types, emb_size)\n",
    "        self.conv1 = dglnn.HeteroGraphConv({\n",
    "            rel: dglnn.GraphConv(emb_size, hid_feats)\n",
    "            for rel in rel_names}, aggregate='sum')\n",
    "        self.conv2 = dglnn.HeteroGraphConv({\n",
    "            rel: dglnn.GraphConv(hid_feats, out_feats)\n",
    "            for rel in rel_names}, aggregate='sum')\n",
    "\n",
    "    def forward(self, blocks):\n",
    "        x = self.embed(blocks[0].ndata[\"_ID\"])\n",
    "        x = self.conv1(blocks[0], x)\n",
    "        x = self.conv2(blocks[1], x)\n",
    "        return x"
   ]
  },
  {
   "cell_type": "code",
   "execution_count": 5,
   "metadata": {},
   "outputs": [],
   "source": [
    "class ScorePredictor(nn.Module):\n",
    "    def forward(self, edge_subgraph, x):\n",
    "        with edge_subgraph.local_scope():\n",
    "            edge_subgraph.ndata['x'] = x\n",
    "            for etype in edge_subgraph.canonical_etypes:\n",
    "                edge_subgraph.apply_edges(\n",
    "                    dgl.function.u_dot_v('x', 'x', 'score'), etype=etype)\n",
    "            return edge_subgraph.edata['score']\n",
    "\n",
    "class Model(nn.Module):\n",
    "    def __init__(self, emb_types, in_features, hidden_features, out_features,\n",
    "                 etypes):\n",
    "        super().__init__()\n",
    "        self.rgcn = StochasticTwoLayerRGCN(\n",
    "            emb_types, in_features, hidden_features, out_features, etypes)\n",
    "        self.pred = ScorePredictor()\n",
    "\n",
    "    def forward(self, positive_graph, negative_graph, blocks):\n",
    "        x = self.rgcn(blocks)\n",
    "        pos_score = self.pred(positive_graph, x)\n",
    "        neg_score = self.pred(negative_graph, x)\n",
    "        return pos_score, neg_score"
   ]
  },
  {
   "cell_type": "code",
   "execution_count": 6,
   "metadata": {},
   "outputs": [],
   "source": [
    "train_eid_dict = {\n",
    "    etype: graph.edges(etype=etype, form='eid')\n",
    "    for etype in graph.canonical_etypes}\n",
    "\n",
    "sampler = dgl.dataloading.as_edge_prediction_sampler(\n",
    "    sampler, negative_sampler=dgl.dataloading.negative_sampler.PerSourceUniform(5))\n",
    "\n",
    "dataloader = dgl.dataloading.DataLoader(\n",
    "    graph, train_eid_dict, sampler,\n",
    "    batch_size=1024,\n",
    "    shuffle=True,\n",
    "    drop_last=False,\n",
    "    num_workers=1)"
   ]
  },
  {
   "cell_type": "code",
   "execution_count": 7,
   "metadata": {},
   "outputs": [],
   "source": [
    "def compute_loss(pos_score, neg_score):\n",
    "    # an example hinge loss\n",
    "    loss = 0\n",
    "    num_summed = 0\n",
    "    for e_type in pos_score.keys():\n",
    "        n = pos_score[e_type].shape[0]\n",
    "        if n > 0:\n",
    "            loss += (neg_score[e_type].view(n, -1) - pos_score[e_type].view(n, -1) + 1).clamp(min=0).mean()\n",
    "            num_summed += 1\n",
    "    return loss / num_summed"
   ]
  },
  {
   "cell_type": "code",
   "execution_count": 8,
   "metadata": {},
   "outputs": [
    {
     "name": "stderr",
     "output_type": "stream",
     "text": [
      "/opt/anaconda3/envs/huggingface/lib/python3.9/site-packages/torch/autocast_mode.py:141: UserWarning: User provided device_type of 'cuda', but CUDA is not available. Disabling\n",
      "  warnings.warn('User provided device_type of \\'cuda\\', but CUDA is not available. Disabling')\n"
     ]
    },
    {
     "ename": "KeyboardInterrupt",
     "evalue": "",
     "output_type": "error",
     "traceback": [
      "\u001b[0;31m---------------------------------------------------------------------------\u001b[0m",
      "\u001b[0;31mKeyboardInterrupt\u001b[0m                         Traceback (most recent call last)",
      "\u001b[1;32m/Users/parkererickson/nlp8980/final_project/pre_train_gnn.ipynb Cell 8'\u001b[0m in \u001b[0;36m<module>\u001b[0;34m\u001b[0m\n\u001b[1;32m     <a href='vscode-notebook-cell:/Users/parkererickson/nlp8980/final_project/pre_train_gnn.ipynb#ch0000036?line=14'>15</a>\u001b[0m     epoch_loss \u001b[39m+\u001b[39m\u001b[39m=\u001b[39m loss\n\u001b[1;32m     <a href='vscode-notebook-cell:/Users/parkererickson/nlp8980/final_project/pre_train_gnn.ipynb#ch0000036?line=15'>16</a>\u001b[0m     opt\u001b[39m.\u001b[39mzero_grad()\n\u001b[0;32m---> <a href='vscode-notebook-cell:/Users/parkererickson/nlp8980/final_project/pre_train_gnn.ipynb#ch0000036?line=16'>17</a>\u001b[0m     loss\u001b[39m.\u001b[39;49mbackward()\n\u001b[1;32m     <a href='vscode-notebook-cell:/Users/parkererickson/nlp8980/final_project/pre_train_gnn.ipynb#ch0000036?line=17'>18</a>\u001b[0m     opt\u001b[39m.\u001b[39mstep()\n\u001b[1;32m     <a href='vscode-notebook-cell:/Users/parkererickson/nlp8980/final_project/pre_train_gnn.ipynb#ch0000036?line=18'>19</a>\u001b[0m epoch_loss \u001b[39m/\u001b[39m\u001b[39m=\u001b[39m \u001b[39mlen\u001b[39m(dataloader)\n",
      "File \u001b[0;32m/opt/anaconda3/envs/huggingface/lib/python3.9/site-packages/torch/_tensor.py:307\u001b[0m, in \u001b[0;36mTensor.backward\u001b[0;34m(self, gradient, retain_graph, create_graph, inputs)\u001b[0m\n\u001b[1;32m    <a href='file:///opt/anaconda3/envs/huggingface/lib/python3.9/site-packages/torch/_tensor.py?line=297'>298</a>\u001b[0m \u001b[39mif\u001b[39;00m has_torch_function_unary(\u001b[39mself\u001b[39m):\n\u001b[1;32m    <a href='file:///opt/anaconda3/envs/huggingface/lib/python3.9/site-packages/torch/_tensor.py?line=298'>299</a>\u001b[0m     \u001b[39mreturn\u001b[39;00m handle_torch_function(\n\u001b[1;32m    <a href='file:///opt/anaconda3/envs/huggingface/lib/python3.9/site-packages/torch/_tensor.py?line=299'>300</a>\u001b[0m         Tensor\u001b[39m.\u001b[39mbackward,\n\u001b[1;32m    <a href='file:///opt/anaconda3/envs/huggingface/lib/python3.9/site-packages/torch/_tensor.py?line=300'>301</a>\u001b[0m         (\u001b[39mself\u001b[39m,),\n\u001b[0;32m   (...)\u001b[0m\n\u001b[1;32m    <a href='file:///opt/anaconda3/envs/huggingface/lib/python3.9/site-packages/torch/_tensor.py?line=304'>305</a>\u001b[0m         create_graph\u001b[39m=\u001b[39mcreate_graph,\n\u001b[1;32m    <a href='file:///opt/anaconda3/envs/huggingface/lib/python3.9/site-packages/torch/_tensor.py?line=305'>306</a>\u001b[0m         inputs\u001b[39m=\u001b[39minputs)\n\u001b[0;32m--> <a href='file:///opt/anaconda3/envs/huggingface/lib/python3.9/site-packages/torch/_tensor.py?line=306'>307</a>\u001b[0m torch\u001b[39m.\u001b[39;49mautograd\u001b[39m.\u001b[39;49mbackward(\u001b[39mself\u001b[39;49m, gradient, retain_graph, create_graph, inputs\u001b[39m=\u001b[39;49minputs)\n",
      "File \u001b[0;32m/opt/anaconda3/envs/huggingface/lib/python3.9/site-packages/torch/autograd/__init__.py:154\u001b[0m, in \u001b[0;36mbackward\u001b[0;34m(tensors, grad_tensors, retain_graph, create_graph, grad_variables, inputs)\u001b[0m\n\u001b[1;32m    <a href='file:///opt/anaconda3/envs/huggingface/lib/python3.9/site-packages/torch/autograd/__init__.py?line=150'>151</a>\u001b[0m \u001b[39mif\u001b[39;00m retain_graph \u001b[39mis\u001b[39;00m \u001b[39mNone\u001b[39;00m:\n\u001b[1;32m    <a href='file:///opt/anaconda3/envs/huggingface/lib/python3.9/site-packages/torch/autograd/__init__.py?line=151'>152</a>\u001b[0m     retain_graph \u001b[39m=\u001b[39m create_graph\n\u001b[0;32m--> <a href='file:///opt/anaconda3/envs/huggingface/lib/python3.9/site-packages/torch/autograd/__init__.py?line=153'>154</a>\u001b[0m Variable\u001b[39m.\u001b[39;49m_execution_engine\u001b[39m.\u001b[39;49mrun_backward(\n\u001b[1;32m    <a href='file:///opt/anaconda3/envs/huggingface/lib/python3.9/site-packages/torch/autograd/__init__.py?line=154'>155</a>\u001b[0m     tensors, grad_tensors_, retain_graph, create_graph, inputs,\n\u001b[1;32m    <a href='file:///opt/anaconda3/envs/huggingface/lib/python3.9/site-packages/torch/autograd/__init__.py?line=155'>156</a>\u001b[0m     allow_unreachable\u001b[39m=\u001b[39;49m\u001b[39mTrue\u001b[39;49;00m, accumulate_grad\u001b[39m=\u001b[39;49m\u001b[39mTrue\u001b[39;49;00m)\n",
      "File \u001b[0;32m/opt/anaconda3/envs/huggingface/lib/python3.9/site-packages/torch/autograd/function.py:189\u001b[0m, in \u001b[0;36mBackwardCFunction.apply\u001b[0;34m(self, *args)\u001b[0m\n\u001b[1;32m    <a href='file:///opt/anaconda3/envs/huggingface/lib/python3.9/site-packages/torch/autograd/function.py?line=187'>188</a>\u001b[0m \u001b[39mclass\u001b[39;00m \u001b[39mBackwardCFunction\u001b[39;00m(_C\u001b[39m.\u001b[39m_FunctionBase, FunctionCtx, _HookMixin):\n\u001b[0;32m--> <a href='file:///opt/anaconda3/envs/huggingface/lib/python3.9/site-packages/torch/autograd/function.py?line=188'>189</a>\u001b[0m     \u001b[39mdef\u001b[39;00m \u001b[39mapply\u001b[39m(\u001b[39mself\u001b[39m, \u001b[39m*\u001b[39margs):\n\u001b[1;32m    <a href='file:///opt/anaconda3/envs/huggingface/lib/python3.9/site-packages/torch/autograd/function.py?line=189'>190</a>\u001b[0m         \u001b[39m# _forward_cls is defined by derived class\u001b[39;00m\n\u001b[1;32m    <a href='file:///opt/anaconda3/envs/huggingface/lib/python3.9/site-packages/torch/autograd/function.py?line=190'>191</a>\u001b[0m         \u001b[39m# The user should define either backward or vjp but never both.\u001b[39;00m\n\u001b[1;32m    <a href='file:///opt/anaconda3/envs/huggingface/lib/python3.9/site-packages/torch/autograd/function.py?line=191'>192</a>\u001b[0m         backward_fn \u001b[39m=\u001b[39m \u001b[39mself\u001b[39m\u001b[39m.\u001b[39m_forward_cls\u001b[39m.\u001b[39mbackward  \u001b[39m# type: ignore[attr-defined]\u001b[39;00m\n\u001b[1;32m    <a href='file:///opt/anaconda3/envs/huggingface/lib/python3.9/site-packages/torch/autograd/function.py?line=192'>193</a>\u001b[0m         vjp_fn \u001b[39m=\u001b[39m \u001b[39mself\u001b[39m\u001b[39m.\u001b[39m_forward_cls\u001b[39m.\u001b[39mvjp  \u001b[39m# type: ignore[attr-defined]\u001b[39;00m\n",
      "\u001b[0;31mKeyboardInterrupt\u001b[0m: "
     ]
    }
   ],
   "source": [
    "model = Model({x: graph.number_of_nodes(x) for x in graph.ntypes}, 512, 256, 256, graph.etypes)\n",
    "model = model.to(device)\n",
    "opt = torch.optim.Adam(model.parameters())\n",
    "\n",
    "epochs = 5\n",
    "\n",
    "for i in range(epochs):\n",
    "    epoch_loss = 0\n",
    "    for input_nodes, positive_graph, negative_graph, blocks in dataloader:\n",
    "        blocks = [b.to(device) for b in blocks]\n",
    "        positive_graph = positive_graph.to(device)\n",
    "        negative_graph = negative_graph.to(device)\n",
    "        pos_score, neg_score = model(positive_graph, negative_graph, blocks)\n",
    "        loss = compute_loss(pos_score, neg_score)\n",
    "        epoch_loss += loss\n",
    "        opt.zero_grad()\n",
    "        loss.backward()\n",
    "        opt.step()\n",
    "    epoch_loss /= len(dataloader)\n",
    "    print(\"=== EPOCH: {} \\t LOSS: {}\".format(i, epoch_loss))\n"
   ]
  },
  {
   "cell_type": "code",
   "execution_count": null,
   "metadata": {},
   "outputs": [],
   "source": []
  }
 ],
 "metadata": {
  "interpreter": {
   "hash": "7f0fb73b74445d6392909c9d469b21cbfa1ec308c4aeb674f6b2b586eed9f638"
  },
  "kernelspec": {
   "display_name": "Python 3.9.7 ('huggingface')",
   "language": "python",
   "name": "python3"
  },
  "language_info": {
   "codemirror_mode": {
    "name": "ipython",
    "version": 3
   },
   "file_extension": ".py",
   "mimetype": "text/x-python",
   "name": "python",
   "nbconvert_exporter": "python",
   "pygments_lexer": "ipython3",
   "version": "3.9.7"
  },
  "orig_nbformat": 4
 },
 "nbformat": 4,
 "nbformat_minor": 2
}
