{
 "cells": [
  {
   "cell_type": "code",
   "execution_count": 1,
   "metadata": {},
   "outputs": [],
   "source": [
    "import pandas as pd\n",
    "import json"
   ]
  },
  {
   "cell_type": "code",
   "execution_count": 2,
   "metadata": {},
   "outputs": [],
   "source": [
    "reviews = []\n",
    "data = open(\"./data/Industrial_and_Scientific_5.json\")\n",
    "for line in data.readlines():\n",
    "    reviews.append(json.loads(line))"
   ]
  },
  {
   "cell_type": "code",
   "execution_count": 3,
   "metadata": {},
   "outputs": [],
   "source": [
    "df = pd.DataFrame(reviews)"
   ]
  },
  {
   "cell_type": "code",
   "execution_count": 4,
   "metadata": {},
   "outputs": [
    {
     "data": {
      "text/html": [
       "<div>\n",
       "<style scoped>\n",
       "    .dataframe tbody tr th:only-of-type {\n",
       "        vertical-align: middle;\n",
       "    }\n",
       "\n",
       "    .dataframe tbody tr th {\n",
       "        vertical-align: top;\n",
       "    }\n",
       "\n",
       "    .dataframe thead th {\n",
       "        text-align: right;\n",
       "    }\n",
       "</style>\n",
       "<table border=\"1\" class=\"dataframe\">\n",
       "  <thead>\n",
       "    <tr style=\"text-align: right;\">\n",
       "      <th></th>\n",
       "      <th>overall</th>\n",
       "      <th>verified</th>\n",
       "      <th>reviewTime</th>\n",
       "      <th>reviewerID</th>\n",
       "      <th>asin</th>\n",
       "      <th>style</th>\n",
       "      <th>reviewerName</th>\n",
       "      <th>reviewText</th>\n",
       "      <th>summary</th>\n",
       "      <th>unixReviewTime</th>\n",
       "      <th>vote</th>\n",
       "      <th>image</th>\n",
       "    </tr>\n",
       "  </thead>\n",
       "  <tbody>\n",
       "    <tr>\n",
       "      <th>0</th>\n",
       "      <td>5.0</td>\n",
       "      <td>True</td>\n",
       "      <td>11 27, 2017</td>\n",
       "      <td>A1JB7HFWHRYHT7</td>\n",
       "      <td>B0000223SI</td>\n",
       "      <td>{'Size:': ' 1-(Pack)'}</td>\n",
       "      <td>Alex W.</td>\n",
       "      <td>This worked really well for what I used it for...</td>\n",
       "      <td>Couldn't have been happier with it's performance</td>\n",
       "      <td>1511740800</td>\n",
       "      <td>NaN</td>\n",
       "      <td>NaN</td>\n",
       "    </tr>\n",
       "    <tr>\n",
       "      <th>1</th>\n",
       "      <td>5.0</td>\n",
       "      <td>True</td>\n",
       "      <td>11 4, 2017</td>\n",
       "      <td>A2FCLJG5GV8SD6</td>\n",
       "      <td>B0000223SI</td>\n",
       "      <td>{'Size:': ' 1-(Pack)'}</td>\n",
       "      <td>Randall Harris</td>\n",
       "      <td>Fast cutting and good adheasive.</td>\n",
       "      <td>Good paper.</td>\n",
       "      <td>1509753600</td>\n",
       "      <td>NaN</td>\n",
       "      <td>NaN</td>\n",
       "    </tr>\n",
       "    <tr>\n",
       "      <th>2</th>\n",
       "      <td>5.0</td>\n",
       "      <td>False</td>\n",
       "      <td>10 27, 2017</td>\n",
       "      <td>A3IT9B33NWYQSL</td>\n",
       "      <td>B0000223SI</td>\n",
       "      <td>{'Size:': ' 1-(Pack)'}</td>\n",
       "      <td>A. C.</td>\n",
       "      <td>Worked great for my lapping bench.  I would li...</td>\n",
       "      <td>Handy!</td>\n",
       "      <td>1509062400</td>\n",
       "      <td>NaN</td>\n",
       "      <td>NaN</td>\n",
       "    </tr>\n",
       "    <tr>\n",
       "      <th>3</th>\n",
       "      <td>4.0</td>\n",
       "      <td>True</td>\n",
       "      <td>01 13, 2018</td>\n",
       "      <td>AUL5LCV4TT73P</td>\n",
       "      <td>B0000223SK</td>\n",
       "      <td>{'Size:': ' 1-Pack'}</td>\n",
       "      <td>TnT</td>\n",
       "      <td>As advertised</td>\n",
       "      <td>As advertised</td>\n",
       "      <td>1515801600</td>\n",
       "      <td>NaN</td>\n",
       "      <td>NaN</td>\n",
       "    </tr>\n",
       "    <tr>\n",
       "      <th>4</th>\n",
       "      <td>5.0</td>\n",
       "      <td>True</td>\n",
       "      <td>10 7, 2017</td>\n",
       "      <td>A1V3I3L5JKO7TM</td>\n",
       "      <td>B0000223SK</td>\n",
       "      <td>{'Size:': ' 1-Pack'}</td>\n",
       "      <td>John Jones</td>\n",
       "      <td>seems like a pretty good value as opposed to b...</td>\n",
       "      <td>seems like a pretty good value as opposed to b...</td>\n",
       "      <td>1507334400</td>\n",
       "      <td>NaN</td>\n",
       "      <td>NaN</td>\n",
       "    </tr>\n",
       "  </tbody>\n",
       "</table>\n",
       "</div>"
      ],
      "text/plain": [
       "   overall  verified   reviewTime      reviewerID        asin  \\\n",
       "0      5.0      True  11 27, 2017  A1JB7HFWHRYHT7  B0000223SI   \n",
       "1      5.0      True   11 4, 2017  A2FCLJG5GV8SD6  B0000223SI   \n",
       "2      5.0     False  10 27, 2017  A3IT9B33NWYQSL  B0000223SI   \n",
       "3      4.0      True  01 13, 2018   AUL5LCV4TT73P  B0000223SK   \n",
       "4      5.0      True   10 7, 2017  A1V3I3L5JKO7TM  B0000223SK   \n",
       "\n",
       "                    style    reviewerName  \\\n",
       "0  {'Size:': ' 1-(Pack)'}         Alex W.   \n",
       "1  {'Size:': ' 1-(Pack)'}  Randall Harris   \n",
       "2  {'Size:': ' 1-(Pack)'}           A. C.   \n",
       "3    {'Size:': ' 1-Pack'}             TnT   \n",
       "4    {'Size:': ' 1-Pack'}      John Jones   \n",
       "\n",
       "                                          reviewText  \\\n",
       "0  This worked really well for what I used it for...   \n",
       "1                   Fast cutting and good adheasive.   \n",
       "2  Worked great for my lapping bench.  I would li...   \n",
       "3                                      As advertised   \n",
       "4  seems like a pretty good value as opposed to b...   \n",
       "\n",
       "                                             summary  unixReviewTime vote  \\\n",
       "0   Couldn't have been happier with it's performance      1511740800  NaN   \n",
       "1                                        Good paper.      1509753600  NaN   \n",
       "2                                             Handy!      1509062400  NaN   \n",
       "3                                      As advertised      1515801600  NaN   \n",
       "4  seems like a pretty good value as opposed to b...      1507334400  NaN   \n",
       "\n",
       "  image  \n",
       "0   NaN  \n",
       "1   NaN  \n",
       "2   NaN  \n",
       "3   NaN  \n",
       "4   NaN  "
      ]
     },
     "execution_count": 4,
     "metadata": {},
     "output_type": "execute_result"
    }
   ],
   "source": [
    "df.head()"
   ]
  },
  {
   "cell_type": "code",
   "execution_count": 5,
   "metadata": {},
   "outputs": [],
   "source": [
    "df[\"asin\"] = df[\"asin\"].astype(str)"
   ]
  },
  {
   "cell_type": "code",
   "execution_count": 6,
   "metadata": {},
   "outputs": [
    {
     "data": {
      "text/plain": [
       "(77060, 12)"
      ]
     },
     "execution_count": 6,
     "metadata": {},
     "output_type": "execute_result"
    }
   ],
   "source": [
    "df = df[~df[\"reviewText\"].isna()]\n",
    "df.shape"
   ]
  },
  {
   "cell_type": "code",
   "execution_count": 7,
   "metadata": {},
   "outputs": [
    {
     "data": {
      "text/html": [
       "<div>\n",
       "<style scoped>\n",
       "    .dataframe tbody tr th:only-of-type {\n",
       "        vertical-align: middle;\n",
       "    }\n",
       "\n",
       "    .dataframe tbody tr th {\n",
       "        vertical-align: top;\n",
       "    }\n",
       "\n",
       "    .dataframe thead th {\n",
       "        text-align: right;\n",
       "    }\n",
       "</style>\n",
       "<table border=\"1\" class=\"dataframe\">\n",
       "  <thead>\n",
       "    <tr style=\"text-align: right;\">\n",
       "      <th></th>\n",
       "      <th>overall</th>\n",
       "      <th>verified</th>\n",
       "      <th>reviewTime</th>\n",
       "      <th>reviewerID</th>\n",
       "      <th>asin</th>\n",
       "      <th>style</th>\n",
       "      <th>reviewerName</th>\n",
       "      <th>reviewText</th>\n",
       "      <th>summary</th>\n",
       "      <th>unixReviewTime</th>\n",
       "      <th>vote</th>\n",
       "      <th>image</th>\n",
       "      <th>reviewID</th>\n",
       "    </tr>\n",
       "  </thead>\n",
       "  <tbody>\n",
       "    <tr>\n",
       "      <th>0</th>\n",
       "      <td>5.0</td>\n",
       "      <td>True</td>\n",
       "      <td>11 27, 2017</td>\n",
       "      <td>A1JB7HFWHRYHT7</td>\n",
       "      <td>B0000223SI</td>\n",
       "      <td>{'Size:': ' 1-(Pack)'}</td>\n",
       "      <td>Alex W.</td>\n",
       "      <td>This worked really well for what I used it for...</td>\n",
       "      <td>Couldn't have been happier with it's performance</td>\n",
       "      <td>1511740800</td>\n",
       "      <td>NaN</td>\n",
       "      <td>NaN</td>\n",
       "      <td>0</td>\n",
       "    </tr>\n",
       "    <tr>\n",
       "      <th>1</th>\n",
       "      <td>5.0</td>\n",
       "      <td>True</td>\n",
       "      <td>11 4, 2017</td>\n",
       "      <td>A2FCLJG5GV8SD6</td>\n",
       "      <td>B0000223SI</td>\n",
       "      <td>{'Size:': ' 1-(Pack)'}</td>\n",
       "      <td>Randall Harris</td>\n",
       "      <td>Fast cutting and good adheasive.</td>\n",
       "      <td>Good paper.</td>\n",
       "      <td>1509753600</td>\n",
       "      <td>NaN</td>\n",
       "      <td>NaN</td>\n",
       "      <td>1</td>\n",
       "    </tr>\n",
       "    <tr>\n",
       "      <th>2</th>\n",
       "      <td>5.0</td>\n",
       "      <td>False</td>\n",
       "      <td>10 27, 2017</td>\n",
       "      <td>A3IT9B33NWYQSL</td>\n",
       "      <td>B0000223SI</td>\n",
       "      <td>{'Size:': ' 1-(Pack)'}</td>\n",
       "      <td>A. C.</td>\n",
       "      <td>Worked great for my lapping bench.  I would li...</td>\n",
       "      <td>Handy!</td>\n",
       "      <td>1509062400</td>\n",
       "      <td>NaN</td>\n",
       "      <td>NaN</td>\n",
       "      <td>2</td>\n",
       "    </tr>\n",
       "    <tr>\n",
       "      <th>3</th>\n",
       "      <td>4.0</td>\n",
       "      <td>True</td>\n",
       "      <td>01 13, 2018</td>\n",
       "      <td>AUL5LCV4TT73P</td>\n",
       "      <td>B0000223SK</td>\n",
       "      <td>{'Size:': ' 1-Pack'}</td>\n",
       "      <td>TnT</td>\n",
       "      <td>As advertised</td>\n",
       "      <td>As advertised</td>\n",
       "      <td>1515801600</td>\n",
       "      <td>NaN</td>\n",
       "      <td>NaN</td>\n",
       "      <td>3</td>\n",
       "    </tr>\n",
       "    <tr>\n",
       "      <th>4</th>\n",
       "      <td>5.0</td>\n",
       "      <td>True</td>\n",
       "      <td>10 7, 2017</td>\n",
       "      <td>A1V3I3L5JKO7TM</td>\n",
       "      <td>B0000223SK</td>\n",
       "      <td>{'Size:': ' 1-Pack'}</td>\n",
       "      <td>John Jones</td>\n",
       "      <td>seems like a pretty good value as opposed to b...</td>\n",
       "      <td>seems like a pretty good value as opposed to b...</td>\n",
       "      <td>1507334400</td>\n",
       "      <td>NaN</td>\n",
       "      <td>NaN</td>\n",
       "      <td>4</td>\n",
       "    </tr>\n",
       "  </tbody>\n",
       "</table>\n",
       "</div>"
      ],
      "text/plain": [
       "   overall  verified   reviewTime      reviewerID        asin  \\\n",
       "0      5.0      True  11 27, 2017  A1JB7HFWHRYHT7  B0000223SI   \n",
       "1      5.0      True   11 4, 2017  A2FCLJG5GV8SD6  B0000223SI   \n",
       "2      5.0     False  10 27, 2017  A3IT9B33NWYQSL  B0000223SI   \n",
       "3      4.0      True  01 13, 2018   AUL5LCV4TT73P  B0000223SK   \n",
       "4      5.0      True   10 7, 2017  A1V3I3L5JKO7TM  B0000223SK   \n",
       "\n",
       "                    style    reviewerName  \\\n",
       "0  {'Size:': ' 1-(Pack)'}         Alex W.   \n",
       "1  {'Size:': ' 1-(Pack)'}  Randall Harris   \n",
       "2  {'Size:': ' 1-(Pack)'}           A. C.   \n",
       "3    {'Size:': ' 1-Pack'}             TnT   \n",
       "4    {'Size:': ' 1-Pack'}      John Jones   \n",
       "\n",
       "                                          reviewText  \\\n",
       "0  This worked really well for what I used it for...   \n",
       "1                   Fast cutting and good adheasive.   \n",
       "2  Worked great for my lapping bench.  I would li...   \n",
       "3                                      As advertised   \n",
       "4  seems like a pretty good value as opposed to b...   \n",
       "\n",
       "                                             summary  unixReviewTime vote  \\\n",
       "0   Couldn't have been happier with it's performance      1511740800  NaN   \n",
       "1                                        Good paper.      1509753600  NaN   \n",
       "2                                             Handy!      1509062400  NaN   \n",
       "3                                      As advertised      1515801600  NaN   \n",
       "4  seems like a pretty good value as opposed to b...      1507334400  NaN   \n",
       "\n",
       "  image  reviewID  \n",
       "0   NaN         0  \n",
       "1   NaN         1  \n",
       "2   NaN         2  \n",
       "3   NaN         3  \n",
       "4   NaN         4  "
      ]
     },
     "execution_count": 7,
     "metadata": {},
     "output_type": "execute_result"
    }
   ],
   "source": [
    "df[\"reviewID\"] = [i for i in range(df.shape[0])]\n",
    "df.head()"
   ]
  },
  {
   "cell_type": "code",
   "execution_count": 9,
   "metadata": {},
   "outputs": [],
   "source": [
    "meta = []\n",
    "data = open(\"./data/meta_Industrial_and_Scientific.json\")\n",
    "for line in data.readlines():\n",
    "    meta.append(json.loads(line))"
   ]
  },
  {
   "cell_type": "code",
   "execution_count": 10,
   "metadata": {},
   "outputs": [],
   "source": [
    "meta_df = pd.DataFrame(meta)\n",
    "meta_df[\"asin\"] = meta_df[\"asin\"].astype(str)\n",
    "meta_df = pd.merge(meta_df, pd.DataFrame(df[\"asin\"].unique()), left_on=\"asin\", right_on=0, how=\"right\") # Only include brands that we have product reviews for"
   ]
  },
  {
   "cell_type": "code",
   "execution_count": 11,
   "metadata": {},
   "outputs": [
    {
     "data": {
      "text/plain": [
       "(5555, 20)"
      ]
     },
     "execution_count": 11,
     "metadata": {},
     "output_type": "execute_result"
    }
   ],
   "source": [
    "meta_df.shape"
   ]
  },
  {
   "cell_type": "code",
   "execution_count": 12,
   "metadata": {},
   "outputs": [
    {
     "data": {
      "text/html": [
       "<div>\n",
       "<style scoped>\n",
       "    .dataframe tbody tr th:only-of-type {\n",
       "        vertical-align: middle;\n",
       "    }\n",
       "\n",
       "    .dataframe tbody tr th {\n",
       "        vertical-align: top;\n",
       "    }\n",
       "\n",
       "    .dataframe thead th {\n",
       "        text-align: right;\n",
       "    }\n",
       "</style>\n",
       "<table border=\"1\" class=\"dataframe\">\n",
       "  <thead>\n",
       "    <tr style=\"text-align: right;\">\n",
       "      <th></th>\n",
       "      <th>category</th>\n",
       "      <th>tech1</th>\n",
       "      <th>description</th>\n",
       "      <th>fit</th>\n",
       "      <th>title</th>\n",
       "      <th>also_buy</th>\n",
       "      <th>tech2</th>\n",
       "      <th>brand</th>\n",
       "      <th>feature</th>\n",
       "      <th>rank</th>\n",
       "      <th>also_view</th>\n",
       "      <th>main_cat</th>\n",
       "      <th>similar_item</th>\n",
       "      <th>date</th>\n",
       "      <th>price</th>\n",
       "      <th>asin</th>\n",
       "      <th>imageURL</th>\n",
       "      <th>imageURLHighRes</th>\n",
       "      <th>details</th>\n",
       "      <th>0</th>\n",
       "    </tr>\n",
       "  </thead>\n",
       "  <tbody>\n",
       "    <tr>\n",
       "      <th>0</th>\n",
       "      <td>[Industrial &amp; Scientific, Abrasive &amp; Finishing...</td>\n",
       "      <td>class=\"a-keyvalue prodDetTable\" role=\"present...</td>\n",
       "      <td>[Amazon.com This superior quality, clog- and l...</td>\n",
       "      <td></td>\n",
       "      <td>PORTER-CABLE 740000801 4 1/2-Inch x 10yd 80 Gr...</td>\n",
       "      <td>[B0000223SK, B0000223SN, B0000223SJ, B0000223S...</td>\n",
       "      <td></td>\n",
       "      <td>PORTER-CABLE</td>\n",
       "      <td>[Clog- and loading-resistant sandpaper can be ...</td>\n",
       "      <td>[&gt;#19,857 in Tools &amp; Home Improvement (See top...</td>\n",
       "      <td>[]</td>\n",
       "      <td>Tools &amp; Home Improvement</td>\n",
       "      <td>class=\"a-bordered a-horizontal-stripes  a-spa...</td>\n",
       "      <td>April 1, 2004</td>\n",
       "      <td>$15.99</td>\n",
       "      <td>B0000223SI</td>\n",
       "      <td>[]</td>\n",
       "      <td>[]</td>\n",
       "      <td>{}</td>\n",
       "      <td>B0000223SI</td>\n",
       "    </tr>\n",
       "    <tr>\n",
       "      <th>1</th>\n",
       "      <td>[Industrial &amp; Scientific, Abrasive &amp; Finishing...</td>\n",
       "      <td>class=\"a-keyvalue prodDetTable\" role=\"present...</td>\n",
       "      <td>[Amazon.com This superior quality, clog- and l...</td>\n",
       "      <td></td>\n",
       "      <td>PORTER-CABLE 740000801 4 1/2-Inch x 10yd 80 Gr...</td>\n",
       "      <td>[B0000223SK, B0000223SN, B0000223SJ, B0000223S...</td>\n",
       "      <td></td>\n",
       "      <td>PORTER-CABLE</td>\n",
       "      <td>[Clog- and loading-resistant sandpaper can be ...</td>\n",
       "      <td>[&gt;#19,857 in Tools &amp; Home Improvement (See top...</td>\n",
       "      <td>[]</td>\n",
       "      <td>Tools &amp; Home Improvement</td>\n",
       "      <td>class=\"a-bordered a-horizontal-stripes  a-spa...</td>\n",
       "      <td>April 1, 2004</td>\n",
       "      <td>$15.99</td>\n",
       "      <td>B0000223SI</td>\n",
       "      <td>[]</td>\n",
       "      <td>[]</td>\n",
       "      <td>{}</td>\n",
       "      <td>B0000223SI</td>\n",
       "    </tr>\n",
       "    <tr>\n",
       "      <th>2</th>\n",
       "      <td>[Industrial &amp; Scientific, Abrasive &amp; Finishing...</td>\n",
       "      <td></td>\n",
       "      <td>[Amazon.com This superior quality, clog- and l...</td>\n",
       "      <td></td>\n",
       "      <td>PORTER-CABLE 740001201 4 1/2-Inch by 10yd 120 ...</td>\n",
       "      <td>[B0000223SN, B0000223SI, B0000223SO, B0000223S...</td>\n",
       "      <td></td>\n",
       "      <td>PORTER-CABLE</td>\n",
       "      <td>[Clog- and loading-resistant sandpaper can be ...</td>\n",
       "      <td>13,586 in Tools &amp; Home Improvement (</td>\n",
       "      <td>[]</td>\n",
       "      <td>Tools &amp; Home Improvement</td>\n",
       "      <td></td>\n",
       "      <td></td>\n",
       "      <td>$17.99</td>\n",
       "      <td>B0000223SK</td>\n",
       "      <td>[]</td>\n",
       "      <td>[]</td>\n",
       "      <td>{'\n",
       "    Product Dimensions: \n",
       "    ': '5.6 x 2.9 ...</td>\n",
       "      <td>B0000223SK</td>\n",
       "    </tr>\n",
       "    <tr>\n",
       "      <th>3</th>\n",
       "      <td>[Industrial &amp; Scientific, Abrasive &amp; Finishing...</td>\n",
       "      <td></td>\n",
       "      <td>[Amazon.com This superior quality, clog- and l...</td>\n",
       "      <td></td>\n",
       "      <td>PORTER-CABLE 740001201 4 1/2-Inch by 10yd 120 ...</td>\n",
       "      <td>[B0000223SN, B0000223SI, B0000223SO, B0000223S...</td>\n",
       "      <td></td>\n",
       "      <td>PORTER-CABLE</td>\n",
       "      <td>[Clog- and loading-resistant sandpaper can be ...</td>\n",
       "      <td>13,586 in Tools &amp; Home Improvement (</td>\n",
       "      <td>[]</td>\n",
       "      <td>Tools &amp; Home Improvement</td>\n",
       "      <td></td>\n",
       "      <td></td>\n",
       "      <td>$17.99</td>\n",
       "      <td>B0000223SK</td>\n",
       "      <td>[]</td>\n",
       "      <td>[]</td>\n",
       "      <td>{'\n",
       "    Product Dimensions: \n",
       "    ': '5.6 x 2.9 ...</td>\n",
       "      <td>B0000223SK</td>\n",
       "    </tr>\n",
       "    <tr>\n",
       "      <th>4</th>\n",
       "      <td>[Industrial &amp; Scientific, Tapes, Adhesives &amp; S...</td>\n",
       "      <td>class=\"a-keyvalue prodDetTable\" role=\"present...</td>\n",
       "      <td>[The product that started it all. Original Gor...</td>\n",
       "      <td></td>\n",
       "      <td>Gorilla Original Gorilla Glue, Waterproof Poly...</td>\n",
       "      <td>[B000CSS8UE, B07GQ1CT47, B00OAAUAX8, B001E4E3K...</td>\n",
       "      <td></td>\n",
       "      <td>Gorilla</td>\n",
       "      <td>[Incredibly strong and versatile; The leading ...</td>\n",
       "      <td>[&gt;#340 in Industrial &amp; Scientific (See top 100...</td>\n",
       "      <td>[]</td>\n",
       "      <td>Industrial &amp; Scientific</td>\n",
       "      <td></td>\n",
       "      <td>July 7, 2004</td>\n",
       "      <td>$10.24</td>\n",
       "      <td>B0000223UV</td>\n",
       "      <td>[https://images-na.ssl-images-amazon.com/image...</td>\n",
       "      <td>[https://images-na.ssl-images-amazon.com/image...</td>\n",
       "      <td>{}</td>\n",
       "      <td>B0000223UV</td>\n",
       "    </tr>\n",
       "  </tbody>\n",
       "</table>\n",
       "</div>"
      ],
      "text/plain": [
       "                                            category  \\\n",
       "0  [Industrial & Scientific, Abrasive & Finishing...   \n",
       "1  [Industrial & Scientific, Abrasive & Finishing...   \n",
       "2  [Industrial & Scientific, Abrasive & Finishing...   \n",
       "3  [Industrial & Scientific, Abrasive & Finishing...   \n",
       "4  [Industrial & Scientific, Tapes, Adhesives & S...   \n",
       "\n",
       "                                               tech1  \\\n",
       "0   class=\"a-keyvalue prodDetTable\" role=\"present...   \n",
       "1   class=\"a-keyvalue prodDetTable\" role=\"present...   \n",
       "2                                                      \n",
       "3                                                      \n",
       "4   class=\"a-keyvalue prodDetTable\" role=\"present...   \n",
       "\n",
       "                                         description fit  \\\n",
       "0  [Amazon.com This superior quality, clog- and l...       \n",
       "1  [Amazon.com This superior quality, clog- and l...       \n",
       "2  [Amazon.com This superior quality, clog- and l...       \n",
       "3  [Amazon.com This superior quality, clog- and l...       \n",
       "4  [The product that started it all. Original Gor...       \n",
       "\n",
       "                                               title  \\\n",
       "0  PORTER-CABLE 740000801 4 1/2-Inch x 10yd 80 Gr...   \n",
       "1  PORTER-CABLE 740000801 4 1/2-Inch x 10yd 80 Gr...   \n",
       "2  PORTER-CABLE 740001201 4 1/2-Inch by 10yd 120 ...   \n",
       "3  PORTER-CABLE 740001201 4 1/2-Inch by 10yd 120 ...   \n",
       "4  Gorilla Original Gorilla Glue, Waterproof Poly...   \n",
       "\n",
       "                                            also_buy tech2         brand  \\\n",
       "0  [B0000223SK, B0000223SN, B0000223SJ, B0000223S...        PORTER-CABLE   \n",
       "1  [B0000223SK, B0000223SN, B0000223SJ, B0000223S...        PORTER-CABLE   \n",
       "2  [B0000223SN, B0000223SI, B0000223SO, B0000223S...        PORTER-CABLE   \n",
       "3  [B0000223SN, B0000223SI, B0000223SO, B0000223S...        PORTER-CABLE   \n",
       "4  [B000CSS8UE, B07GQ1CT47, B00OAAUAX8, B001E4E3K...             Gorilla   \n",
       "\n",
       "                                             feature  \\\n",
       "0  [Clog- and loading-resistant sandpaper can be ...   \n",
       "1  [Clog- and loading-resistant sandpaper can be ...   \n",
       "2  [Clog- and loading-resistant sandpaper can be ...   \n",
       "3  [Clog- and loading-resistant sandpaper can be ...   \n",
       "4  [Incredibly strong and versatile; The leading ...   \n",
       "\n",
       "                                                rank also_view  \\\n",
       "0  [>#19,857 in Tools & Home Improvement (See top...        []   \n",
       "1  [>#19,857 in Tools & Home Improvement (See top...        []   \n",
       "2               13,586 in Tools & Home Improvement (        []   \n",
       "3               13,586 in Tools & Home Improvement (        []   \n",
       "4  [>#340 in Industrial & Scientific (See top 100...        []   \n",
       "\n",
       "                   main_cat  \\\n",
       "0  Tools & Home Improvement   \n",
       "1  Tools & Home Improvement   \n",
       "2  Tools & Home Improvement   \n",
       "3  Tools & Home Improvement   \n",
       "4   Industrial & Scientific   \n",
       "\n",
       "                                        similar_item           date   price  \\\n",
       "0   class=\"a-bordered a-horizontal-stripes  a-spa...  April 1, 2004  $15.99   \n",
       "1   class=\"a-bordered a-horizontal-stripes  a-spa...  April 1, 2004  $15.99   \n",
       "2                                                                    $17.99   \n",
       "3                                                                    $17.99   \n",
       "4                                                      July 7, 2004  $10.24   \n",
       "\n",
       "         asin                                           imageURL  \\\n",
       "0  B0000223SI                                                 []   \n",
       "1  B0000223SI                                                 []   \n",
       "2  B0000223SK                                                 []   \n",
       "3  B0000223SK                                                 []   \n",
       "4  B0000223UV  [https://images-na.ssl-images-amazon.com/image...   \n",
       "\n",
       "                                     imageURLHighRes  \\\n",
       "0                                                 []   \n",
       "1                                                 []   \n",
       "2                                                 []   \n",
       "3                                                 []   \n",
       "4  [https://images-na.ssl-images-amazon.com/image...   \n",
       "\n",
       "                                             details           0  \n",
       "0                                                 {}  B0000223SI  \n",
       "1                                                 {}  B0000223SI  \n",
       "2  {'\n",
       "    Product Dimensions: \n",
       "    ': '5.6 x 2.9 ...  B0000223SK  \n",
       "3  {'\n",
       "    Product Dimensions: \n",
       "    ': '5.6 x 2.9 ...  B0000223SK  \n",
       "4                                                 {}  B0000223UV  "
      ]
     },
     "execution_count": 12,
     "metadata": {},
     "output_type": "execute_result"
    }
   ],
   "source": [
    "meta_df.head()"
   ]
  },
  {
   "cell_type": "code",
   "execution_count": 13,
   "metadata": {},
   "outputs": [],
   "source": [
    "data_dict = {\n",
    "    (\"Customer\", \"WROTE\", \"Review\"): None,\n",
    "    (\"Review\", \"REVIEW_OF\", \"Product\"): None,\n",
    "    #(\"Product\", \"ALSO_PURCHASED_WITH\", \"Product\"): None,\n",
    "    (\"Product\", \"SOLD_BY\", \"Brand\"): None\n",
    "}"
   ]
  },
  {
   "cell_type": "code",
   "execution_count": 14,
   "metadata": {},
   "outputs": [],
   "source": [
    "customersToNum = {}\n",
    "numToCustomers = {}\n",
    "i = 0\n",
    "for cust in df[\"reviewerID\"].unique():\n",
    "    customersToNum[cust] = i\n",
    "    numToCustomers[i] = cust\n",
    "    i += 1"
   ]
  },
  {
   "cell_type": "code",
   "execution_count": 15,
   "metadata": {},
   "outputs": [],
   "source": [
    "import torch\n",
    "reviewToNum = {}\n",
    "numToReview = {}\n",
    "i = 0\n",
    "for review in df[\"reviewID\"].unique():\n",
    "    reviewToNum[review] = i\n",
    "    numToReview[i] = review\n",
    "    i += 1\n",
    "\n",
    "train = torch.tensor([1 if x < len(reviewToNum.keys())//2 else 0 for x in reviewToNum.keys()])\n",
    "test = torch.tensor([0 if x == 1 else 1 for x in train])"
   ]
  },
  {
   "cell_type": "code",
   "execution_count": 16,
   "metadata": {},
   "outputs": [],
   "source": [
    "productsToNum = {}\n",
    "numToProducts = {}\n",
    "i = 0\n",
    "for prod in df[\"asin\"].unique():\n",
    "    productsToNum[prod] = i\n",
    "    numToProducts[i] = prod\n",
    "    i += 1"
   ]
  },
  {
   "cell_type": "code",
   "execution_count": 17,
   "metadata": {},
   "outputs": [],
   "source": [
    "brandToNum = {}\n",
    "numToBrand = {}\n",
    "i = 0\n",
    "for brand in meta_df[\"brand\"].unique():\n",
    "    brandToNum[brand] = i\n",
    "    numToBrand[i] = brand\n",
    "    i += 1"
   ]
  },
  {
   "cell_type": "code",
   "execution_count": 18,
   "metadata": {},
   "outputs": [],
   "source": [
    "custReviewEdge = df[[\"reviewerID\", \"reviewID\"]]"
   ]
  },
  {
   "cell_type": "code",
   "execution_count": 19,
   "metadata": {},
   "outputs": [],
   "source": [
    "import numpy as np\n",
    "def createCustReviewEdge(row):\n",
    "    try:\n",
    "        cust = customersToNum[row[\"reviewerID\"]]\n",
    "    except KeyError:\n",
    "        cust = np.NaN\n",
    "    try:\n",
    "        prod = reviewToNum[row[\"reviewID\"]]\n",
    "    except KeyError:\n",
    "        prod = np.NaN\n",
    "    return (cust, prod)"
   ]
  },
  {
   "cell_type": "code",
   "execution_count": 20,
   "metadata": {},
   "outputs": [],
   "source": [
    "custReviewEdge = custReviewEdge.apply(lambda x: createCustReviewEdge(x), axis=1).to_list()"
   ]
  },
  {
   "cell_type": "code",
   "execution_count": 21,
   "metadata": {},
   "outputs": [
    {
     "data": {
      "text/plain": [
       "77060"
      ]
     },
     "execution_count": 21,
     "metadata": {},
     "output_type": "execute_result"
    }
   ],
   "source": [
    "len(custReviewEdge)"
   ]
  },
  {
   "cell_type": "code",
   "execution_count": 22,
   "metadata": {},
   "outputs": [],
   "source": [
    "def filterNans(edgeList):\n",
    "    finalEdgeList = []\n",
    "    for x in edgeList:\n",
    "        if not(np.isnan(x[0])) and not(np.isnan(x[1])):\n",
    "            finalEdgeList.append(x)\n",
    "    return finalEdgeList"
   ]
  },
  {
   "cell_type": "code",
   "execution_count": 23,
   "metadata": {},
   "outputs": [],
   "source": [
    "finalCustReview = filterNans(custReviewEdge)"
   ]
  },
  {
   "cell_type": "code",
   "execution_count": 24,
   "metadata": {},
   "outputs": [
    {
     "data": {
      "text/plain": [
       "77060"
      ]
     },
     "execution_count": 24,
     "metadata": {},
     "output_type": "execute_result"
    }
   ],
   "source": [
    "len(finalCustReview)"
   ]
  },
  {
   "cell_type": "code",
   "execution_count": 25,
   "metadata": {},
   "outputs": [],
   "source": [
    "import torch\n",
    "def createTensorEdges(edges):\n",
    "    src = torch.tensor([x[0] for x in edges], dtype=torch.int64)\n",
    "    dest = torch.tensor([x[1] for x in edges], dtype=torch.int64)\n",
    "    return (src, dest)"
   ]
  },
  {
   "cell_type": "code",
   "execution_count": 26,
   "metadata": {},
   "outputs": [],
   "source": [
    "data_dict[(\"Customer\", \"WROTE\", \"Review\")] = createTensorEdges(finalCustReview)"
   ]
  },
  {
   "cell_type": "code",
   "execution_count": 27,
   "metadata": {},
   "outputs": [],
   "source": [
    "def createReviewProductEdge(row):\n",
    "    try:\n",
    "        review = reviewToNum[row[\"reviewID\"]]\n",
    "    except KeyError:\n",
    "        review = np.NaN\n",
    "    try:\n",
    "        prod = productsToNum[row[\"asin\"]]\n",
    "    except KeyError:\n",
    "        prod = np.NaN\n",
    "    return (review, prod)"
   ]
  },
  {
   "cell_type": "code",
   "execution_count": 28,
   "metadata": {},
   "outputs": [],
   "source": [
    "reviewProductEdge = df[[\"reviewID\", \"asin\"]]\n",
    "reviewProductEdge = reviewProductEdge.apply(lambda x: createReviewProductEdge(x), axis=1).to_list()\n",
    "finalReviewProductEdge = filterNans(reviewProductEdge)\n",
    "data_dict[(\"Review\", \"REVIEW_OF\", \"Product\")] = createTensorEdges(finalReviewProductEdge)\n"
   ]
  },
  {
   "cell_type": "code",
   "execution_count": 29,
   "metadata": {},
   "outputs": [],
   "source": [
    "def createProductBrandEdge(row):\n",
    "    try:\n",
    "        prod = productsToNum[row[\"asin\"]]\n",
    "    except KeyError:\n",
    "        prod = np.NaN\n",
    "    try:\n",
    "        brand = brandToNum[row[\"brand\"]]\n",
    "    except KeyError:\n",
    "        brand = np.NaN\n",
    "    return (prod, brand)"
   ]
  },
  {
   "cell_type": "code",
   "execution_count": 30,
   "metadata": {},
   "outputs": [],
   "source": [
    "productBrandEdge = meta_df[[\"asin\", \"brand\"]]\n",
    "productBrandEdge = productBrandEdge.apply(lambda x: createProductBrandEdge(x), axis=1).to_list()\n",
    "finalProductBrandEdge = filterNans(productBrandEdge)\n",
    "data_dict[(\"Product\", \"SOLD_BY\", \"Brand\")] = createTensorEdges(finalProductBrandEdge)"
   ]
  },
  {
   "cell_type": "code",
   "execution_count": 31,
   "metadata": {},
   "outputs": [
    {
     "data": {
      "text/plain": [
       "(5334,)"
      ]
     },
     "execution_count": 31,
     "metadata": {},
     "output_type": "execute_result"
    }
   ],
   "source": [
    "meta_df[\"asin\"].unique().shape"
   ]
  },
  {
   "cell_type": "code",
   "execution_count": 32,
   "metadata": {},
   "outputs": [
    {
     "data": {
      "text/plain": [
       "(5555, 20)"
      ]
     },
     "execution_count": 32,
     "metadata": {},
     "output_type": "execute_result"
    }
   ],
   "source": [
    "meta_df.shape"
   ]
  },
  {
   "cell_type": "code",
   "execution_count": 33,
   "metadata": {},
   "outputs": [
    {
     "name": "stdout",
     "output_type": "stream",
     "text": [
      "5334\n"
     ]
    }
   ],
   "source": [
    "print(len(productsToNum.keys()))"
   ]
  },
  {
   "cell_type": "code",
   "execution_count": 34,
   "metadata": {},
   "outputs": [
    {
     "data": {
      "text/plain": [
       "(5334,)"
      ]
     },
     "execution_count": 34,
     "metadata": {},
     "output_type": "execute_result"
    }
   ],
   "source": [
    "df[\"asin\"].unique().shape"
   ]
  },
  {
   "cell_type": "code",
   "execution_count": 35,
   "metadata": {},
   "outputs": [],
   "source": [
    "reviewScore = df[[\"overall\", \"reviewID\"]]\n",
    "posReview = df[\"overall\"] > 3\n",
    "ratings = torch.tensor(list(reviewScore[\"overall\"]))\n",
    "posNeg = torch.tensor(list(posReview), dtype=torch.float16)"
   ]
  },
  {
   "cell_type": "code",
   "execution_count": 35,
   "metadata": {},
   "outputs": [
    {
     "data": {
      "text/plain": [
       "'\\nsrcs = []\\ndests = []\\ndef createCoPurchaseEdges(row):\\n    copurchaseProds = row[\"also_buy\"]\\n    for prod in copurchaseProds:\\n        srcs.append(productsToNum[str(row[\"asin\"])])\\n        dests.append(productsToNum[str(row[prod])])\\n\\nmeta_df.apply(lambda x: createCoPurchaseEdges(x), axis=1)\\nprint(len(srcs))\\nprint(len(dests))\\n'"
      ]
     },
     "execution_count": 35,
     "metadata": {},
     "output_type": "execute_result"
    }
   ],
   "source": [
    "'''\n",
    "srcs = []\n",
    "dests = []\n",
    "def createCoPurchaseEdges(row):\n",
    "    copurchaseProds = row[\"also_buy\"]\n",
    "    for prod in copurchaseProds:\n",
    "        srcs.append(productsToNum[str(row[\"asin\"])])\n",
    "        dests.append(productsToNum[str(row[prod])])\n",
    "\n",
    "meta_df.apply(lambda x: createCoPurchaseEdges(x), axis=1)\n",
    "print(len(srcs))\n",
    "print(len(dests))\n",
    "'''"
   ]
  },
  {
   "cell_type": "code",
   "execution_count": 38,
   "metadata": {},
   "outputs": [],
   "source": [
    "from transformers import BertModel, BertConfig, BertTokenizer, AdamW\n",
    "tokenizer = BertTokenizer.from_pretrained('bert-base-uncased')\n",
    "\n",
    "tokenized_reviews = tokenizer(list(df[\"reviewText\"]), return_tensors=\"pt\", padding='max_length', truncation=True)"
   ]
  },
  {
   "cell_type": "code",
   "execution_count": 39,
   "metadata": {},
   "outputs": [
    {
     "data": {
      "text/plain": [
       "{'input_ids': tensor([[ 101, 2023, 2499,  ...,    0,    0,    0],\n",
       "        [ 101, 3435, 6276,  ...,    0,    0,    0],\n",
       "        [ 101, 2499, 2307,  ...,    0,    0,    0],\n",
       "        ...,\n",
       "        [ 101, 2234, 2007,  ...,    0,    0,    0],\n",
       "        [ 101, 5361, 1037,  ...,    0,    0,    0],\n",
       "        [ 101, 2023, 2128,  ...,    0,    0,    0]]), 'token_type_ids': tensor([[0, 0, 0,  ..., 0, 0, 0],\n",
       "        [0, 0, 0,  ..., 0, 0, 0],\n",
       "        [0, 0, 0,  ..., 0, 0, 0],\n",
       "        ...,\n",
       "        [0, 0, 0,  ..., 0, 0, 0],\n",
       "        [0, 0, 0,  ..., 0, 0, 0],\n",
       "        [0, 0, 0,  ..., 0, 0, 0]]), 'attention_mask': tensor([[1, 1, 1,  ..., 0, 0, 0],\n",
       "        [1, 1, 1,  ..., 0, 0, 0],\n",
       "        [1, 1, 1,  ..., 0, 0, 0],\n",
       "        ...,\n",
       "        [1, 1, 1,  ..., 0, 0, 0],\n",
       "        [1, 1, 1,  ..., 0, 0, 0],\n",
       "        [1, 1, 1,  ..., 0, 0, 0]])}"
      ]
     },
     "execution_count": 39,
     "metadata": {},
     "output_type": "execute_result"
    }
   ],
   "source": [
    "tokenized_reviews"
   ]
  },
  {
   "cell_type": "code",
   "execution_count": 41,
   "metadata": {},
   "outputs": [],
   "source": [
    "import dgl\n",
    "\n",
    "g = dgl.heterograph(data_dict)\n",
    "g.nodes[\"Review\"].data[\"rating\"] = ratings\n",
    "g.nodes[\"Review\"].data[\"Positive\"] = posNeg\n",
    "g.nodes[\"Review\"].data[\"train_mask\"] = train\n",
    "g.nodes[\"Review\"].data[\"test_mask\"] = test\n",
    "g.nodes[\"Review\"].data[\"input_ids\"] = tokenized_reviews[\"input_ids\"]\n",
    "g.nodes[\"Review\"].data[\"attention_mask\"] = tokenized_reviews[\"attention_mask\"]\n",
    "g.nodes[\"Review\"].data[\"token_type_ids\"] = tokenized_reviews[\"token_type_ids\"]"
   ]
  },
  {
   "cell_type": "code",
   "execution_count": 42,
   "metadata": {},
   "outputs": [
    {
     "data": {
      "text/plain": [
       "Graph(num_nodes={'Brand': 1900, 'Customer': 11041, 'Product': 5334, 'Review': 77060},\n",
       "      num_edges={('Customer', 'WROTE', 'Review'): 77060, ('Product', 'SOLD_BY', 'Brand'): 5555, ('Review', 'REVIEW_OF', 'Product'): 77060},\n",
       "      metagraph=[('Customer', 'Review', 'WROTE'), ('Review', 'Product', 'REVIEW_OF'), ('Product', 'Brand', 'SOLD_BY')])"
      ]
     },
     "execution_count": 42,
     "metadata": {},
     "output_type": "execute_result"
    }
   ],
   "source": [
    "g"
   ]
  },
  {
   "cell_type": "code",
   "execution_count": 43,
   "metadata": {},
   "outputs": [
    {
     "data": {
      "text/plain": [
       "95335"
      ]
     },
     "execution_count": 43,
     "metadata": {},
     "output_type": "execute_result"
    }
   ],
   "source": [
    "g.num_nodes()"
   ]
  },
  {
   "cell_type": "code",
   "execution_count": 44,
   "metadata": {},
   "outputs": [
    {
     "data": {
      "text/plain": [
       "159675"
      ]
     },
     "execution_count": 44,
     "metadata": {},
     "output_type": "execute_result"
    }
   ],
   "source": [
    "g.num_edges()"
   ]
  },
  {
   "cell_type": "code",
   "execution_count": 45,
   "metadata": {},
   "outputs": [],
   "source": [
    "from dgl.transforms import AddReverse\n",
    "transform = AddReverse()\n",
    "\n",
    "new_g = transform(g)"
   ]
  },
  {
   "cell_type": "code",
   "execution_count": 41,
   "metadata": {},
   "outputs": [],
   "source": [
    "dgl.save_graphs(\"./graphs/industrial_and_scientific_5_core_new.dgl\", [new_g])"
   ]
  },
  {
   "cell_type": "code",
   "execution_count": null,
   "metadata": {},
   "outputs": [],
   "source": []
  }
 ],
 "metadata": {
  "interpreter": {
   "hash": "7f0fb73b74445d6392909c9d469b21cbfa1ec308c4aeb674f6b2b586eed9f638"
  },
  "kernelspec": {
   "display_name": "Python 3.9.7 ('huggingface')",
   "language": "python",
   "name": "python3"
  },
  "language_info": {
   "codemirror_mode": {
    "name": "ipython",
    "version": 3
   },
   "file_extension": ".py",
   "mimetype": "text/x-python",
   "name": "python",
   "nbconvert_exporter": "python",
   "pygments_lexer": "ipython3",
   "version": "3.9.7"
  },
  "orig_nbformat": 4
 },
 "nbformat": 4,
 "nbformat_minor": 2
}
