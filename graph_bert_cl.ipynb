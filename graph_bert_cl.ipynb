{
 "cells": [
  {
   "cell_type": "code",
   "execution_count": 1,
   "metadata": {},
   "outputs": [],
   "source": [
    "import cl_graph_bert as cgm\n",
    "import torch\n",
    "from torch import nn\n",
    "import json\n",
    "from transformers import BertModel, BertConfig, BertTokenizer, AdamW\n",
    "import tqdm\n",
    "\n",
    "from torch.utils.data import Dataset, DataLoader\n",
    "# '''\n",
    "# class ReviewDataset(torch.utils.data.Dataset):\n",
    "#     def __init__(self, tokens, labels, ids):\n",
    "#         self.tokens = tokens\n",
    "#         self.labels = labels\n",
    "#         self.ids = ids\n",
    "        \n",
    "#     def __len__(self):\n",
    "#         return len(self.tokens['input_ids'])\n",
    "\n",
    "#     def __getitem__(self, idx):\n",
    "#         item = {key: torch.tensor(val[idx]) for key, val in self.tokens.items()}\n",
    "#         out = {\"tokens\": item, \"label\": self.labels[idx], \"id\": self.ids[idx]}\n",
    "#         return out\n",
    "\n",
    "# def process_text(filepath, batch_size):\n",
    "#     reviews = []\n",
    "#     data = open(filepath)\n",
    "#     for line in data.readlines():\n",
    "#         reviews.append(json.loads(line))\n",
    "\n",
    "#     review_texts = []\n",
    "#     review_scores = []\n",
    "\n",
    "#     for sample in reviews:\n",
    "#         if 'reviewText' in sample and 'overall' in sample:\n",
    "#             review_texts.append(sample['reviewText'])\n",
    "#             if sample['overall'] >= 4:\n",
    "#                 review_scores.append(1)\n",
    "#             else:\n",
    "#                 review_scores.append(0)\n",
    "                \n",
    "#     train_reviews = review_texts[:len(review_texts)//2]\n",
    "#     train_ids = [i for i in range(0, len(review_texts)//2+1)]\n",
    "#     test_reviews = review_texts[len(review_texts)//2:]\n",
    "#     test_ids = [i for i in range(len(review_texts)//2, len(review_texts))]\n",
    "#     train_scores = review_scores[:len(review_texts)//2]\n",
    "#     test_scores = review_scores[len(review_texts)//2:]\n",
    "\n",
    "#     tokenizer = BertTokenizer.from_pretrained('bert-base-uncased')\n",
    "\n",
    "#     tokenized_train_reviews = tokenizer(train_reviews, return_tensors=\"pt\", padding='max_length', truncation=True)\n",
    "#     tokenized_test_reviews = tokenizer(test_reviews, return_tensors=\"pt\", padding='max_length', truncation=True)\n",
    "\n",
    "#     train_dataset = ReviewDataset(tokenized_train_reviews, train_scores, train_ids)\n",
    "#     test_dataset = ReviewDataset(tokenized_test_reviews, test_scores, test_ids)\n",
    "\n",
    "#     train_loader = DataLoader(train_dataset, batch_size=batch_size, shuffle=True)\n",
    "#     test_loader = DataLoader(test_dataset, batch_size=batch_size, shuffle=True)\n",
    "#     return train_loader, test_loader\n",
    "# '''"
   ]
  },
  {
   "cell_type": "code",
   "execution_count": 2,
   "metadata": {},
   "outputs": [],
   "source": [
    "import dgl\n",
    "g = dgl.load_graphs(\"./graphs/industrial_and_scientific_5_core_new.dgl\")[0][0]\n",
    "\n",
    "train_nids = g.ndata[\"train_mask\"]\n",
    "test_nids = g.ndata['test_mask']\n",
    "\n",
    "sampler = dgl.dataloading.NeighborSampler([5, 10], prefetch_labels = {'Review': ['input_ids', 'attention_mask', 'token_type_ids']})"
   ]
  },
  {
   "cell_type": "code",
   "execution_count": 3,
   "metadata": {},
   "outputs": [],
   "source": [
    "import math\n",
    "num_reviews = g.num_nodes(\"Review\")"
   ]
  },
  {
   "cell_type": "code",
   "execution_count": 4,
   "metadata": {},
   "outputs": [],
   "source": [
    "train_nids = {}\n",
    "test_nids = {}\n",
    "for ntype in g.ntypes:\n",
    "    if ntype != \"Review\":\n",
    "        pass\n",
    "    else:\n",
    "        train_nids[ntype] = g.nodes(ntype)[g.ndata[\"train_mask\"][\"Review\"] == 1]\n",
    "        test_nids[ntype] = g.nodes(ntype)[g.ndata[\"test_mask\"][\"Review\"] == 1]"
   ]
  },
  {
   "cell_type": "code",
   "execution_count": 5,
   "metadata": {},
   "outputs": [],
   "source": [
    "batch_size = 24\n",
    "\n",
    "train_loader = dgl.dataloading.DataLoader(\n",
    "    g, train_nids, sampler,\n",
    "    batch_size=batch_size,\n",
    "    shuffle=True,\n",
    "    drop_last=False,\n",
    "    num_workers=0)\n",
    "\n",
    "test_loader = dgl.dataloading.DataLoader(\n",
    "    g, test_nids, sampler,\n",
    "    batch_size=batch_size,\n",
    "    shuffle=False,\n",
    "    drop_last=False,\n",
    "    num_workers=0)"
   ]
  },
  {
   "cell_type": "code",
   "execution_count": 6,
   "metadata": {},
   "outputs": [
    {
     "name": "stderr",
     "output_type": "stream",
     "text": [
      "Some weights of the model checkpoint at bert-base-uncased were not used when initializing BertModel: ['cls.predictions.transform.dense.bias', 'cls.predictions.decoder.weight', 'cls.predictions.bias', 'cls.predictions.transform.dense.weight', 'cls.seq_relationship.bias', 'cls.predictions.transform.LayerNorm.weight', 'cls.seq_relationship.weight', 'cls.predictions.transform.LayerNorm.bias']\n",
      "- This IS expected if you are initializing BertModel from the checkpoint of a model trained on another task or with another architecture (e.g. initializing a BertForSequenceClassification model from a BertForPreTraining model).\n",
      "- This IS NOT expected if you are initializing BertModel from the checkpoint of a model that you expect to be exactly identical (initializing a BertForSequenceClassification model from a BertForSequenceClassification model).\n"
     ]
    }
   ],
   "source": [
    "model = cgm.CLIPGraphModel(\n",
    "    rel_types = g.etypes,\n",
    "    emb_types = {x: g.number_of_nodes(x) for x in g.ntypes},\n",
    "    device=\"cuda\"\n",
    ")"
   ]
  },
  {
   "cell_type": "code",
   "execution_count": 7,
   "metadata": {},
   "outputs": [],
   "source": [
    "device = 'cuda'\n",
    "model.to(device)\n",
    "# model.graph_model.load_state_dict(torch.load(\"./pretrained_statedict_0.02531265653669834.pt\", map_location=torch.device(device)))\n",
    "loss_function = torch.nn.CrossEntropyLoss()\n",
    "optimizer = torch.optim.Adam([{\"params\":model.language_model.parameters(),\"lr\": 0.00001},\n",
    "                              {\"params\":model.graph_model.parameters(), \"lr\": 0.00001},\n",
    "                              {\"params\":model.language_projection.parameters(), \"lr\": 0.001},\n",
    "                              {\"params\":model.graph_projection.parameters(), \"lr\": 0.001}])"
   ]
  },
  {
   "cell_type": "code",
   "execution_count": 8,
   "metadata": {},
   "outputs": [
    {
     "name": "stderr",
     "output_type": "stream",
     "text": [
      "100%|█████████████████████████████████████████████████████████| 1606/1606 [11:11<00:00,  2.39it/s]\n",
      "100%|█████████████████████████████████████████████████████████| 1606/1606 [04:24<00:00,  6.06it/s]"
     ]
    },
    {
     "name": "stdout",
     "output_type": "stream",
     "text": [
      "End of Epoch 0\n",
      "Training loss: tensor(3.1840, device='cuda:0', dtype=torch.float64, grad_fn=<DivBackward0>)\n",
      "Test loss: tensor(3.1775, device='cuda:0', dtype=torch.float64)\n"
     ]
    },
    {
     "name": "stderr",
     "output_type": "stream",
     "text": [
      "\n"
     ]
    }
   ],
   "source": [
    "epochs = 1\n",
    "\n",
    "model.train()\n",
    "\n",
    "for epoch in range(epochs):\n",
    "    epoch_loss = 0\n",
    "    for batch, labels, blocks in tqdm.tqdm(train_loader):            \n",
    "        optimizer.zero_grad()\n",
    "        blocks = [b.to(device) for b in blocks]\n",
    "        loss = model(\"Review\", blocks)[\"loss\"]    \n",
    "        epoch_loss += loss\n",
    "        \n",
    "        loss.backward()\n",
    "        optimizer.step()\n",
    "    epoch_loss /= len(train_loader)\n",
    "    val_loss = 0\n",
    "    with torch.no_grad():\n",
    "        for batch, labels, blocks in tqdm.tqdm(test_loader):\n",
    "            blocks = [b.to(device) for b in blocks]\n",
    "            loss = model(\"Review\", blocks)[\"loss\"]    \n",
    "\n",
    "            val_loss += loss\n",
    "    val_loss /= len(test_loader)\n",
    "    print(\"End of Epoch\", epoch)\n",
    "    print(\"Training loss:\", epoch_loss)\n",
    "    print(\"Test loss:\", val_loss)"
   ]
  },
  {
   "cell_type": "code",
   "execution_count": 9,
   "metadata": {},
   "outputs": [],
   "source": [
    "class BertGraphMLP(nn.Module):\n",
    "    def __init__(self, model, encoder=\"language_emb\", num_labels=2, finetune=False):\n",
    "        super(BertGraphMLP, self).__init__()\n",
    "        self.num_labels = num_labels\n",
    "        self.BertGraph = model\n",
    "        self.encoder = encoder\n",
    "        self.classifier = nn.Linear(512, num_labels)\n",
    "        self.finetune = finetune\n",
    "       \n",
    "        if self.finetune:\n",
    "            self.BertGraph.eval()\n",
    "\n",
    "    def forward(self, vertex_type, blocks):\n",
    "        if self.finetune:\n",
    "            out = self.BertGraph(vertex_type, blocks)\n",
    "        else:\n",
    "            with torch.no_grad():\n",
    "                out = self.BertGraph(vertex_type, blocks)\n",
    "        if self.encoder == \"language_emb\":\n",
    "            embs = out[\"language_emb\"]\n",
    "        elif self.encoder == \"graph_emb\":\n",
    "            embs = out[\"graph_emb\"]\n",
    "        elif self.encoder == \"mean\":\n",
    "            embs = (out[\"language_emb\"] + out[\"graph_emb\"])/2\n",
    "        else:\n",
    "            raise(\"Not Implemented\")\n",
    "        logits = self.classifier(embs.float())\n",
    "        return logits\n"
   ]
  },
  {
   "cell_type": "code",
   "execution_count": 10,
   "metadata": {},
   "outputs": [],
   "source": [
    "import torch.nn.functional as F\n",
    "\n",
    "def evaluate_review_sentiment(model, encoder, finetune=False):\n",
    "    eval_model = BertGraphMLP(model, encoder, finetune=finetune)\n",
    "\n",
    "    loss_function = torch.nn.CrossEntropyLoss(weight=torch.tensor([0.877, 1-0.877]).to('cuda')) # \n",
    "    optimizer = torch.optim.Adam(\n",
    "        [\n",
    "            {\"params\":eval_model.classifier.parameters(), \"lr\": 0.001},       \n",
    "    ])\n",
    "\n",
    "    epochs = 2\n",
    "    device= 'cuda'\n",
    "    eval_model.to(device)\n",
    "    if not(finetune):\n",
    "        eval_model.BertGraph.eval()\n",
    "    preds = []\n",
    "    labels = g.nodes[\"Review\"].data[\"Positive\"]\n",
    "    \n",
    "    \n",
    "    for epoch in range(epochs):\n",
    "        epoch_loss = 0\n",
    "        for batch, ids, blocks in tqdm.tqdm(train_loader):\n",
    "            optimizer.zero_grad()  \n",
    "            blocks = [b.to(device) for b in blocks]\n",
    "            embs = eval_model(\"Review\", blocks)  \n",
    "            loss = loss_function(embs, labels[ids['Review']].to(torch.int64).to(device)) / batch_size\n",
    "            epoch_loss += loss\n",
    "            loss.backward()\n",
    "            optimizer.step()    \n",
    "        print(epoch_loss/len(train_loader))\n",
    "\n",
    "    eval_model.eval()\n",
    "    preds = []\n",
    "    test_labels = []\n",
    "    with torch.no_grad():\n",
    "        for batch, ids, blocks in tqdm.tqdm(test_loader):\n",
    "            blocks = [b.to(device) for b in blocks]\n",
    "            embs = eval_model(\"Review\", blocks)  \n",
    "            preds.extend(torch.round(F.softmax(embs)[:,1]).to(torch.int64))\n",
    "            test_labels.extend(labels[ids['Review']].to(torch.int64))\n",
    "\n",
    "    from sklearn.metrics import f1_score, accuracy_score, precision_score, recall_score\n",
    "\n",
    "    preds_cpu = [i.to('cpu') for i in preds]\n",
    "    labels_cpu = [i.to('cpu') for i in test_labels]\n",
    "    print(\"End of training f1 score accuracy\", f1_score(labels_cpu, preds_cpu))\n",
    "    print(\"End of training accuracy\", accuracy_score(labels_cpu, preds_cpu))\n",
    "    print(\"End of training precision\", precision_score(labels_cpu, preds_cpu))\n",
    "    print(\"End of training recall\", recall_score(labels_cpu, preds_cpu))"
   ]
  },
  {
   "cell_type": "code",
   "execution_count": 11,
   "metadata": {
    "scrolled": false
   },
   "outputs": [
    {
     "name": "stdout",
     "output_type": "stream",
     "text": [
      "====== EVALUATING: language_emb ======\n"
     ]
    },
    {
     "name": "stderr",
     "output_type": "stream",
     "text": [
      "100%|█████████████████████████████████████████████████████████| 1606/1606 [04:05<00:00,  6.54it/s]\n"
     ]
    },
    {
     "name": "stdout",
     "output_type": "stream",
     "text": [
      "tensor(0.0284, device='cuda:0', grad_fn=<DivBackward0>)\n"
     ]
    },
    {
     "name": "stderr",
     "output_type": "stream",
     "text": [
      "100%|█████████████████████████████████████████████████████████| 1606/1606 [04:06<00:00,  6.52it/s]\n"
     ]
    },
    {
     "name": "stdout",
     "output_type": "stream",
     "text": [
      "tensor(0.0283, device='cuda:0', grad_fn=<DivBackward0>)\n"
     ]
    },
    {
     "name": "stderr",
     "output_type": "stream",
     "text": [
      "  0%|                                                                    | 0/1606 [00:00<?, ?it/s]/tmp/ipykernel_2562094/1472984009.py:40: UserWarning: Implicit dimension choice for softmax has been deprecated. Change the call to include dim=X as an argument.\n",
      "  preds.extend(torch.round(F.softmax(embs)[:,1]).to(torch.int64))\n",
      "100%|█████████████████████████████████████████████████████████| 1606/1606 [04:05<00:00,  6.54it/s]\n"
     ]
    },
    {
     "name": "stdout",
     "output_type": "stream",
     "text": [
      "End of training f1 score accuracy 0.934325344691679\n",
      "End of training accuracy 0.8767453932001038\n",
      "End of training precision 0.8767453932001038\n",
      "End of training recall 1.0\n",
      "====== EVALUATING: graph_emb ======\n"
     ]
    },
    {
     "name": "stderr",
     "output_type": "stream",
     "text": [
      "100%|█████████████████████████████████████████████████████████| 1606/1606 [04:05<00:00,  6.54it/s]\n"
     ]
    },
    {
     "name": "stdout",
     "output_type": "stream",
     "text": [
      "tensor(0.0286, device='cuda:0', grad_fn=<DivBackward0>)\n"
     ]
    },
    {
     "name": "stderr",
     "output_type": "stream",
     "text": [
      "100%|█████████████████████████████████████████████████████████| 1606/1606 [04:05<00:00,  6.54it/s]\n"
     ]
    },
    {
     "name": "stdout",
     "output_type": "stream",
     "text": [
      "tensor(0.0284, device='cuda:0', grad_fn=<DivBackward0>)\n"
     ]
    },
    {
     "name": "stderr",
     "output_type": "stream",
     "text": [
      "  0%|                                                                    | 0/1606 [00:00<?, ?it/s]/tmp/ipykernel_2562094/1472984009.py:40: UserWarning: Implicit dimension choice for softmax has been deprecated. Change the call to include dim=X as an argument.\n",
      "  preds.extend(torch.round(F.softmax(embs)[:,1]).to(torch.int64))\n",
      "100%|█████████████████████████████████████████████████████████| 1606/1606 [04:05<00:00,  6.55it/s]\n"
     ]
    },
    {
     "name": "stdout",
     "output_type": "stream",
     "text": [
      "End of training f1 score accuracy 0.9281881906991652\n",
      "End of training accuracy 0.866260057098365\n",
      "End of training precision 0.8769222666947546\n",
      "End of training recall 0.9858204316035641\n",
      "====== EVALUATING: mean ======\n"
     ]
    },
    {
     "name": "stderr",
     "output_type": "stream",
     "text": [
      "100%|█████████████████████████████████████████████████████████| 1606/1606 [04:05<00:00,  6.54it/s]\n"
     ]
    },
    {
     "name": "stdout",
     "output_type": "stream",
     "text": [
      "tensor(0.0284, device='cuda:0', grad_fn=<DivBackward0>)\n"
     ]
    },
    {
     "name": "stderr",
     "output_type": "stream",
     "text": [
      "100%|█████████████████████████████████████████████████████████| 1606/1606 [04:06<00:00,  6.52it/s]\n"
     ]
    },
    {
     "name": "stdout",
     "output_type": "stream",
     "text": [
      "tensor(0.0283, device='cuda:0', grad_fn=<DivBackward0>)\n"
     ]
    },
    {
     "name": "stderr",
     "output_type": "stream",
     "text": [
      "  0%|                                                                    | 0/1606 [00:00<?, ?it/s]/tmp/ipykernel_2562094/1472984009.py:40: UserWarning: Implicit dimension choice for softmax has been deprecated. Change the call to include dim=X as an argument.\n",
      "  preds.extend(torch.round(F.softmax(embs)[:,1]).to(torch.int64))\n",
      "100%|█████████████████████████████████████████████████████████| 1606/1606 [04:04<00:00,  6.56it/s]\n"
     ]
    },
    {
     "name": "stdout",
     "output_type": "stream",
     "text": [
      "End of training f1 score accuracy 0.8959522498768581\n",
      "End of training accuracy 0.8135997923695821\n",
      "End of training precision 0.8773443041566179\n",
      "End of training recall 0.9153666262099998\n"
     ]
    }
   ],
   "source": [
    "enc_methods = [\"language_emb\", \"graph_emb\", \"mean\"]\n",
    "\n",
    "for method in enc_methods:\n",
    "    print(\"====== EVALUATING:\", method, \"======\")\n",
    "    evaluate_review_sentiment(model, method)"
   ]
  },
  {
   "cell_type": "code",
   "execution_count": 9,
   "metadata": {},
   "outputs": [],
   "source": [
    "# torch.save(model.state_dict(), \"./base_statedict_{}.pt\".format(float(val_loss)))"
   ]
  },
  {
   "cell_type": "code",
   "execution_count": 13,
   "metadata": {
    "scrolled": true
   },
   "outputs": [
    {
     "data": {
      "text/plain": [
       "CLIPGraphModel(\n",
       "  (graph_model): StochasticTwoLayerRGCN(\n",
       "    (embed): HeteroEmbedding(\n",
       "      (embeds): ModuleDict(\n",
       "        (Brand): Embedding(1900, 512)\n",
       "        (Customer): Embedding(11041, 512)\n",
       "        (Product): Embedding(5334, 512)\n",
       "        (Review): Embedding(77060, 512)\n",
       "      )\n",
       "    )\n",
       "    (conv1): HeteroGraphConv(\n",
       "      (mods): ModuleDict(\n",
       "        (rev_SOLD_BY): GraphConv(in=512, out=256, normalization=both, activation=None)\n",
       "        (WROTE): GraphConv(in=512, out=256, normalization=both, activation=None)\n",
       "        (SOLD_BY): GraphConv(in=512, out=256, normalization=both, activation=None)\n",
       "        (rev_REVIEW_OF): GraphConv(in=512, out=256, normalization=both, activation=None)\n",
       "        (REVIEW_OF): GraphConv(in=512, out=256, normalization=both, activation=None)\n",
       "        (rev_WROTE): GraphConv(in=512, out=256, normalization=both, activation=None)\n",
       "      )\n",
       "    )\n",
       "    (conv2): HeteroGraphConv(\n",
       "      (mods): ModuleDict(\n",
       "        (rev_SOLD_BY): GraphConv(in=256, out=256, normalization=both, activation=None)\n",
       "        (WROTE): GraphConv(in=256, out=256, normalization=both, activation=None)\n",
       "        (SOLD_BY): GraphConv(in=256, out=256, normalization=both, activation=None)\n",
       "        (rev_REVIEW_OF): GraphConv(in=256, out=256, normalization=both, activation=None)\n",
       "        (REVIEW_OF): GraphConv(in=256, out=256, normalization=both, activation=None)\n",
       "        (rev_WROTE): GraphConv(in=256, out=256, normalization=both, activation=None)\n",
       "      )\n",
       "    )\n",
       "  )\n",
       "  (graph_projection): Projection(\n",
       "    (projection): Linear(in_features=256, out_features=512, bias=True)\n",
       "    (dropout): Dropout(p=0.1, inplace=False)\n",
       "    (relu): ReLU()\n",
       "    (fc): Linear(in_features=512, out_features=512, bias=True)\n",
       "  )\n",
       "  (language_model): BertModel(\n",
       "    (embeddings): BertEmbeddings(\n",
       "      (word_embeddings): Embedding(30522, 768, padding_idx=0)\n",
       "      (position_embeddings): Embedding(512, 768)\n",
       "      (token_type_embeddings): Embedding(2, 768)\n",
       "      (LayerNorm): LayerNorm((768,), eps=1e-12, elementwise_affine=True)\n",
       "      (dropout): Dropout(p=0.1, inplace=False)\n",
       "    )\n",
       "    (encoder): BertEncoder(\n",
       "      (layer): ModuleList(\n",
       "        (0): BertLayer(\n",
       "          (attention): BertAttention(\n",
       "            (self): BertSelfAttention(\n",
       "              (query): Linear(in_features=768, out_features=768, bias=True)\n",
       "              (key): Linear(in_features=768, out_features=768, bias=True)\n",
       "              (value): Linear(in_features=768, out_features=768, bias=True)\n",
       "              (dropout): Dropout(p=0.1, inplace=False)\n",
       "            )\n",
       "            (output): BertSelfOutput(\n",
       "              (dense): Linear(in_features=768, out_features=768, bias=True)\n",
       "              (LayerNorm): LayerNorm((768,), eps=1e-12, elementwise_affine=True)\n",
       "              (dropout): Dropout(p=0.1, inplace=False)\n",
       "            )\n",
       "          )\n",
       "          (intermediate): BertIntermediate(\n",
       "            (dense): Linear(in_features=768, out_features=3072, bias=True)\n",
       "          )\n",
       "          (output): BertOutput(\n",
       "            (dense): Linear(in_features=3072, out_features=768, bias=True)\n",
       "            (LayerNorm): LayerNorm((768,), eps=1e-12, elementwise_affine=True)\n",
       "            (dropout): Dropout(p=0.1, inplace=False)\n",
       "          )\n",
       "        )\n",
       "        (1): BertLayer(\n",
       "          (attention): BertAttention(\n",
       "            (self): BertSelfAttention(\n",
       "              (query): Linear(in_features=768, out_features=768, bias=True)\n",
       "              (key): Linear(in_features=768, out_features=768, bias=True)\n",
       "              (value): Linear(in_features=768, out_features=768, bias=True)\n",
       "              (dropout): Dropout(p=0.1, inplace=False)\n",
       "            )\n",
       "            (output): BertSelfOutput(\n",
       "              (dense): Linear(in_features=768, out_features=768, bias=True)\n",
       "              (LayerNorm): LayerNorm((768,), eps=1e-12, elementwise_affine=True)\n",
       "              (dropout): Dropout(p=0.1, inplace=False)\n",
       "            )\n",
       "          )\n",
       "          (intermediate): BertIntermediate(\n",
       "            (dense): Linear(in_features=768, out_features=3072, bias=True)\n",
       "          )\n",
       "          (output): BertOutput(\n",
       "            (dense): Linear(in_features=3072, out_features=768, bias=True)\n",
       "            (LayerNorm): LayerNorm((768,), eps=1e-12, elementwise_affine=True)\n",
       "            (dropout): Dropout(p=0.1, inplace=False)\n",
       "          )\n",
       "        )\n",
       "        (2): BertLayer(\n",
       "          (attention): BertAttention(\n",
       "            (self): BertSelfAttention(\n",
       "              (query): Linear(in_features=768, out_features=768, bias=True)\n",
       "              (key): Linear(in_features=768, out_features=768, bias=True)\n",
       "              (value): Linear(in_features=768, out_features=768, bias=True)\n",
       "              (dropout): Dropout(p=0.1, inplace=False)\n",
       "            )\n",
       "            (output): BertSelfOutput(\n",
       "              (dense): Linear(in_features=768, out_features=768, bias=True)\n",
       "              (LayerNorm): LayerNorm((768,), eps=1e-12, elementwise_affine=True)\n",
       "              (dropout): Dropout(p=0.1, inplace=False)\n",
       "            )\n",
       "          )\n",
       "          (intermediate): BertIntermediate(\n",
       "            (dense): Linear(in_features=768, out_features=3072, bias=True)\n",
       "          )\n",
       "          (output): BertOutput(\n",
       "            (dense): Linear(in_features=3072, out_features=768, bias=True)\n",
       "            (LayerNorm): LayerNorm((768,), eps=1e-12, elementwise_affine=True)\n",
       "            (dropout): Dropout(p=0.1, inplace=False)\n",
       "          )\n",
       "        )\n",
       "        (3): BertLayer(\n",
       "          (attention): BertAttention(\n",
       "            (self): BertSelfAttention(\n",
       "              (query): Linear(in_features=768, out_features=768, bias=True)\n",
       "              (key): Linear(in_features=768, out_features=768, bias=True)\n",
       "              (value): Linear(in_features=768, out_features=768, bias=True)\n",
       "              (dropout): Dropout(p=0.1, inplace=False)\n",
       "            )\n",
       "            (output): BertSelfOutput(\n",
       "              (dense): Linear(in_features=768, out_features=768, bias=True)\n",
       "              (LayerNorm): LayerNorm((768,), eps=1e-12, elementwise_affine=True)\n",
       "              (dropout): Dropout(p=0.1, inplace=False)\n",
       "            )\n",
       "          )\n",
       "          (intermediate): BertIntermediate(\n",
       "            (dense): Linear(in_features=768, out_features=3072, bias=True)\n",
       "          )\n",
       "          (output): BertOutput(\n",
       "            (dense): Linear(in_features=3072, out_features=768, bias=True)\n",
       "            (LayerNorm): LayerNorm((768,), eps=1e-12, elementwise_affine=True)\n",
       "            (dropout): Dropout(p=0.1, inplace=False)\n",
       "          )\n",
       "        )\n",
       "        (4): BertLayer(\n",
       "          (attention): BertAttention(\n",
       "            (self): BertSelfAttention(\n",
       "              (query): Linear(in_features=768, out_features=768, bias=True)\n",
       "              (key): Linear(in_features=768, out_features=768, bias=True)\n",
       "              (value): Linear(in_features=768, out_features=768, bias=True)\n",
       "              (dropout): Dropout(p=0.1, inplace=False)\n",
       "            )\n",
       "            (output): BertSelfOutput(\n",
       "              (dense): Linear(in_features=768, out_features=768, bias=True)\n",
       "              (LayerNorm): LayerNorm((768,), eps=1e-12, elementwise_affine=True)\n",
       "              (dropout): Dropout(p=0.1, inplace=False)\n",
       "            )\n",
       "          )\n",
       "          (intermediate): BertIntermediate(\n",
       "            (dense): Linear(in_features=768, out_features=3072, bias=True)\n",
       "          )\n",
       "          (output): BertOutput(\n",
       "            (dense): Linear(in_features=3072, out_features=768, bias=True)\n",
       "            (LayerNorm): LayerNorm((768,), eps=1e-12, elementwise_affine=True)\n",
       "            (dropout): Dropout(p=0.1, inplace=False)\n",
       "          )\n",
       "        )\n",
       "        (5): BertLayer(\n",
       "          (attention): BertAttention(\n",
       "            (self): BertSelfAttention(\n",
       "              (query): Linear(in_features=768, out_features=768, bias=True)\n",
       "              (key): Linear(in_features=768, out_features=768, bias=True)\n",
       "              (value): Linear(in_features=768, out_features=768, bias=True)\n",
       "              (dropout): Dropout(p=0.1, inplace=False)\n",
       "            )\n",
       "            (output): BertSelfOutput(\n",
       "              (dense): Linear(in_features=768, out_features=768, bias=True)\n",
       "              (LayerNorm): LayerNorm((768,), eps=1e-12, elementwise_affine=True)\n",
       "              (dropout): Dropout(p=0.1, inplace=False)\n",
       "            )\n",
       "          )\n",
       "          (intermediate): BertIntermediate(\n",
       "            (dense): Linear(in_features=768, out_features=3072, bias=True)\n",
       "          )\n",
       "          (output): BertOutput(\n",
       "            (dense): Linear(in_features=3072, out_features=768, bias=True)\n",
       "            (LayerNorm): LayerNorm((768,), eps=1e-12, elementwise_affine=True)\n",
       "            (dropout): Dropout(p=0.1, inplace=False)\n",
       "          )\n",
       "        )\n",
       "        (6): BertLayer(\n",
       "          (attention): BertAttention(\n",
       "            (self): BertSelfAttention(\n",
       "              (query): Linear(in_features=768, out_features=768, bias=True)\n",
       "              (key): Linear(in_features=768, out_features=768, bias=True)\n",
       "              (value): Linear(in_features=768, out_features=768, bias=True)\n",
       "              (dropout): Dropout(p=0.1, inplace=False)\n",
       "            )\n",
       "            (output): BertSelfOutput(\n",
       "              (dense): Linear(in_features=768, out_features=768, bias=True)\n",
       "              (LayerNorm): LayerNorm((768,), eps=1e-12, elementwise_affine=True)\n",
       "              (dropout): Dropout(p=0.1, inplace=False)\n",
       "            )\n",
       "          )\n",
       "          (intermediate): BertIntermediate(\n",
       "            (dense): Linear(in_features=768, out_features=3072, bias=True)\n",
       "          )\n",
       "          (output): BertOutput(\n",
       "            (dense): Linear(in_features=3072, out_features=768, bias=True)\n",
       "            (LayerNorm): LayerNorm((768,), eps=1e-12, elementwise_affine=True)\n",
       "            (dropout): Dropout(p=0.1, inplace=False)\n",
       "          )\n",
       "        )\n",
       "        (7): BertLayer(\n",
       "          (attention): BertAttention(\n",
       "            (self): BertSelfAttention(\n",
       "              (query): Linear(in_features=768, out_features=768, bias=True)\n",
       "              (key): Linear(in_features=768, out_features=768, bias=True)\n",
       "              (value): Linear(in_features=768, out_features=768, bias=True)\n",
       "              (dropout): Dropout(p=0.1, inplace=False)\n",
       "            )\n",
       "            (output): BertSelfOutput(\n",
       "              (dense): Linear(in_features=768, out_features=768, bias=True)\n",
       "              (LayerNorm): LayerNorm((768,), eps=1e-12, elementwise_affine=True)\n",
       "              (dropout): Dropout(p=0.1, inplace=False)\n",
       "            )\n",
       "          )\n",
       "          (intermediate): BertIntermediate(\n",
       "            (dense): Linear(in_features=768, out_features=3072, bias=True)\n",
       "          )\n",
       "          (output): BertOutput(\n",
       "            (dense): Linear(in_features=3072, out_features=768, bias=True)\n",
       "            (LayerNorm): LayerNorm((768,), eps=1e-12, elementwise_affine=True)\n",
       "            (dropout): Dropout(p=0.1, inplace=False)\n",
       "          )\n",
       "        )\n",
       "        (8): BertLayer(\n",
       "          (attention): BertAttention(\n",
       "            (self): BertSelfAttention(\n",
       "              (query): Linear(in_features=768, out_features=768, bias=True)\n",
       "              (key): Linear(in_features=768, out_features=768, bias=True)\n",
       "              (value): Linear(in_features=768, out_features=768, bias=True)\n",
       "              (dropout): Dropout(p=0.1, inplace=False)\n",
       "            )\n",
       "            (output): BertSelfOutput(\n",
       "              (dense): Linear(in_features=768, out_features=768, bias=True)\n",
       "              (LayerNorm): LayerNorm((768,), eps=1e-12, elementwise_affine=True)\n",
       "              (dropout): Dropout(p=0.1, inplace=False)\n",
       "            )\n",
       "          )\n",
       "          (intermediate): BertIntermediate(\n",
       "            (dense): Linear(in_features=768, out_features=3072, bias=True)\n",
       "          )\n",
       "          (output): BertOutput(\n",
       "            (dense): Linear(in_features=3072, out_features=768, bias=True)\n",
       "            (LayerNorm): LayerNorm((768,), eps=1e-12, elementwise_affine=True)\n",
       "            (dropout): Dropout(p=0.1, inplace=False)\n",
       "          )\n",
       "        )\n",
       "        (9): BertLayer(\n",
       "          (attention): BertAttention(\n",
       "            (self): BertSelfAttention(\n",
       "              (query): Linear(in_features=768, out_features=768, bias=True)\n",
       "              (key): Linear(in_features=768, out_features=768, bias=True)\n",
       "              (value): Linear(in_features=768, out_features=768, bias=True)\n",
       "              (dropout): Dropout(p=0.1, inplace=False)\n",
       "            )\n",
       "            (output): BertSelfOutput(\n",
       "              (dense): Linear(in_features=768, out_features=768, bias=True)\n",
       "              (LayerNorm): LayerNorm((768,), eps=1e-12, elementwise_affine=True)\n",
       "              (dropout): Dropout(p=0.1, inplace=False)\n",
       "            )\n",
       "          )\n",
       "          (intermediate): BertIntermediate(\n",
       "            (dense): Linear(in_features=768, out_features=3072, bias=True)\n",
       "          )\n",
       "          (output): BertOutput(\n",
       "            (dense): Linear(in_features=3072, out_features=768, bias=True)\n",
       "            (LayerNorm): LayerNorm((768,), eps=1e-12, elementwise_affine=True)\n",
       "            (dropout): Dropout(p=0.1, inplace=False)\n",
       "          )\n",
       "        )\n",
       "        (10): BertLayer(\n",
       "          (attention): BertAttention(\n",
       "            (self): BertSelfAttention(\n",
       "              (query): Linear(in_features=768, out_features=768, bias=True)\n",
       "              (key): Linear(in_features=768, out_features=768, bias=True)\n",
       "              (value): Linear(in_features=768, out_features=768, bias=True)\n",
       "              (dropout): Dropout(p=0.1, inplace=False)\n",
       "            )\n",
       "            (output): BertSelfOutput(\n",
       "              (dense): Linear(in_features=768, out_features=768, bias=True)\n",
       "              (LayerNorm): LayerNorm((768,), eps=1e-12, elementwise_affine=True)\n",
       "              (dropout): Dropout(p=0.1, inplace=False)\n",
       "            )\n",
       "          )\n",
       "          (intermediate): BertIntermediate(\n",
       "            (dense): Linear(in_features=768, out_features=3072, bias=True)\n",
       "          )\n",
       "          (output): BertOutput(\n",
       "            (dense): Linear(in_features=3072, out_features=768, bias=True)\n",
       "            (LayerNorm): LayerNorm((768,), eps=1e-12, elementwise_affine=True)\n",
       "            (dropout): Dropout(p=0.1, inplace=False)\n",
       "          )\n",
       "        )\n",
       "        (11): BertLayer(\n",
       "          (attention): BertAttention(\n",
       "            (self): BertSelfAttention(\n",
       "              (query): Linear(in_features=768, out_features=768, bias=True)\n",
       "              (key): Linear(in_features=768, out_features=768, bias=True)\n",
       "              (value): Linear(in_features=768, out_features=768, bias=True)\n",
       "              (dropout): Dropout(p=0.1, inplace=False)\n",
       "            )\n",
       "            (output): BertSelfOutput(\n",
       "              (dense): Linear(in_features=768, out_features=768, bias=True)\n",
       "              (LayerNorm): LayerNorm((768,), eps=1e-12, elementwise_affine=True)\n",
       "              (dropout): Dropout(p=0.1, inplace=False)\n",
       "            )\n",
       "          )\n",
       "          (intermediate): BertIntermediate(\n",
       "            (dense): Linear(in_features=768, out_features=3072, bias=True)\n",
       "          )\n",
       "          (output): BertOutput(\n",
       "            (dense): Linear(in_features=3072, out_features=768, bias=True)\n",
       "            (LayerNorm): LayerNorm((768,), eps=1e-12, elementwise_affine=True)\n",
       "            (dropout): Dropout(p=0.1, inplace=False)\n",
       "          )\n",
       "        )\n",
       "      )\n",
       "    )\n",
       "    (pooler): BertPooler(\n",
       "      (dense): Linear(in_features=768, out_features=768, bias=True)\n",
       "      (activation): Tanh()\n",
       "    )\n",
       "  )\n",
       "  (language_projection): Projection(\n",
       "    (projection): Linear(in_features=768, out_features=512, bias=True)\n",
       "    (dropout): Dropout(p=0.1, inplace=False)\n",
       "    (relu): ReLU()\n",
       "    (fc): Linear(in_features=512, out_features=512, bias=True)\n",
       "  )\n",
       ")"
      ]
     },
     "execution_count": 13,
     "metadata": {},
     "output_type": "execute_result"
    }
   ],
   "source": [
    "model.load_state_dict(torch.load(\"./base_statedict_3.1703879752973503.pt\", map_location=torch.device('cuda')))\n",
    "model.eval()"
   ]
  },
  {
   "cell_type": "code",
   "execution_count": 17,
   "metadata": {},
   "outputs": [
    {
     "data": {
      "text/plain": [
       "torch.Size([1, 512])"
      ]
     },
     "execution_count": 17,
     "metadata": {},
     "output_type": "execute_result"
    }
   ],
   "source": [
    "model.to('cpu')\n",
    "model.graph_model.embed({'Review': ids})"
   ]
  },
  {
   "cell_type": "code",
   "execution_count": null,
   "metadata": {},
   "outputs": [],
   "source": []
  },
  {
   "cell_type": "code",
   "execution_count": null,
   "metadata": {},
   "outputs": [],
   "source": []
  }
 ],
 "metadata": {
  "interpreter": {
   "hash": "7f0fb73b74445d6392909c9d469b21cbfa1ec308c4aeb674f6b2b586eed9f638"
  },
  "kernelspec": {
   "display_name": "DefBERT python",
   "language": "python",
   "name": "defbert"
  },
  "language_info": {
   "codemirror_mode": {
    "name": "ipython",
    "version": 3
   },
   "file_extension": ".py",
   "mimetype": "text/x-python",
   "name": "python",
   "nbconvert_exporter": "python",
   "pygments_lexer": "ipython3",
   "version": "3.8.11"
  }
 },
 "nbformat": 4,
 "nbformat_minor": 2
}
