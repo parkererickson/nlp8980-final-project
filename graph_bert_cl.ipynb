{
 "cells": [
  {
   "cell_type": "code",
   "execution_count": 9,
   "metadata": {},
   "outputs": [],
   "source": [
    "import cl_graph_bert as cgm\n",
    "import torch\n",
    "from torch import nn\n",
    "import json\n",
    "from transformers import BertModel, BertConfig, BertTokenizer, AdamW\n",
    "import tqdm\n",
    "\n",
    "from torch.utils.data import Dataset, DataLoader\n",
    "\n",
    "class ReviewDataset(torch.utils.data.Dataset):\n",
    "    def __init__(self, tokens, labels, ids):\n",
    "        self.tokens = tokens\n",
    "        self.labels = labels\n",
    "        self.ids = ids\n",
    "        \n",
    "    def __len__(self):\n",
    "        return len(self.tokens['input_ids'])\n",
    "\n",
    "    def __getitem__(self, idx):\n",
    "        item = {key: torch.tensor(val[idx]) for key, val in self.tokens.items()}\n",
    "        out = {\"tokens\": item, \"label\": self.labels[idx], \"id\": self.ids[idx]}\n",
    "        return out\n",
    "\n",
    "def process_text(filepath, batch_size):\n",
    "    reviews = []\n",
    "    data = open(filepath)\n",
    "    for line in data.readlines():\n",
    "        reviews.append(json.loads(line))\n",
    "\n",
    "    review_texts = []\n",
    "    review_scores = []\n",
    "\n",
    "    for sample in reviews:\n",
    "        if 'reviewText' in sample and 'overall' in sample:\n",
    "            review_texts.append(sample['reviewText'])\n",
    "            if sample['overall'] >= 4:\n",
    "                review_scores.append(1)\n",
    "            else:\n",
    "                review_scores.append(0)\n",
    "                \n",
    "    train_reviews = review_texts[:len(review_texts)//2]\n",
    "    train_ids = [i for i in range(0, len(review_texts)//2+1)]\n",
    "    test_reviews = review_texts[len(review_texts)//2:]\n",
    "    test_ids = [i for i in range(len(review_texts)//2, len(review_texts))]\n",
    "    train_scores = review_scores[:len(review_texts)//2]\n",
    "    test_scores = review_scores[len(review_texts)//2:]\n",
    "\n",
    "    tokenizer = BertTokenizer.from_pretrained('bert-base-uncased')\n",
    "\n",
    "    tokenized_train_reviews = tokenizer(train_reviews, return_tensors=\"pt\", padding='max_length', truncation=True)\n",
    "    tokenized_test_reviews = tokenizer(test_reviews, return_tensors=\"pt\", padding='max_length', truncation=True)\n",
    "\n",
    "    train_dataset = ReviewDataset(tokenized_train_reviews, train_scores, train_ids)\n",
    "    test_dataset = ReviewDataset(tokenized_test_reviews, test_scores, test_ids)\n",
    "\n",
    "    train_loader = DataLoader(train_dataset, batch_size=batch_size, shuffle=True)\n",
    "    test_loader = DataLoader(test_dataset, batch_size=batch_size, shuffle=True)\n",
    "    return train_loader, test_loader"
   ]
  },
  {
   "cell_type": "code",
   "execution_count": 34,
   "metadata": {},
   "outputs": [],
   "source": [
    "batch_size = 16\n",
    "train_loader, test_loader = process_text(\"../review_dataset/Industrial_and_Scientific_5.json\", batch_size)"
   ]
  },
  {
   "cell_type": "code",
   "execution_count": null,
   "metadata": {},
   "outputs": [],
   "source": [
    "import dgl\n",
    "g = dgl.load_graphs(\"./graphs/industrial_and_scientific_5_core.dgl\")[0][0]"
   ]
  },
  {
   "cell_type": "code",
   "execution_count": null,
   "metadata": {},
   "outputs": [
    {
     "name": "stderr",
     "output_type": "stream",
     "text": [
      "Some weights of the model checkpoint at bert-base-uncased were not used when initializing BertModel: ['cls.predictions.decoder.weight', 'cls.predictions.transform.dense.weight', 'cls.predictions.transform.dense.bias', 'cls.predictions.bias', 'cls.seq_relationship.bias', 'cls.seq_relationship.weight', 'cls.predictions.transform.LayerNorm.bias', 'cls.predictions.transform.LayerNorm.weight']\n",
      "- This IS expected if you are initializing BertModel from the checkpoint of a model trained on another task or with another architecture (e.g. initializing a BertForSequenceClassification model from a BertForPreTraining model).\n",
      "- This IS NOT expected if you are initializing BertModel from the checkpoint of a model that you expect to be exactly identical (initializing a BertForSequenceClassification model from a BertForSequenceClassification model).\n"
     ]
    }
   ],
   "source": [
    "model = cgm.CLIPGraphModel(\n",
    "    rel_types = g.etypes,\n",
    "    emb_types = {x: g.number_of_nodes(x) for x in g.ntypes} \n",
    ")"
   ]
  },
  {
   "cell_type": "code",
   "execution_count": null,
   "metadata": {},
   "outputs": [],
   "source": [
    "device = 'cuda'\n",
    "model.to(device)\n",
    "\n",
    "loss_function = torch.nn.CrossEntropyLoss()\n",
    "optimizer = torch.optim.Adam([{\"params\":model.language_model.parameters(),\"lr\": 0.00001},\n",
    "                              {\"params\":model.graph_model.parameters(), \"lr\": 0.001},\n",
    "                              {\"params\":model.language_projection.parameters(), \"lr\": 0.001},\n",
    "                              {\"params\":model.graph_projection.parameters(), \"lr\": 0.001}])"
   ]
  },
  {
   "cell_type": "code",
   "execution_count": null,
   "metadata": {},
   "outputs": [],
   "source": [
    "def tokens_to_cuda(tokens, device):\n",
    "    dictionary = {}\n",
    "    for key, value in tokens.items():\n",
    "        dictionary[key] = value.to(device)\n",
    "    return dictionary"
   ]
  },
  {
   "cell_type": "code",
   "execution_count": 7,
   "metadata": {},
   "outputs": [
    {
     "name": "stderr",
     "output_type": "stream",
     "text": [
      "  0%|                                                  | 0/1606 [00:00<?, ?it/s]/tmp/ipykernel_2556236/3120124057.py:20: UserWarning: To copy construct from a tensor, it is recommended to use sourceTensor.clone().detach() or sourceTensor.clone().detach().requires_grad_(True), rather than torch.tensor(sourceTensor).\n",
      "  item = {key: torch.tensor(val[idx]) for key, val in self.tokens.items()}\n",
      "100%|███████████████████████████████████████| 1606/1606 [11:27<00:00,  2.33it/s]\n",
      "100%|███████████████████████████████████████| 1606/1606 [04:23<00:00,  6.10it/s]\n"
     ]
    },
    {
     "name": "stdout",
     "output_type": "stream",
     "text": [
      "End of Epoch 0\n",
      "Training loss: tensor(5097.8134, device='cuda:0', dtype=torch.float64, grad_fn=<AddBackward0>)\n",
      "Test loss: tensor(5097.1077, device='cuda:0', dtype=torch.float64)\n"
     ]
    },
    {
     "name": "stderr",
     "output_type": "stream",
     "text": [
      "100%|███████████████████████████████████████| 1606/1606 [11:26<00:00,  2.34it/s]\n",
      "100%|███████████████████████████████████████| 1606/1606 [04:23<00:00,  6.10it/s]\n"
     ]
    },
    {
     "name": "stdout",
     "output_type": "stream",
     "text": [
      "End of Epoch 1\n",
      "Training loss: tensor(5096.3267, device='cuda:0', dtype=torch.float64, grad_fn=<AddBackward0>)\n",
      "Test loss: tensor(5096.3042, device='cuda:0', dtype=torch.float64)\n"
     ]
    }
   ],
   "source": [
    "epochs = 2\n",
    "\n",
    "model.train()\n",
    "\n",
    "for epoch in range(epochs):\n",
    "    epoch_loss = 0\n",
    "    for batch in tqdm.tqdm(train_loader):\n",
    "        optimizer.zero_grad()\n",
    "        \n",
    "        tokens = tokens_to_cuda(batch['tokens'], device)\n",
    "        loss = model(g.to(device), tokens, batch[\"id\"].to(device))[\"loss\"]    \n",
    "                \n",
    "        epoch_loss += loss\n",
    "        \n",
    "        loss.backward()\n",
    "        optimizer.step()\n",
    "       \n",
    "    val_loss = 0\n",
    "    with torch.no_grad():\n",
    "        for batch in tqdm.tqdm(test_loader):\n",
    "            tokens = tokens_to_cuda(batch['tokens'], device)\n",
    "            loss = model(g.to(device), tokens, batch[\"id\"].to(device))[\"loss\"]\n",
    "\n",
    "            val_loss += loss\n",
    "        \n",
    "    print(\"End of Epoch\", epoch)\n",
    "    print(\"Training loss:\", epoch_loss)\n",
    "    print(\"Test loss:\", val_loss)"
   ]
  },
  {
   "cell_type": "code",
   "execution_count": 28,
   "metadata": {},
   "outputs": [],
   "source": [
    "class BertGraphMLP(nn.Module):\n",
    "    def __init__(self, model, encoder=\"language_emb\", num_labels=2, finetune=False):\n",
    "        super(BertGraphMLP, self).__init__()\n",
    "        self.num_labels = num_labels\n",
    "        self.BertGraph = model\n",
    "        self.encoder = encoder\n",
    "        self.classifier = nn.Linear(512, num_labels)\n",
    "\n",
    "    def forward(self, tokens):\n",
    "        if finetune:\n",
    "            out = self.BertGraph(g, tokens, ids)\n",
    "        else:\n",
    "            with torch.no_grad():\n",
    "                out = self.BertGraph(g, tokens, ids)\n",
    "        if self.encoder == \"language_emb\":\n",
    "            embs = out[\"language_emb\"]\n",
    "        elif self.encoder == \"graph_emb\":\n",
    "            embs = out[\"graph_emb\"]\n",
    "        elif self.encoder == \"mean\":\n",
    "            embs = (out[\"langauge_emb\"] + out[\"graph_emb\"])/2\n",
    "        else:\n",
    "            raise(\"Not Implemented\")\n",
    "        logits = self.classifier(embs)\n",
    "        return logits\n"
   ]
  },
  {
   "cell_type": "code",
   "execution_count": null,
   "metadata": {},
   "outputs": [
    {
     "name": "stderr",
     "output_type": "stream",
     "text": [
      "  0%|                                                  | 0/2409 [00:00<?, ?it/s]/tmp/ipykernel_2556236/3120124057.py:20: UserWarning: To copy construct from a tensor, it is recommended to use sourceTensor.clone().detach() or sourceTensor.clone().detach().requires_grad_(True), rather than torch.tensor(sourceTensor).\n",
      "  item = {key: torch.tensor(val[idx]) for key, val in self.tokens.items()}\n",
      "100%|███████████████████████████████████████| 2409/2409 [09:44<00:00,  4.12it/s]\n"
     ]
    },
    {
     "name": "stdout",
     "output_type": "stream",
     "text": [
      "tensor(135.6381, device='cuda:0', grad_fn=<AddBackward0>)\n"
     ]
    },
    {
     "name": "stderr",
     "output_type": "stream",
     "text": [
      " 24%|█████████▋                              | 585/2409 [02:22<07:23,  4.11it/s]"
     ]
    }
   ],
   "source": [
    "import torch.nn.functional as F\n",
    "\n",
    "def evaluate_review_sentiment(model, encoder, finetune=False):\n",
    "    eval_model = BertGraphMLP(model, encoder, finetune=finetune)\n",
    "\n",
    "    loss_function = torch.nn.CrossEntropyLoss()\n",
    "    optimizer = torch.optim.Adam(\n",
    "        [\n",
    "            {\"params\":eval_model.classifier.parameters(), \"lr\": 0.001},       \n",
    "    ])\n",
    "\n",
    "    epochs = 10\n",
    "    device= 'cuda'\n",
    "    eval_model.to(device)\n",
    "\n",
    "    eval_model.BertGraph.eval()\n",
    "    preds = []\n",
    "\n",
    "    for epoch in tqdm.tqdm(range(epochs)):\n",
    "        epoch_loss = 0\n",
    "        for batch in tqdm.tqdm(train_loader):\n",
    "            optimizer.zero_grad()  \n",
    "            tokens = tokens_to_cuda(batch['tokens'], device)\n",
    "            embs = eval_model(tokens)  \n",
    "            loss = loss_function(embs, batch['label'].to(device)) / batch_size\n",
    "            epoch_loss += loss\n",
    "            loss.backward()\n",
    "            optimizer.step()    \n",
    "        print(epoch_loss)\n",
    "\n",
    "    model.eval()\n",
    "    preds = []\n",
    "\n",
    "    with torch.no_grad():\n",
    "        for batch in tqdm.tqdm(test_loader):\n",
    "            tokens = tokens_to_cuda(batch['tokens'], device)\n",
    "            scores = F.softmax(model(tokens))\n",
    "            preds.extend(torch.round(F.softmax(scores)[:,1]).to(torch.int64))\n",
    "\n",
    "    from sklearn.metrics import f1_score, accuracy_score, precision_score, recall_score\n",
    "\n",
    "    preds_cpu = [i.to('cpu') for i in preds]\n",
    "    print(\"End of training f1 score accuracy\", f1_score(test_scores, preds_cpu))\n",
    "    print(\"End of training accuracy\", accuracy_score(test_scores, preds_cpu))\n",
    "    print(\"End of training precision\", precision_score(test_scores, preds_cpu))\n",
    "    print(\"End of training recall\", recall_score(test_scores, preds_cpu))"
   ]
  },
  {
   "cell_type": "code",
   "execution_count": null,
   "metadata": {},
   "outputs": [],
   "source": [
    "enc_methods = [\"language_emb\", \"graph_emb\", \"mean\"]\n",
    "\n",
    "for method in enc_methods:\n",
    "    print(\"====== EVALUATING:\", method, \"======\")\n",
    "    evaluate_review_sentiment(model, method)"
   ]
  }
 ],
 "metadata": {
  "interpreter": {
   "hash": "7f0fb73b74445d6392909c9d469b21cbfa1ec308c4aeb674f6b2b586eed9f638"
  },
  "kernelspec": {
   "display_name": "Python 3 (ipykernel)",
   "language": "python",
   "name": "python3"
  },
  "language_info": {
   "codemirror_mode": {
    "name": "ipython",
    "version": 3
   },
   "file_extension": ".py",
   "mimetype": "text/x-python",
   "name": "python",
   "nbconvert_exporter": "python",
   "pygments_lexer": "ipython3",
   "version": "3.8.11"
  }
 },
 "nbformat": 4,
 "nbformat_minor": 2
}
